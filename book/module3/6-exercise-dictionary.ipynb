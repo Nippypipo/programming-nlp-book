{
 "cells": [
  {
   "cell_type": "markdown",
   "metadata": {},
   "source": [
    "# โจทย์: ดิกชันนารี"
   ]
  },
  {
   "cell_type": "markdown",
   "metadata": {},
   "source": [
    "## ข้อ 1. ตัดเกรด\n",
    "เขียนฟังก์ชันที่ตัดเกรดให้กับนักเรียนโดยที่ดูจากคะแนนการสอบสองครั้งที่ผ่านมา คะแนนสอบแต่ละครั้งนั้นถูกเก็บในรูปของ dictionary ที่ key=ชื่อนักเรียน value=คะแนนสอบ 0-10 คะแนน ถ้านักเรียนไม่ได้เข้าสอบชื่อก็จะไม่ได้อยู่ใน dictionary  เรามีเกณฑ์การตัดเกรดง่ายๆ ดังนี้\n",
    "- นักเรียนที่สอบผ่านทั้งสองครั้ง (คะแนน > 5 ทั้งสองครั้ง) จะได้ A\n",
    "- นักเรียนที่สอบผ่านแค่ครั้งเดียว จะได้ B\n",
    "- นักเรียนที่สอบไม่ผ่านเลย จะได้ C\n",
    "- นักเรียนที่เข้าสอบไม่ครบทั้งสองครั้งจะได้ M \n",
    "\n",
    "Input: คะแนนสอบครั้งที่ 1 และ คะแนนสอบครั้งที่ 2 เป็น dictionary\n",
    "\n",
    "Output: dictionary ที่ key=ชื่อนักเรียนที่เข้าสอบอย่างน้อยหนึ่งครั้ง value=เกรด string A, B,C หรือ M\n",
    "\n",
    "ตัวอย่าง\n",
    "```\n",
    ">>> midterm = {'Rick': 5.5, 'Michonne': 2, 'Carol': 9, 'Daryl': 7}\n",
    ">>> final = {'Rick': 6, 'Michonne': 5, 'Carol': 4}  \n",
    ">>> assign_grades(midterm, final) \n",
    "{'Rick': 'A', 'Michonne':'C', 'Carol': 'B', 'Daryl': 'M'}\n",
    "```"
   ]
  },
  {
   "cell_type": "code",
   "execution_count": null,
   "metadata": {},
   "outputs": [],
   "source": [
    "def assign_grades(midterm, final):\n",
    "\treturn {}"
   ]
  },
  {
   "cell_type": "markdown",
   "metadata": {
    "id": "xK_zR_QdXQaf"
   },
   "source": [
    "## 1. สนุกกำลังสอง\n",
    "\n",
    "เขียนฟังก์ชันที่รับค่า n แล้ว return dictionary ที่มี key ตั้งแต่ 1 ถึง n โดย value ของแต่ละตัวคือ key ยกกำลังสอง เช่น\n",
    "\n",
    "```python \n",
    "squared_dict(3)  \n",
    ">>> { 1: 1, 2: 4, 3: 9 }\n",
    "```\n",
    "\n",
    "```python\n",
    "squared_dict(5) \n",
    ">>> { 1: 1, 2: 4, 3: 9, 4: 16, 5: 25 }\n",
    "```"
   ]
  },
  {
   "cell_type": "code",
   "execution_count": null,
   "metadata": {
    "id": "fUb9HwUbXQaj"
   },
   "outputs": [],
   "source": []
  },
  {
   "cell_type": "markdown",
   "metadata": {
    "id": "qrLliswdXQaw"
   },
   "source": [
    "## 2. สร้าง dictionary\n",
    "สมมติว่าเรามี list ของคำศัพท์ และ list ของคำแปล\n",
    "\n",
    "```python\n",
    "english_list = ['computer', 'dog', 'floor']\n",
    "thai_list = ['คอมพิวเตอร์', 'หมา', 'พื้น']\n",
    "```\n",
    "\n",
    "เขียนฟังก์ชันที่สร้าง `dict` ที่ key คือคำภาษาอังกฤษ และ value คือคำแปลภาษาไทย\n",
    "\n",
    "```python\n",
    "en_th_dict = make_en_th_dictionary(english_list, thai_list)\n",
    "en_th_dict['dog']\n",
    ">>> 'หมา'\n",
    "```"
   ]
  },
  {
   "cell_type": "code",
   "execution_count": null,
   "metadata": {
    "id": "aWNx3MOGXQay"
   },
   "outputs": [],
   "source": []
  },
  {
   "cell_type": "markdown",
   "metadata": {
    "id": "cj1LTnguXQa7"
   },
   "source": [
    "## 3. โนโน่ชอบกินผลไม้\n",
    "\n",
    "\n",
    "โนโน่เป็นคนชอบเขียนโปรแกรมและกินผลไม้มาก โนโน่เลยเก็บจำนวนผลไม้ที่มีในตู้เย็นไว้ใน python dictionary เช่น `{ \"apple\": 1, \"banana\": 2 }` คือมีแอปเปิ้ล 1 ลูก กล้วย 2 ลูก ต่อมา โนโน่ซื้อตู้เย็นมาอีกตู้ จึงมี dictionary อีกอันหนึ่งไว้เก็บจำนวนผลไม้\n",
    "\n",
    "โนโน่อยากรู้จำนวนผลไม้ที่มีทั้งหมด ช่วยโนโน่หน่อย เขียนฟังก์ชันที่รับ dictionary 2 ตัวเป็น parameters (คือ dictionary ที่แทนผลไม้ในตู้ที่ 1 และ 2 ตามลำดับ) และ return dictionary แสดงจำนวนผลไม้ทั้งหมด เช่น\n",
    "\n",
    "```python\n",
    "count_fruits({\"apple\": 1, \"banana\": 2}, {\"apple\": 3, \"banana\": 4})\n",
    ">>> {\"apple\": 4, \"banana\": 6}\n",
    "```\n",
    "```python\n",
    "count_fruits({\"apple\": 5, \"banana\": 7, \"papaya\": 9}, {\"apple\": 3, \"banana\": 5, \"papaya\": 7}) \n",
    ">>> {\"apple\": 8, \"banana\": 12, \"papaya\": 16}\n",
    "```\n",
    "\n",
    "เพื่อความง่าย ให้ถือว่าชนิดของผลไม้ที่โนโน่มีในตู้เย็นเหมือนกันทั้งสองตู้ (ถ้าตู้แรกมีแอปเปิ้ล ตู้ที่สองก็มีด้วย ถ้าตู้ที่สองมีองุ่น ตู้แรกก็มีด้วย)"
   ]
  },
  {
   "cell_type": "code",
   "execution_count": null,
   "metadata": {
    "id": "rIN0sRFqXQa9"
   },
   "outputs": [],
   "source": []
  },
  {
   "cell_type": "markdown",
   "metadata": {
    "id": "SKop0zx6JBhl"
   },
   "source": [
    "## 4. Simplify\n",
    "สมมติว่าเราต้องการทำให้ข้อความเข้าใจง่ายขึ้นโดยการแทนที่คำยากด้วยคำง่าย โดยเราจะเก็บคู่ของคำยาก คำง่ายไว้ใน ใน dictionary ดังนี้\n",
    "```\n",
    "censor_dict = {\n",
    "    'utilize': 'use',\n",
    "    'eulogize': 'praise',\n",
    "    'annihilate': 'destroy',\n",
    "    'apprise': 'warn',\n",
    "    'impending': 'upcoming'\n",
    "}\n",
    "```\n",
    "เขียนฟังก์ชั่นที่เปลี่ยน string ภาษาอังกฤษ เป็น string ที่คำยากถูกแทนด้วยคำง่ายที่อยู่ใน dictionary\n",
    "\n",
    "Hint:\n",
    "\n",
    "* เปลี่ยน `text` ให้เป็น list ก่อน\n",
    "* จากนั้นก็เช็คว่าคำในลิสต์อยู่ในดิกมั้ย ถ้าอยู่ก็แก้ไขลิสต์ตรงตำแหน่งนั้น (ใช้ `for i in range(len(...))`)"
   ]
  },
  {
   "cell_type": "code",
   "execution_count": null,
   "metadata": {
    "id": "KOEd9jh6JBhm"
   },
   "outputs": [],
   "source": [
    "def simplify_eng(text):\n",
    "    censor_dict = {\n",
    "        'utilize': 'use',\n",
    "        'eulogize': 'praise',\n",
    "        'annihilate': 'destroy',\n",
    "        'apprise': 'warn',\n",
    "        'impending': 'upcoming'\n",
    "    }\n",
    "    \n",
    "    return ''"
   ]
  },
  {
   "cell_type": "markdown",
   "metadata": {
    "id": "FLZHb_hMXQbG"
   },
   "source": [
    "## 5. Proflookup\n",
    "\n",
    "ไฟล์ชนิดหนึ่งที่มักจะเจอในการจัดการกับข้อมูลคือไฟล์ csv (comma-separated values) แต่ละบรรทัดของไฟล์ csv จะเป็นข้อความที่คั่นด้วยเครื่องหมาย comma (,) และมีจำนวน \"ท่อน\" ที่คั่นด้วย comma เท่ากัน เช่น ไฟล์ csv อาจจะมีเนื้อหาแบบด้านล่าง (มี 3 \"ท่อน\" ที่คั่นด้วย comma)\n",
    "\n",
    "```\n",
    "แมว,หมู,หมา\n",
    "กา,ไก่,กุ้ง\n",
    "```\n",
    "\n",
    "ใน directory corpora จะมีไฟล์ csv อยู่ไฟล์หนึ่ง คือไฟล์ [proflookup.csv](https://drive.google.com/open?id=1AYOVmPIR6W4BVCLCAKsZ29UvtchNfmL8) ซึ่งเก็บข้อมูลตำแหน่งอาจารย์ ชื่อ-นามสกุล และตัวย่อในฐานข้อมูลของ reg chula ของภาคภาษาศาสตร์และภาคบรรณารักษ์ แต่ละบรรทัดมีรูปแบบดังนี้\n",
    "\n",
    "```\n",
    "ตำแหน่งอาจารย์,ชื่อ-นามสกุลอาจารย์,ตัวย่อ\n",
    "```\n",
    "\n",
    "เช่น 5 บรรทัดแรกของไฟล์เป็นแบบนี้\n",
    "\n",
    "```\n",
    "ศาสตราจารย์ ดร.,กิ่งกาญจน์ เทพกาญจนา,KTN\n",
    "รองศาสตราจารย์ ดร.,วิโรจน์ อรุณมานะกุล,WAK\n",
    "ผู้ช่วยศาสตราจารย์ ดร.,ธีราภรณ์  รติธรรมกุล,TRK\n",
    "ศาสตราจารย์ ดร.,ธีระพันธ์  เหลืองทองคำ,TLK\n",
    "รองศาสตราจารย์ ดร.,พิทยาวัฒน์  พิทยาภรณ์,PPP\n",
    "```\n",
    "\n",
    "จงเขียนฟังก์ชันที่เปิดและใช้ข้อมูลจากไฟล์ [proflookup.csv](https://drive.google.com/open?id=1AYOVmPIR6W4BVCLCAKsZ29UvtchNfmL8) และ return dictionary ที่มี key เป็นตัวย่อ และ value เป็นตำแหน่งอาจารย์ และตามด้วยชื่อ-นามสกุลของอาจารย์ นั่นคือ ถ้าทำถูกจะต้อง return \n",
    "\n",
    "```python\n",
    "{ \"KTN\": \"ศาสตราจารย์ ดร.กิ่งกาญจน์ เทพกาญจนา\", \"WAK\": \"รองศาสตราจารย์ ดร.วิโรจน์ อรุณมานะกุล\", ... }\n",
    "```\n",
    "\n",
    "โดยลำดับอาจจะไม่เป็นอย่างนี้ก็ได้ (dictionary เป็น data structure ที่ไม่มีลำดับ) แต่ต้องเก็บข้อมูลอาจารย์ในไฟล์ให้ครบทุกคน"
   ]
  },
  {
   "cell_type": "code",
   "execution_count": null,
   "metadata": {
    "id": "2ZtMlz0wXQbI"
   },
   "outputs": [],
   "source": [
    "\n",
    "for line in open('proflookup.csv'):\n",
    "    print (line)\n",
    "    "
   ]
  },
  {
   "cell_type": "markdown",
   "metadata": {
    "id": "IFJNT7NgXQbR"
   },
   "source": [
    "## 6. สุนทรพจน์ของโอบามา\n",
    "\n",
    "ไฟล์ [obama.txt](https://drive.google.com/file/d/1iA1s-yNIhdCQvo4BS8d7CVBICHZs4okt/view) มีสุนทรพจน์ของโอบามาในปี 2013 แต่ไฟล์นี้มีความพิเศษตรงที่มี Part of speech tag นั่นคือ แต่ละคำในไฟล์จะมีบอกไว้ด้วยว่าเป็น noun, verb, pronoun หรือเครื่องหมายวรรคตอนแบบต่าง ๆ เช่น ประโยค\n",
    "\n",
    "```\n",
    "Thank you. God bless you, and may He forever bless these United States of America.\n",
    "```\n",
    "\n",
    "จะปรากฏในไฟล์เป็น\n",
    "\n",
    "```\n",
    "Thank_VV you_PP ._SENT God_NP bless_VVP you_PP ,_, and_CC may_MD He_PP forever_RB bless_VV these_DT United_NP States_NPS of_IN America_NP ._SENT\n",
    "```\n",
    "\n",
    "โดยที่แต่ละคำและเครื่องหมายวรรคตอนจะถูกตามด้วยเครื่องหมาย _ และตัวหนังสือพิมพ์ใหญ่ทั้งหมด ซึ่งตัวพิมพ์ใหญ่ที่ตามมาเป็นตัวย่อที่บอกว่า Part of speech ของมันคืออะไร (เรียกว่า tag) เช่น VV แปลว่า Verb, PP แปลว่า Pronouns, NN แปลว่า noun, SENT แปลว่าเป็นจุด full stop\n",
    "\n",
    "1. เขียนโปรแกรมเพื่อนับว่าความถี่ part-of-speech แต่ละอันเป็นเท่าไร\n",
    "2. เขียนโปรแกรมหาคำที่พบมากที่สุด 100 อันดับ \n",
    "\n",
    "Hint:\n",
    "\n",
    "* ลองทดสอบกับข้อความตัวอย่างข้างบนก่อน\n",
    "* ตัด string ออกมาเป็นคำ ๆ เป็น list\n",
    "* iterate ไปบน list และแยกคำกับ part-of-speech ออกจากกัน\n",
    "* ใช้ `Counter` ในการเก็บความถี่ \n",
    "* พอข้างบนเสร็จแล้วค่อยลองเปิดไฟล์ และอ่านทีละบรรทัด"
   ]
  },
  {
   "cell_type": "code",
   "execution_count": null,
   "metadata": {
    "id": "f9aw6p8xXQbT"
   },
   "outputs": [],
   "source": []
  }
 ],
 "metadata": {
  "colab": {
   "name": "PC6 Dictionary and Reading from Files.ipynb",
   "provenance": []
  },
  "kernelspec": {
   "display_name": "Python 3.8.12",
   "language": "python",
   "name": "python3"
  },
  "language_info": {
   "codemirror_mode": {
    "name": "ipython",
    "version": 3
   },
   "file_extension": ".py",
   "mimetype": "text/x-python",
   "name": "python",
   "nbconvert_exporter": "python",
   "pygments_lexer": "ipython3",
   "version": "3.8.12"
  },
  "vscode": {
   "interpreter": {
    "hash": "34368ba4908ea1be08ba769dfb7764ab7f8ead2384ebb5604cb86637573696f7"
   }
  }
 },
 "nbformat": 4,
 "nbformat_minor": 4
}
