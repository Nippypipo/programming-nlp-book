{
 "cells": [
  {
   "cell_type": "markdown",
   "metadata": {},
   "source": [
    "# เฉลยโจทย์: Comprehension\n",
    "## ข้อ 1: List comprehension 1\n",
    "จงเปลี่ยนลิสต์ของชื่อให้เป็นลิสต์ที่มีแต่ชื่อภาษาอังกฤษ และชื่อภาษาอังกฤษจะต้องถูกเปลี่ยนเป็นชื่อที่ขึ้นต้นด้วยตัวใหญ่ที่เหลือตัวเล็กทั้งหมด ให้เขียนสองแบบ\n",
    "- แบบแรกให้เขียนโดยใช้ for loop ธรรมดา\n",
    "- แบบที่สองให้เขียนโดยใช้ list comprehension"
   ]
  },
  {
   "cell_type": "code",
   "execution_count": null,
   "metadata": {},
   "outputs": [],
   "source": [
    "names = ['aaron', 'leigH', 'เต้', 'jOHN']\n",
    "# List comprehension"
   ]
  },
  {
   "cell_type": "markdown",
   "metadata": {},
   "source": [
    "## ข้อ 2: List comprehension 2\n",
    "Given a list of English words, **use list comprehension** to create a list of words that are all capitalized. You must also exclude words that are shorter than two characters."
   ]
  },
  {
   "cell_type": "code",
   "execution_count": null,
   "metadata": {},
   "outputs": [],
   "source": [
    "tokens = ['Fruit', 'flies', 'do', 'like', 'bananas', '.']\n"
   ]
  },
  {
   "cell_type": "markdown",
   "metadata": {},
   "source": [
    "## ข้อ 3: List comprehension 3\n",
    "เขียน List comprehension \n",
    "- input เป็นลิสต์ของคำ (strings) เช่น `['monKey', 'roach', 'Eve', 'oo', 'Jim']`\n",
    "- output ลิสต์ของคำทั้งหมดแต่ว่าให้เอาสระออกให้หมด เช่น `['mnKy', 'rch', 'v', '', 'Jm']`"
   ]
  },
  {
   "cell_type": "code",
   "execution_count": null,
   "metadata": {},
   "outputs": [],
   "source": [
    "word_list = ['monKey', 'roach', 'Eve', 'oo', 'Jim']\n"
   ]
  },
  {
   "cell_type": "markdown",
   "metadata": {},
   "source": [
    "## ข้อ 4: Dictionary comprehension 1\n",
    "Given a list words, create a dictionary whose keys are a word and values are the length of the word. \n",
    "\n"
   ]
  },
  {
   "cell_type": "code",
   "execution_count": null,
   "metadata": {},
   "outputs": [],
   "source": [
    "tokens = ['Fruit', 'flies', 'like', 'bananas', '.']"
   ]
  },
  {
   "cell_type": "markdown",
   "metadata": {},
   "source": [
    "## ข้อ 5: Dictionary comprehension 2\n",
    "Given two lists of words that are translations of each other, create a dictionary whose key is an English and whose value is the French translation of that word. And keep only English words that are longer than 3 characters."
   ]
  },
  {
   "cell_type": "code",
   "execution_count": null,
   "metadata": {},
   "outputs": [],
   "source": [
    "english_words = ['chair', 'pen', 'eraser', 'computer']\n",
    "french_words = ['chaise', 'stylo', 'gomme', 'ordinateur']\n"
   ]
  },
  {
   "cell_type": "markdown",
   "metadata": {},
   "source": [
    "## ข้อ 6: Dictionary comprehension 3\n",
    "จงเขียน dictionary comprehension \n",
    "\n",
    "- Input: ลิสต์ของคำ `['baby', 'baby', 'baby', 'oh', '...', 'baby', 'baby', 'no','!']`\n",
    "- Output: ดิกต์ที่มี key เป็นคำ และ value เป็นอันดับของคำตามความถี่ เช่น `{'baby': 1, 'oh': 2, '...': 3, 'no': 4, '!': 5}`\n",
    "\n",
    "Hint: ใช้ `Counter` นับคำก่อนหลังจากนั้นเขียน dict comprehension โดยใช้ `Counter.most_common` เป็น input\n"
   ]
  },
  {
   "cell_type": "code",
   "execution_count": null,
   "metadata": {},
   "outputs": [],
   "source": [
    "word_list = ['baby', 'baby', 'baby', 'oh', '...', 'baby', 'baby', 'no','!']\n",
    "\n"
   ]
  }
 ],
 "metadata": {
  "language_info": {
   "name": "python"
  }
 },
 "nbformat": 4,
 "nbformat_minor": 2
}
