{
 "cells": [
  {
   "cell_type": "markdown",
   "metadata": {
    "id": "6L6KUtgV3VT2"
   },
   "source": [
    "# เฉลยโจทย์: ลิสต์"
   ]
  },
  {
   "cell_type": "markdown",
   "metadata": {},
   "source": [
    "## ข้อ 1. สลากกินแบ่ง"
   ]
  },
  {
   "cell_type": "code",
   "execution_count": 1,
   "metadata": {},
   "outputs": [],
   "source": [
    "def lottery_check(lottery_numbers, first, end2):\n",
    "    \"\"\"\n",
    "\n",
    "\tตัวอย่าง\n",
    "    >>> lottery_check(['613728'], '613728', '28')\n",
    "    [6005000, '613728']\n",
    "\n",
    "    >>> lottery_check(['382982', '428121'], '613728', '28')\n",
    "    [0]\n",
    "\n",
    "    >>> lottery_check(['382982', '417328', '012828'], '613728', '28')\n",
    "    [10000, '417328', '012828']\n",
    "\n",
    "    \"\"\"\n",
    "    prize = 0\n",
    "    winning_lotteries = []\n",
    "    for lottery in lottery_numbers:\n",
    "        # check first prize\n",
    "        if lottery == first:\n",
    "            prize = prize + 6000000\n",
    "            winning_lotteries.append(lottery)\n",
    "\n",
    "        # check last two digits\n",
    "        last_two_digits = lottery[-2:]\n",
    "        if last_two_digits == end2:\n",
    "            prize = prize + 5000\n",
    "            if lottery not in winning_lotteries:\n",
    "                winning_lotteries.append(lottery)\n",
    "    return [prize] + winning_lotteries\n",
    "    #result = [prize]\n",
    "    #result.extend(winning_lotteries)\n",
    "    #return result"
   ]
  },
  {
   "cell_type": "code",
   "execution_count": 22,
   "metadata": {},
   "outputs": [
    {
     "name": "stdout",
     "output_type": "stream",
     "text": [
      "[6005000, '613728']\n",
      "[0]\n",
      "[10000, '417328', '012828']\n"
     ]
    }
   ],
   "source": [
    "print(lottery_check(['613728'], '613728', '28'))\n",
    "# [6005000, '613728']\n",
    "\n",
    "print(lottery_check(['382982', '428121'], '613728', '28')\n",
    ")# [0]\n",
    "\n",
    "print(lottery_check(['382982', '417328', '012828'], '613728', '28')\n",
    ")# [10000, '417328', '012828']\n"
   ]
  },
  {
   "cell_type": "markdown",
   "metadata": {},
   "source": [
    "## ข้อ 2. ลิสต์อาหาร\n",
    "\n"
   ]
  },
  {
   "cell_type": "code",
   "execution_count": 21,
   "metadata": {},
   "outputs": [],
   "source": [
    "def select_ingredients(ingredients , prohibited):\n",
    "\tselect_ingredients = []\n",
    "\t# วนลูปเพื่อเข้าถึงสมาชิกแต่ละตัวในลิสต์วัตถุดิบอาหารที่เพื่อนจะทำ\n",
    "\tfor ingredient in ingredients:\n",
    "\t\t# ถ้าวัตถุดิบของอาหารนี้ไม่อยู่ในลิสต์ของวัตถุดิบที่เด็กไม่กินก็ใส่เข้าลิสต์ของวัตถุดิบที่สามารถใช้ได้\n",
    "\t\tif ingredient not in prohibited:\n",
    "\t\t\tselect_ingredients.append(ingredient)\n",
    "\treturn select_ingredients"
   ]
  },
  {
   "cell_type": "code",
   "execution_count": 18,
   "metadata": {},
   "outputs": [],
   "source": [
    "ingredients = ['คะน้า', 'กระเทียม', 'น้ำมันหอย', 'หมูกรอบ', 'น้ำปลา', 'พริกไทย', 'ปลาเค็ม']\n",
    "prohibited = ['น้ำปลา', 'กระเทียม', 'ปลาเค็ม', 'มะนาว']"
   ]
  },
  {
   "cell_type": "code",
   "execution_count": 20,
   "metadata": {},
   "outputs": [
    {
     "data": {
      "text/plain": [
       "['คะน้า', 'น้ำมันหอย', 'หมูกรอบ', 'พริกไทย']"
      ]
     },
     "execution_count": 20,
     "metadata": {},
     "output_type": "execute_result"
    }
   ],
   "source": [
    "select_ingredients(ingredients , prohibited)"
   ]
  },
  {
   "cell_type": "markdown",
   "metadata": {},
   "source": [
    "## ข้อ 3. a/an"
   ]
  },
  {
   "cell_type": "code",
   "execution_count": 2,
   "metadata": {},
   "outputs": [],
   "source": [
    "def correct_indefinite_article(sentence):\n",
    "  \"\"\"\n",
    "\tตัวอย่าง\n",
    "\t>>> correct_article('A elephant steps on an piece of wood in a forest')\n",
    "\t'An elephant steps on a piece of wood in a forest\n",
    "\t\"\"\"\n",
    "  result_list = []\n",
    "  # 1. ตัดคำ\n",
    "  words = sentence.split(' ')\n",
    "  # 2. iterate over words, using index\n",
    "  i = 0\n",
    "  while i <= (len(words) - 2):\n",
    "    word1 = words[i]\n",
    "    word2 = words[i+1]\n",
    "    # 3. check if word (word2) starts with vowel\n",
    "    first_letter = word2[0].lower()\n",
    "    # if first_letter == 'a' or first_letter == 'e' or first_letter == 'i' or first_letter == 'o' or first_letter == 'u':\n",
    "    if first_letter in 'aeiou':\n",
    "      # word2 starts with vowel\n",
    "      if word1 == 'an' or word1 == 'An':\n",
    "        pass\n",
    "      elif word1 == 'a' or word1 == 'A':\n",
    "        word1 = 'an'\n",
    "    else:\n",
    "      # word2 starts with consonant\n",
    "      if word1 == 'a' or word1 == 'A':\n",
    "        pass\n",
    "      elif word1 == 'an' or word1 == 'An':\n",
    "        word1 = 'a'\n",
    "    result_list.append(word1)\n",
    "    i = i + 1\n",
    "\n",
    "  result_list.append(words[len(words)-1])\n",
    "  result_string = ' '.join(result_list)\n",
    "  result_string = result_string.capitalize()\n",
    "\n",
    "  return result_string"
   ]
  },
  {
   "cell_type": "code",
   "execution_count": 3,
   "metadata": {},
   "outputs": [
    {
     "data": {
      "text/plain": [
       "'An elephant steps on a piece of wood in a forest'"
      ]
     },
     "execution_count": 3,
     "metadata": {},
     "output_type": "execute_result"
    }
   ],
   "source": [
    "correct_indefinite_article('A elephant steps on an piece of wood in a forest')"
   ]
  },
  {
   "cell_type": "markdown",
   "metadata": {
    "id": "JSuZnn9V3VT_"
   },
   "source": [
    "## ข้อ 4. ทำความสะอาดข้อมูล"
   ]
  },
  {
   "cell_type": "code",
   "execution_count": 4,
   "metadata": {
    "id": "5jYxwsYn3VUA"
   },
   "outputs": [],
   "source": [
    "def str_to_clean_list(text):\n",
    "  \"\"\" Turn English text into clean words\n",
    "\n",
    "\tExample:\n",
    "\t>>> str_to_clean_list(\"I will not give up on this. If I feel tired, I will take a rest.\")\n",
    "\t['I','will','not','give','up','on','this','If','I','feel','tired','I','will','take','a','rest']\n",
    "  \"\"\"\n",
    "  \"\"\"\n",
    "\tแนวทางการคิด\n",
    "\t1. ควรเอาเครื่องหมายวรรคตอนออกจากสตริงก่อน\n",
    "\t2. ใช้ method .split()\n",
    "  \"\"\"\n",
    "  # 1. remove punctutations\n",
    "  string_punc_removed = ''\n",
    "  for char in text:\n",
    "    if char in '.,!?:':\n",
    "      pass\n",
    "    else:\n",
    "      string_punc_removed = string_punc_removed + char\n",
    "\n",
    "  # 2. split\n",
    "  words = string_punc_removed.split(' ')\n",
    "  return words"
   ]
  },
  {
   "cell_type": "code",
   "execution_count": 5,
   "metadata": {},
   "outputs": [
    {
     "data": {
      "text/plain": [
       "['I',\n",
       " 'will',\n",
       " 'not',\n",
       " 'give',\n",
       " 'up',\n",
       " 'on',\n",
       " 'this',\n",
       " 'If',\n",
       " 'I',\n",
       " 'feel',\n",
       " 'tired',\n",
       " 'I',\n",
       " 'will',\n",
       " 'take',\n",
       " 'a',\n",
       " 'rest']"
      ]
     },
     "execution_count": 5,
     "metadata": {},
     "output_type": "execute_result"
    }
   ],
   "source": [
    "str_to_clean_list(\"I will not give up on this. If I feel tired, I will take a rest.\")"
   ]
  },
  {
   "cell_type": "markdown",
   "metadata": {
    "id": "GWmsiqWFmXrY"
   },
   "source": [
    "## ข้อ 5. ความยาวเฉลี่ยของคำ"
   ]
  },
  {
   "cell_type": "code",
   "execution_count": 7,
   "metadata": {
    "id": "kHhbw7tRmXra"
   },
   "outputs": [],
   "source": [
    "def compute_mean_number_of_words(text):\n",
    "  # remove punctuation and split\n",
    "  words = str_to_clean_list(text)\n",
    "\n",
    "  # วิธีที่ 1: for loop ปกติ\n",
    "  \"\"\"\n",
    "  word_length_list = []\n",
    "  for w in words:\n",
    "  word_length_list.append(len(w))\n",
    "  \"\"\"\n",
    "  # วิธีที่ 2: list comprehension\n",
    "  word_length_list = [len(w) for w in words]\n",
    "\n",
    "  # คำนวณผลรวมยาวความของคำ\n",
    "  total_word_length = sum(word_length_list)\n",
    "\n",
    "  # คำนวณค่าเฉลี่ยความยาวของคำ\n",
    "  average_word_length = total_word_length / len(words)\n",
    "  return average_word_length"
   ]
  },
  {
   "cell_type": "code",
   "execution_count": 8,
   "metadata": {},
   "outputs": [
    {
     "data": {
      "text/plain": [
       "2.875"
      ]
     },
     "execution_count": 8,
     "metadata": {},
     "output_type": "execute_result"
    }
   ],
   "source": [
    "compute_mean_number_of_words(\"I will not give up on this. If I feel tired, I will take a rest.\")"
   ]
  },
  {
   "cell_type": "markdown",
   "metadata": {
    "id": "oNFK24XW3VT7"
   },
   "source": [
    "## ข้อ 6. ตรวจข้อสอบ"
   ]
  },
  {
   "cell_type": "code",
   "execution_count": 42,
   "metadata": {
    "id": "gg2V5vgj3VT8"
   },
   "outputs": [],
   "source": [
    "def grade_exam(correct_list, answer_list):\n",
    "  \"\"\"\n",
    "    >>> check_exam(['a','b','d','a','c'], ['a','a','b','d','a'])\n",
    "    (1, [1, 0, 0, 0, 0])\n",
    "    >>> check_exam(['a','b','d','a','c'], ['a','b','d','a','c'])\n",
    "    (5, [1, 1, 1, 1, 1])\n",
    "  \"\"\"\n",
    "  i = 0\n",
    "  score = 0\n",
    "  # ใช้ while loop เพื่อให้สามารถวนลูปเข้าถึงสมาชิกของลิสต์ทั้งสองอันได้ในเวลาเดียวกันจะได้นำสมาชิกสองตัวมาเปรียบเทียบกันได้\n",
    "  while i < len(correct_list):\n",
    "      # ดึงคำตอบที่ถูกต้องและคำตอบของนักเรียนจากรายการตามลำดับ\n",
    "      correct_answer = correct_list[i]\n",
    "      student_answer = answer_list[i]\n",
    "      # เพิ่มคะแนนหากคำตอบของนักเรียนตรงกับคำตอบที่ถูกต้อง\n",
    "      if correct_answer == student_answer:\n",
    "          score += 1\n",
    "      # ไม่เพิ่มคะแนนหากคำตอบไม่ตรงกับคำตอบที่ถูกต้อง\n",
    "      else:\n",
    "          score += 0\n",
    "      i += 1\n",
    "\n",
    "  # คำนวณเปอร์เซ็นต์คะแนนที่ได้จากจำนวนคำตอบที่ถูกต้อง\n",
    "  percentage = score / len(correct_list) * 100\n",
    "  return percentage"
   ]
  },
  {
   "cell_type": "code",
   "execution_count": 40,
   "metadata": {},
   "outputs": [
    {
     "data": {
      "text/plain": [
       "20.0"
      ]
     },
     "execution_count": 40,
     "metadata": {},
     "output_type": "execute_result"
    }
   ],
   "source": [
    "grade_exam(['a','b','d','a','c'], ['a','a','b','d','a'])\n",
    "# (1, [1, 0, 0, 0, 0])"
   ]
  },
  {
   "cell_type": "code",
   "execution_count": 41,
   "metadata": {},
   "outputs": [
    {
     "data": {
      "text/plain": [
       "100.0"
      ]
     },
     "execution_count": 41,
     "metadata": {},
     "output_type": "execute_result"
    }
   ],
   "source": [
    "grade_exam(['a','b','d','a','c'], ['a','b','d','a','c'])\n",
    "# (5, [1, 1, 1, 1, 1])"
   ]
  },
  {
   "cell_type": "markdown",
   "metadata": {
    "id": "_CjTm-9P3VUG"
   },
   "source": [
    "## ข้อ 7. เปลี่ยนตัว"
   ]
  },
  {
   "cell_type": "code",
   "execution_count": 30,
   "metadata": {
    "id": "LYMD7sNQ3VUG"
   },
   "outputs": [],
   "source": [
    "# วิธีที่ 1\n",
    "def sub_name(old_guest, new_guest, guest_list):\n",
    "    # หาดัชนีของแขกเก่าใน guest_list\n",
    "    index = guest_list.index(old_guest)\n",
    "    # ลบชื่อแขกเก่าออกจาก guest_list\n",
    "    guest_list.remove(old_guest)\n",
    "    # แทรกชื่อแขกใหม่ลงใน guest_list ที่ดัชนีเดียวกับแขกเก่า\n",
    "    guest_list.insert(index, new_guest)\n"
   ]
  },
  {
   "cell_type": "code",
   "execution_count": 26,
   "metadata": {},
   "outputs": [
    {
     "name": "stdout",
     "output_type": "stream",
     "text": [
      "['Tony', 'Elan', 'Thomas', 'Bonus', 'Jane']\n"
     ]
    }
   ],
   "source": [
    "name_list = [\"Tony\", \"Elan\", \"Bee\", \"Bonus\", \"Jane\"]\n",
    "sub_name(\"Bee\", \"Thomas\", name_list)\n",
    "print(name_list)"
   ]
  },
  {
   "cell_type": "code",
   "execution_count": 29,
   "metadata": {},
   "outputs": [],
   "source": [
    "# วิธีที่ 2\n",
    "def sub_name(old_guest, new_guest, guest_list):\n",
    "    # 1. หาชื่อกับตำแหน่งของคนที่มาไม่ได้ => for loop โดยใช้ index\n",
    "    # 2. แทนชื่อของคนนั้นด้วยชื่อของคนมาได้แทน => ใช้ index ในการเปลี่ยน\n",
    "    # เช่น list = ['A', 'B', 'C'] สามารถเปลี่ยนค่าแรกของ list ได้โดย list[0] = 'D'\n",
    "\t\tfor i in range(len(guest_list)):\n",
    "\t\t\t\tif guest_list[i] == old_guest:\n",
    "\t\t\t\t\t\tguest_list[i] = new_guest\n",
    "\t\tprint(guest_list)"
   ]
  },
  {
   "cell_type": "markdown",
   "metadata": {
    "id": "LLZJUZjR3VUI"
   },
   "source": [
    "## ข้อ 8. คำนวณสถิติ"
   ]
  },
  {
   "cell_type": "code",
   "execution_count": 31,
   "metadata": {
    "id": "5eRHsEie3VUI"
   },
   "outputs": [],
   "source": [
    "# วิธีที่ 1\n",
    "def stats_summary(number_list):\n",
    "  min_stat = min(number_list)\n",
    "  max_stat = max(number_list)\n",
    "  range_stat = max_stat - min_stat\n",
    "  index_med = len(number_list) // 2\n",
    "  median = sorted(number_list)[index_med]\n",
    "  mean = sum(number_list) / len(number_list)\n",
    "  print (f'Min = {min_stat}\\nMax = {max_stat}\\nRange = {range_stat}\\nMedian = {median}\\nMean = {mean}')"
   ]
  },
  {
   "cell_type": "code",
   "execution_count": 32,
   "metadata": {},
   "outputs": [
    {
     "name": "stdout",
     "output_type": "stream",
     "text": [
      "Min = 4\n",
      "Max = 11\n",
      "Range = 7\n",
      "Median = 8\n",
      "Mean = 7.681818181818182\n"
     ]
    }
   ],
   "source": [
    "score_nlps = [6, 5, 10, 8, 7, 11, 5.5, 4, 8, 9, 11]\n",
    "stats_summary(score_nlps)\n",
    "# Min = 4\n",
    "# Max = 11\n",
    "# Range = 7\n",
    "# Median = 8\n",
    "# Mean = 7.68"
   ]
  },
  {
   "cell_type": "code",
   "execution_count": null,
   "metadata": {},
   "outputs": [],
   "source": [
    "# วิธีที่ 2\n",
    "def stats_summary(number_list):\n",
    "    sorted_list = sorted(number_list)\n",
    "    min = sorted_list[0]\n",
    "    max = sorted_list[-1]\n",
    "    range = max-min\n",
    "    median = sorted_list[len(number_list) // 2]\n",
    "    mean = sum(number_list) / len(number_list)\n",
    "    ### หรือสามารถหา mean ด้วยการ for loop อัปเดตค่าเข้าตัวแปรเรื่อย ๆ\n",
    "    summary = 0\n",
    "    for number in number_list:\n",
    "        summary += number\n",
    "    mean = summary / len(number_list)\n",
    "\n",
    "    print('Min = ', min)\n",
    "    print('Max = ' + str(max))\n",
    "    print(f'Range = {range}')\n",
    "    print(f'Median = {median}')\n",
    "    print(f'Mean = {mean}')"
   ]
  },
  {
   "cell_type": "markdown",
   "metadata": {},
   "source": [
    "## ข้อ 9. เลือกคำ"
   ]
  },
  {
   "cell_type": "code",
   "execution_count": 33,
   "metadata": {},
   "outputs": [],
   "source": [
    "# วิธีที่ 1\n",
    "def select_words_from_mask(word_list, mask_list):\n",
    "    \"\"\" Select words from a list\n",
    "\n",
    "    Example\n",
    "\n",
    "    >>> tokenized_sentence = ['She', 'went', 'to', 'eat', 'pizza', 'at', 'Huahin' ,'yesterday']\n",
    "    >>> mask = [0, 0, 0, 0, 1, 0, 1, 0]\n",
    "    >>> select_words_from_mask(tokenized_sentence, mask)\n",
    "    ['pizza', 'Huahin']\n",
    "    \"\"\"\n",
    "    \"\"\"\n",
    "    แนวทางการคิด\n",
    "    1. เช็คว่าใช่คำที่เราสนใจมั้ย\n",
    "    2. append เข้าไปในลิสต์ใหม่\n",
    "    3. return ลิสต์ใหม่\n",
    "    \"\"\"\n",
    "    result_list = []\n",
    "    for i in range(len(word_list)):\n",
    "      word = word_list[i]\n",
    "      mask = mask_list[i]\n",
    "      if mask == 0:\n",
    "        pass\n",
    "      else:\n",
    "        result_list.append(word)\n",
    "    return result_list"
   ]
  },
  {
   "cell_type": "code",
   "execution_count": 34,
   "metadata": {},
   "outputs": [
    {
     "data": {
      "text/plain": [
       "['pizza', 'Huahin']"
      ]
     },
     "execution_count": 34,
     "metadata": {},
     "output_type": "execute_result"
    }
   ],
   "source": [
    "tokenized_sentence = ['She', 'went', 'to', 'eat', 'pizza', 'at', 'Huahin' ,'yesterday']\n",
    "mask = [0, 0, 0, 0, 1, 0, 1, 0]\n",
    "select_words_from_mask(tokenized_sentence, mask)"
   ]
  },
  {
   "cell_type": "code",
   "execution_count": 35,
   "metadata": {},
   "outputs": [],
   "source": [
    "# วิธีที่ 2\n",
    "def select_words_from_mask(word_list, mask_list):\n",
    "    # create a list of interest words\n",
    "    result = []\n",
    "    for i in range(len(word_list)):\n",
    "      if mask_list[i] == 1:\n",
    "        result.append(word_list[i])\n",
    "    return result"
   ]
  },
  {
   "cell_type": "code",
   "execution_count": 36,
   "metadata": {},
   "outputs": [],
   "source": [
    "# วิธีที่ 3: for loop แบบ enumerate\n",
    "def select_words_from_mask(word_list, mask_list):\n",
    "    # create a list of interest words\n",
    "    result = []\n",
    "    for i, word in enumerate(word_list):\n",
    "      if mask_list[i] == 1:\n",
    "        result.append(word)\n",
    "    return result"
   ]
  }
 ],
 "metadata": {
  "colab": {
   "collapsed_sections": [],
   "name": "PC5 Lists.ipynb",
   "provenance": []
  },
  "kernelspec": {
   "display_name": "Python 3.8.12",
   "language": "python",
   "name": "python3"
  },
  "language_info": {
   "codemirror_mode": {
    "name": "ipython",
    "version": 3
   },
   "file_extension": ".py",
   "mimetype": "text/x-python",
   "name": "python",
   "nbconvert_exporter": "python",
   "pygments_lexer": "ipython3",
   "version": "3.9.13"
  },
  "vscode": {
   "interpreter": {
    "hash": "34368ba4908ea1be08ba769dfb7764ab7f8ead2384ebb5604cb86637573696f7"
   }
  }
 },
 "nbformat": 4,
 "nbformat_minor": 4
}
