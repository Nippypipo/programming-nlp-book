{
 "cells": [
  {
   "cell_type": "markdown",
   "metadata": {
    "id": "6L6KUtgV3VT2"
   },
   "source": [
    "# เฉลยโจทย์: ลิสต์"
   ]
  },
  {
   "cell_type": "code",
   "execution_count": 1,
   "metadata": {},
   "outputs": [],
   "source": [
    "def lottery_check(lottery_numbers, first, end2):\n",
    "    \"\"\"\n",
    "\n",
    "\tตัวอย่าง\n",
    "    >>> lottery_check(['613728'], '613728', '28')\n",
    "    [6005000, '613728']\n",
    "\n",
    "    >>> lottery_check(['382982', '428121'], '613728', '28')\n",
    "    [0]\n",
    "\n",
    "    >>> lottery_check(['382982', '417328', '012828'], '613728', '28')\n",
    "    [10000, '417328', '012828']\n",
    "\n",
    "    \"\"\"\n",
    "    prize = 0\n",
    "    winning_lotteries = []\n",
    "    for lottery in lottery_numbers:\n",
    "        # check first prize\n",
    "        if lottery == first:\n",
    "            prize = prize + 6000000\n",
    "            winning_lotteries.append(lottery)\n",
    "\n",
    "        # check last two digits\n",
    "        last_two_digits = lottery[-2:]\n",
    "        if last_two_digits == end2:\n",
    "            prize = prize + 5000\n",
    "            if lottery not in winning_lotteries:\n",
    "                winning_lotteries.append(lottery)\n",
    "    return [prize] + winning_lotteries\n",
    "    #result = [prize]\n",
    "    #result.extend(winning_lotteries)\n",
    "    #return result"
   ]
  },
  {
   "cell_type": "code",
   "execution_count": null,
   "metadata": {},
   "outputs": [],
   "source": [
    "def select_ingredients(list1, list2):\n",
    "\treturn []"
   ]
  },
  {
   "cell_type": "code",
   "execution_count": 7,
   "metadata": {},
   "outputs": [],
   "source": [
    "def correct_indefinite_article(sentence):\n",
    "    \"\"\"\n",
    "    ตัวอย่าง\n",
    "    >>> correct_article('A elephant steps on an piece of wood in a forest')\n",
    "    'An elephant steps on a piece of wood in a forest\n",
    "    \"\"\"\n",
    "    result = []\n",
    "    word_list = sentence.split(' ')\n",
    "    for word_index, word in enumerate(word_list[:-1]):\n",
    "        if word == 'a' or word =='A':\n",
    "            next_word = word_list[word_index + 1]\n",
    "            if next_word[0] in 'aeiouAEIOU':\n",
    "                word = word + 'n'\n",
    "        elif word == 'an' or word == 'An':\n",
    "            next_word = word_list[word_index + 1]\n",
    "            if next_word[0] not in 'aeiouAEIOU':\n",
    "                word = word[0]\n",
    "        result.append(word)\n",
    "    return ' '.join(result)"
   ]
  },
  {
   "cell_type": "code",
   "execution_count": null,
   "metadata": {
    "id": "5jYxwsYn3VUA"
   },
   "outputs": [],
   "source": [
    "# Your code here\n",
    "def str_to_list(text):\n",
    "\treturn []"
   ]
  },
  {
   "cell_type": "code",
   "execution_count": null,
   "metadata": {
    "id": "kHhbw7tRmXra"
   },
   "outputs": [],
   "source": [
    "def compute_mean_number_of_words(text):\n",
    "    return 0"
   ]
  },
  {
   "cell_type": "code",
   "execution_count": null,
   "metadata": {
    "id": "gg2V5vgj3VT8"
   },
   "outputs": [],
   "source": [
    "# Your code here\n",
    "def remove_repetitions(li):\n",
    "    return []"
   ]
  },
  {
   "cell_type": "code",
   "execution_count": null,
   "metadata": {
    "id": "LYMD7sNQ3VUG"
   },
   "outputs": [],
   "source": [
    "def sub_name(old_guest, new_guest, guest_list):\n",
    "    pass"
   ]
  },
  {
   "cell_type": "code",
   "execution_count": null,
   "metadata": {
    "id": "5eRHsEie3VUI"
   },
   "outputs": [],
   "source": [
    "def stats_summary(number_list):\n",
    "    print ('')"
   ]
  }
 ],
 "metadata": {
  "colab": {
   "collapsed_sections": [],
   "name": "PC5 Lists.ipynb",
   "provenance": []
  },
  "kernelspec": {
   "display_name": "Python 3 (ipykernel)",
   "language": "python",
   "name": "python3"
  },
  "language_info": {
   "codemirror_mode": {
    "name": "ipython",
    "version": 3
   },
   "file_extension": ".py",
   "mimetype": "text/x-python",
   "name": "python",
   "nbconvert_exporter": "python",
   "pygments_lexer": "ipython3",
   "version": "3.8.12"
  },
  "vscode": {
   "interpreter": {
    "hash": "34368ba4908ea1be08ba769dfb7764ab7f8ead2384ebb5604cb86637573696f7"
   }
  }
 },
 "nbformat": 4,
 "nbformat_minor": 4
}
