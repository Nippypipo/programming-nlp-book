{
 "cells": [
  {
   "cell_type": "markdown",
   "metadata": {},
   "source": [
    "# โจทย์: Set และ nested data structures"
   ]
  },
  {
   "cell_type": "markdown",
   "metadata": {
    "id": "nRf6KwzDmVce",
    "tags": []
   },
   "source": [
    "## ข้อ 1. Unique Words\n",
    "Write a function that accepts a string of whitespace separated words and return the words after removing all duplicate words in an alphanumerically-sorted order, separated by `|`. You can assume that the input is in lowercase.\n",
    "\n",
    "Example input: `'hello world and practice makes perfect and hello world again'`<br/>\n",
    "Output: `'again|and|hello|makes|perfect|practice|world'`\n",
    "\n",
    "Hint: use `set()` for this problem."
   ]
  },
  {
   "cell_type": "code",
   "execution_count": null,
   "metadata": {
    "id": "_jCwyif0mVcf"
   },
   "outputs": [],
   "source": [
    "def unique_words(text):\n",
    "    return ''"
   ]
  },
  {
   "cell_type": "code",
   "execution_count": null,
   "metadata": {
    "id": "w8GkDG6YmVck"
   },
   "outputs": [],
   "source": [
    "inp = 'hello world and practice makes perfect and hello world again'\n",
    "expected_out = 'again|and|hello|makes|perfect|practice|world'\n",
    "\n",
    "if unique_words(inp) == expected_out:\n",
    "    print('Correct!')\n",
    "else:\n",
    "    print('Incorrect')"
   ]
  },
  {
   "cell_type": "markdown",
   "metadata": {
    "id": "SXIMUtiKmVcn"
   },
   "source": [
    "## ข้อ 2. Duplicate Characters?\n",
    "Write a function to find whether a given string has unique characters (case-sensitive). Your function should return True/False.\n",
    "\n",
    "Example input: `'just'`<br/>\n",
    "Output: `True`\n",
    "\n",
    "Example input: `'Alexander'`<br/>\n",
    "Output: `False`\n",
    "\n",
    "Hint: use `set()` to count the number of unique characters and compare it with the number of total characters."
   ]
  },
  {
   "cell_type": "code",
   "execution_count": null,
   "metadata": {
    "id": "vMgarQg3mVco"
   },
   "outputs": [],
   "source": [
    "def isDuplicateCharacter(word):\n",
    "    return ''"
   ]
  },
  {
   "cell_type": "code",
   "execution_count": null,
   "metadata": {
    "id": "WaxFoeQjmVct"
   },
   "outputs": [],
   "source": [
    "if isDuplicateCharacter('just') and not isDuplicateCharacter('Alexander'):\n",
    "    print('Correct!')\n",
    "else:\n",
    "    print('Incorrect')"
   ]
  },
  {
   "cell_type": "markdown",
   "metadata": {
    "id": "NkCiK8REmVcw"
   },
   "source": [
    "## ข้อ 3. Business Opportunity\n",
    "You are hired to write a function to find out what items sold in store A that store B doesn't carry. You will be given two lists of items sold in store A and B respectively. Your output should be a list, but it's order does not matter.\n",
    "\n",
    "However, your boss **hates** loops. Therefore, your code **must not** contain any kinds of loops: `for`, `while`.\n",
    "\n",
    "Example input: `['razor blade', 'soap', 'shampoo', 'liquid detergent', 'toothbrush']` and `['soap', 'conditioner', 'shampoo', 'toothpaste']` <br/>\n",
    "Output: `['razor blade', 'liquid detergent', 'toothbrush']`\n",
    "\n",
    "Hint: use `set()` and `.difference()`"
   ]
  },
  {
   "cell_type": "code",
   "execution_count": null,
   "metadata": {
    "id": "x2jh8_HGmVcw"
   },
   "outputs": [],
   "source": [
    "def opportuneItems(storeA_items, storeB_items):\n",
    "    # Your implementation here\n",
    "    # You CANNOT use for or while in your code\n",
    "    return []"
   ]
  },
  {
   "cell_type": "code",
   "execution_count": null,
   "metadata": {
    "id": "7eZkVh5GmVc0"
   },
   "outputs": [],
   "source": [
    "itemA = ['razor blade', 'soap', 'shampoo', 'liquid detergent', 'toothbrush']\n",
    "itemB = ['soap', 'conditioner', 'shampoo', 'toothpaste']\n",
    "print(opportuneItems(itemA, itemB))"
   ]
  },
  {
   "cell_type": "markdown",
   "metadata": {
    "id": "2ALys98GmVc5"
   },
   "source": [
    "## ข้อ 4. Sum of scores\n",
    "You are provided with a list of lists of students' scores along the semester. Your task is to write a function that sum each student's scores and assign a grade according to the following scheme:\n",
    "\n",
    "|score|grade|\n",
    "|---|---|\n",
    "|>=60 |pass|\n",
    "|<60|fail|\n",
    "\n",
    "The function should return a list of tuples where each tuple contains the student's score and grade, and the tuples are in the same order as the input list.\n",
    "\n",
    "**Example Input:** `[[10, 15, 30, 15], [2, 12, 25, 18]]` <br/>\n",
    "**Example Output:** `[(70, 'pass'), (57, 'fail')]`"
   ]
  },
  {
   "cell_type": "code",
   "execution_count": null,
   "metadata": {
    "id": "Uitug1v2mVc5"
   },
   "outputs": [],
   "source": [
    "def sumScores(lists):\n",
    "    return []"
   ]
  },
  {
   "cell_type": "markdown",
   "metadata": {
    "id": "fbbDfyYGmVc9"
   },
   "source": [
    "## ข้อ 5. Contact List\n",
    "จงเขียนโปรแกรมที่สร้าง List of tuples (name, line id) จาก nested dictionary โดยเรียงลำดับตามอักษรของชื่อ<br>\n",
    "\n",
    "ทำเสร็จแล้วควรจะได้ผลลัพธ์ดังนี้\n",
    "~~~python\n",
    ">>> [('Alex', 'alexcool'), ('Bo', 'bobo'), ('Chris', 'chrissie'), ('Doug', 'dougd')]\n",
    "~~~"
   ]
  },
  {
   "cell_type": "code",
   "execution_count": null,
   "metadata": {
    "id": "b9nUWHmamVc-"
   },
   "outputs": [],
   "source": [
    "def contactList(contacts):\n",
    "    return []"
   ]
  },
  {
   "cell_type": "code",
   "execution_count": null,
   "metadata": {
    "id": "xatjZcGSmVdB"
   },
   "outputs": [],
   "source": [
    "contacts = {\n",
    "    'Alex' : {'phone': '123-456-789', 'line': 'alexcool'},\n",
    "    'Bo': {'home phone': '111-222-3333', 'line': 'bobo'},\n",
    "    'Chris': {'phone': '444-555-6666', 'line': 'chrissie'},\n",
    "    'Doug': {'mobile phone': '444-555-6666', 'line': 'dougd'}   \n",
    "}\n",
    "\n",
    "print(contactList(contacts))"
   ]
  },
  {
   "cell_type": "markdown",
   "metadata": {
    "id": "v2s3DkMsnW0U"
   },
   "source": [
    "## ข้อ 6. Look up by last name\n",
    "\n"
   ]
  },
  {
   "cell_type": "code",
   "execution_count": null,
   "metadata": {
    "id": "WtCBbSCwnW0U"
   },
   "outputs": [],
   "source": [
    "def lookup_by_lastname(last_name, data):\n",
    "    pass"
   ]
  },
  {
   "cell_type": "code",
   "execution_count": null,
   "metadata": {
    "id": "Jnrj_GE9nW0X"
   },
   "outputs": [],
   "source": [
    "name_to_phone = \n",
    "{ ('Mark', 'Wahlberg') : '111-222-3333',\n",
    "  ('Jane', 'Doe'): '222-333-4444',\n",
    "  ('Jane', 'Eyre'): '333-444-5555'\n",
    "}\n",
    "\n",
    "lookup_by_lastname('Doe', name_to_phone_numbers)\n",
    "\n"
   ]
  },
  {
   "cell_type": "markdown",
   "metadata": {
    "id": "bv-Y7fgsnW0Z"
   },
   "source": [
    "## ข้อ 7. Name to age - Age to name\n",
    "\n",
    "\n",
    "เปลี่ยนจาก\n",
    "```\n",
    "name_to_age = {'ชญา': 33, \n",
    "         'อรรถพล': 34,\n",
    "         'โนโซมิ': 34}\n",
    "```\n",
    "ให้เป็น\n",
    "\n",
    "```\n",
    "age_to_name = {33: ['ชญา'], \n",
    "         34: ['อรรถพล', 'โนโซมิ']\n",
    "```\n",
    "Hint: ต้องสร้าง list เปล่าของแต่ละอายุก่อนที่จะ append "
   ]
  },
  {
   "cell_type": "code",
   "execution_count": null,
   "metadata": {
    "id": "eNoT7tG7nW0Z"
   },
   "outputs": [],
   "source": [
    "name_to_age = {'ชญา': 33, \n",
    "         'อรรถพล': 34,\n",
    "         'โนโซมิ': 34}"
   ]
  },
  {
   "cell_type": "markdown",
   "metadata": {
    "id": "VPrMd-DFnW0c"
   },
   "source": [
    "## ข้อ 8. How popular are they?\n",
    "\n",
    "เขียนฟังก์ชันหาจำนวน comment ของ tweet id ที่กำหนดให้"
   ]
  },
  {
   "cell_type": "code",
   "execution_count": null,
   "metadata": {
    "id": "XZm4bbqdnW0c"
   },
   "outputs": [],
   "source": [
    "def sum_comments_for_id(tweet_id, tweet_list):\n",
    "    return 0"
   ]
  },
  {
   "cell_type": "code",
   "execution_count": null,
   "metadata": {
    "id": "lfb6HYJqnW0e",
    "outputId": "276126cc-0d04-4a21-ad36-0e37e96f03bc"
   },
   "outputs": [
    {
     "data": {
      "text/plain": [
       "0"
      ]
     },
     "execution_count": 5,
     "metadata": {
      "tags": []
     },
     "output_type": "execute_result"
    }
   ],
   "source": [
    "data = [ {'id': 'BarackObama', 'date': 'October 17, 2019', 'num comments': 243000,\n",
    "  'num retweets': 37200, 'num fav': 250300, 'text': 'I was proud to work with Justin Trudeau as President'},\n",
    " {'id': 'SpeakerPelosi', 'date': 'October 17, 2019', 'num comments': 22700,\n",
    "  'num retweets': 10000, 'num fav': 45600, 'text': 'What courage does it take to pass legislation that will save lives?'},\n",
    " {'id': 'BarackObama', 'date': 'October 15, 2019', 'num comments': 2000,\n",
    "  'num retweets': 5400, 'num fav': 52800, 'text': 'In December, Michelle and I will head to Malaysia for the first @ObamaFoundation Leaders: Asia-Pacific gathering'}\n",
    "]\n",
    "\n",
    "sum_comments_for_id('BarackObama', data)\n"
   ]
  },
  {
   "cell_type": "markdown",
   "metadata": {
    "id": "63LtT1sunW0i"
   },
   "source": [
    "## ข้อ 9. เปลี่ยนคีย์\n",
    "\n",
    "เปลี่ยนโครงสร้างของ dictionary จากที่เคยมี key เป็น tuple(first name, last name) เป็นแค่ last name อย่างเดียว"
   ]
  },
  {
   "cell_type": "code",
   "execution_count": null,
   "metadata": {
    "id": "pNwtGARGnW0i"
   },
   "outputs": [],
   "source": [
    "name_to_phone = \n",
    "{ ('Mark', 'Wahlberg') : '111-222-3333',\n",
    "  ('Jane', 'Doe'): '222-333-4444',\n",
    "  ('Jane', 'Eyre'): '333-444-5555'\n",
    "}\n",
    "\n"
   ]
  },
  {
   "cell_type": "markdown",
   "metadata": {
    "id": "V7JlJHWnnW0l"
   },
   "source": [
    "## ข้อ 10. นับจำนวนนักเรียน\n",
    "\n",
    "\n",
    "สมมติว่าเรามีข้อมูลการลงทะเบียนเรียนใน dict (string->list of strings) เขียนฟังก์ชันที่ return list ของชื่อนักเรียนทั้งหมดที่ไม่ซ้ำกัน"
   ]
  },
  {
   "cell_type": "code",
   "execution_count": null,
   "metadata": {
    "id": "ef2iR68YnW0l"
   },
   "outputs": [],
   "source": [
    "def list_all_students(registration):\n",
    "    return []"
   ]
  },
  {
   "cell_type": "code",
   "execution_count": null,
   "metadata": {
    "id": "TPHuRuffnW0o",
    "outputId": "0489332e-a258-4fa4-f4bc-699760719554"
   },
   "outputs": [
    {
     "data": {
      "text/plain": [
       "[]"
      ]
     },
     "execution_count": 8,
     "metadata": {
      "tags": []
     },
     "output_type": "execute_result"
    }
   ],
   "source": [
    "registration = {\n",
    "    'CompLing': ['Andy', 'Brittney', 'Catherine'],\n",
    "    'SoundSys': ['Andy', 'Brittney', 'Donald', 'Elaine', 'Fodor'],\n",
    "    'GramSys': ['Brittney', 'Girth', 'Harry'],\n",
    "    'ManGeog': ['Andy', 'Donald', 'Girth']\n",
    "}\n",
    "\n",
    "list_all_students(registration)"
   ]
  },
  {
   "cell_type": "markdown",
   "metadata": {
    "id": "6nBJPZxpnW0q"
   },
   "source": [
    "## ข้อ 11. ใครชอบเรียนเยอะ\n",
    "\n",
    "\n",
    "สมมติว่าเรามีข้อมูลการลงทะเบียนเรียนใน dict (string->list of strings) เขียนฟังก์ชันที่ return dict ที่ key คือจำนวนคลาสที่เรียนต่อคน และ value คือคนที่เรียนจำนวนคลาสเท่านั้น\n",
    "\n",
    "```\n",
    "{3: ['Andy', 'Brittney'],\n",
    " 2: ['Donald', 'Girth'],\n",
    " 1: ['Catherine', 'Elaine', 'Fodor', 'Harry']}\n",
    "```\n",
    "\n",
    "Andy กับ Brittney เรียนสามวิชา \n",
    "\n",
    "Donald กับ Girth เรียนสองวิชา"
   ]
  },
  {
   "cell_type": "code",
   "execution_count": null,
   "metadata": {
    "id": "Z3nginpPLC8i"
   },
   "outputs": [],
   "source": [
    "registration = {\n",
    "    'GramSys': ['Andy','Brittney','Donald','Catherine','Fodor'],\n",
    "    'SoundSys': ['Andy','Brittney','Donald','Girth','Harry'],\n",
    "    'CompLing': ['Andy','Brittney','Girth','Elaine']\n",
    "}"
   ]
  },
  {
   "cell_type": "code",
   "execution_count": null,
   "metadata": {
    "id": "AEwoEddcnW0r"
   },
   "outputs": [],
   "source": [
    "def get_num_classes_to_students(registration):\n",
    "    return {}"
   ]
  },
  {
   "cell_type": "code",
   "execution_count": null,
   "metadata": {
    "id": "mx0EAwtXnW0t",
    "outputId": "c9d4db40-88fc-402d-88f6-6dc726fbea42"
   },
   "outputs": [
    {
     "data": {
      "text/plain": [
       "{}"
      ]
     },
     "execution_count": 16,
     "metadata": {
      "tags": []
     },
     "output_type": "execute_result"
    }
   ],
   "source": [
    "get_num_classes_to_students(registration)"
   ]
  },
  {
   "cell_type": "markdown",
   "metadata": {
    "id": "tbqllZTRnW0v"
   },
   "source": [
    "## ข้อ 12. Combine dicts\n",
    "\n",
    "Write a program that combines two dictionaries where the keys and values are strings. The program returns a dictionary where the keys are strings and the values are lists of strings. \n",
    "```\n",
    "dict1 = {'a': 'ant', 'b': 'bird', 'c':'caterpillar'}\n",
    "dict2 = {'a': 'ant', 'c': 'cat', 'd': 'dog'}\n",
    "combine_dicts(dict1 , dict2)\n",
    ">>> {'a': ['ant', 'ant'], \n",
    "     'b': ['bird'], \n",
    "     'c': ['caterpillar','cat'], \n",
    "     'd':['dog']}\n",
    "```"
   ]
  },
  {
   "cell_type": "code",
   "execution_count": null,
   "metadata": {
    "id": "mv8LTKmknW0w"
   },
   "outputs": [],
   "source": [
    "def combine_dicts(d1, d2):\n",
    "    return {}"
   ]
  },
  {
   "cell_type": "code",
   "execution_count": null,
   "metadata": {
    "id": "oPxsvlJ0nW0y",
    "outputId": "e889249c-0085-446d-81ad-aba7fcf4db1d"
   },
   "outputs": [
    {
     "data": {
      "text/plain": [
       "{}"
      ]
     },
     "execution_count": 14,
     "metadata": {
      "tags": []
     },
     "output_type": "execute_result"
    }
   ],
   "source": [
    "dict1 = {'a': 'ant', 'b': 'bird', 'c':'caterpillar'}\n",
    "dict2 = {'a': 'ant', 'c': 'cat', 'd': 'dog'}\n",
    "combine_dicts(dict1 , dict2)"
   ]
  }
 ],
 "metadata": {
  "colab": {
   "collapsed_sections": [],
   "name": "PC12b.ipynb",
   "provenance": []
  },
  "kernelspec": {
   "display_name": "Python 3 (ipykernel)",
   "language": "python",
   "name": "python3"
  },
  "language_info": {
   "codemirror_mode": {
    "name": "ipython",
    "version": 3
   },
   "file_extension": ".py",
   "mimetype": "text/x-python",
   "name": "python",
   "nbconvert_exporter": "python",
   "pygments_lexer": "ipython3",
   "version": "3.8.12"
  },
  "vscode": {
   "interpreter": {
    "hash": "34368ba4908ea1be08ba769dfb7764ab7f8ead2384ebb5604cb86637573696f7"
   }
  }
 },
 "nbformat": 4,
 "nbformat_minor": 4
}
