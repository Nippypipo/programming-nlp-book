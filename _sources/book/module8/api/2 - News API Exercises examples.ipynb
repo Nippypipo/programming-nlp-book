{
 "cells": [
  {
   "cell_type": "markdown",
   "metadata": {},
   "source": [
    "# News API\n",
    "Explore the [News API](https://newsapi.org/) website. It is different from the Poke API in the previous exercise in a way that you now need to register for an account before retrieving any data from the website.\n",
    "\n",
    "Go ahead and register for an account.\n",
    "\n",
    "After that, an **API Key** will be shown. Copy it and save it in a variable because you will need to use it quite often."
   ]
  },
  {
   "cell_type": "code",
   "execution_count": 1,
   "metadata": {},
   "outputs": [],
   "source": [
    "api_key = 'f37d137947df47a39acab6779e0bfece'"
   ]
  },
  {
   "cell_type": "markdown",
   "metadata": {},
   "source": [
    "Next, go to your account page. You will see that you are registered for the Developer plan. It's fine for our use here. Below, you will see how many requests you have made. You are limited to 1,000 requests per 30 minutes, so don't waste them!"
   ]
  },
  {
   "cell_type": "markdown",
   "metadata": {},
   "source": [
    "## API Documentation\n",
    "[Documentation](https://newsapi.org/docs) is a good source to look for reference on how to use the API. Different data sources (website) have different API specs, so spend some time in the Documentation section to learn how to use the API."
   ]
  },
  {
   "cell_type": "markdown",
   "metadata": {},
   "source": [
    "## Sample API Call - Curated Headline\n",
    "Let's make our first API call. We will get the lastest headlines from the API. Go to the [Get the current top headlines for a country or category](https://newsapi.org/docs/get-started#top-headlines) section. You will see on the right side the URL format that you need to construct\n",
    "\n",
    "```\n",
    "GET https://newsapi.org/v2/top-headlines?country=us&apiKey=API_KEY\n",
    "``` \n",
    "\n",
    "The first word (`GET`) simply tells you what kind of API endpoint it is. Most of the time, you will see two kinds of API endpoint \n",
    "* `GET` is an endpoint from where you retrieve data such as retrieving news headlines\n",
    "* `POST` is an endpoint to where you submit data such as posting a message to Twitter\n",
    "This keyword tells you which function in the `requests` module to call `requests.get` or `requests.post`\n",
    "\n",
    "The second part is the URL. Notice that there are parameters you can or must adjust\n",
    "* `country`\n",
    "* `apiKey`\n",
    "The sample URL specify \"us\" as the country. However, it left the `apiKey` as a placeholder, so you have to put your API key here."
   ]
  },
  {
   "cell_type": "code",
   "execution_count": 7,
   "metadata": {},
   "outputs": [],
   "source": [
    "# Use f-string to help construct the URL\n",
    "url = f\"https://newsapi.org/v2/top-headlines?country=th&apiKey={api_key}\""
   ]
  },
  {
   "cell_type": "code",
   "execution_count": 8,
   "metadata": {},
   "outputs": [
    {
     "name": "stdout",
     "output_type": "stream",
     "text": [
      "https://newsapi.org/v2/top-headlines?country=th&apiKey=f37d137947df47a39acab6779e0bfece\n"
     ]
    }
   ],
   "source": [
    "print(url)"
   ]
  },
  {
   "cell_type": "markdown",
   "metadata": {},
   "source": [
    "Now, we are ready to \"GET\" the data."
   ]
  },
  {
   "cell_type": "code",
   "execution_count": 9,
   "metadata": {},
   "outputs": [
    {
     "name": "stdout",
     "output_type": "stream",
     "text": [
      "{\"status\":\"ok\",\"totalResults\":37,\"articles\":[{\"source\":{\"id\":null,\"name\":\"Khaosod.co.th\"},\"author\":\"45\",\"title\":\"ระวังอันตราย! กรมอุตุฯ เตือนฉบับ1 ฝนถล่มหนัก15จว.ใต้ เสี่ยงท่วมฉับพลัน - ข่าวสด\",\"description\":\"กรมอุตุฯ ประกาศฉบับที่ 1 เตือน 15 จังหวัดภาคใต้ ฝนตกหนักถึงหนักมากหลายพื้นที่ ระวังอันตราย เสี่ยงเกิดน้ำท่วมฉับพลัน-น้ำป่าไหลหลาก\",\"url\":\"https://www.khaosod.co.th/breaking-news/news_6728173\",\"urlToImage\":\"https://www.khaosod.co.th/wpapp/uploads/2021/11/12-กรมอุตุฯเตือนภาคใต้1.jpg\",\"publishedAt\":\"2021-11-12T05:33:00Z\",\"content\":\"1 15 -\\r\\n 12 ..2564 “ ( 12-14 2564)” 1 14 .. 64 \\r\\n 2-3 3 1-2 14 ..2564\\r\\n http://www.tmd.go.th 0-2399-4012-13 1182 24 12 .. 17.00 .\\r\\n 1 15\"},{\"source\":{\"id\":null,\"name\":\"Sanook.com\"},\"author\":\"Main Stand\",\"title\":\"เรียนรู้จากกรณีของไทย : สารกระตุ้นมีอิทธิพลกับวงการกีฬาจนต้องลงโทษแบนเลยหรือ? - Sanook\",\"description\":\"ถือเป็นข่าวใหญ่ในวงการกีฬาไทยรับไตรมาสสุดท้ายปี 2021 เมื่อ องค์กรต่อต้านสารกระตุ้นโลก หรือ WADA ตัดสินลงโทษประเทศไทยเป็นเวลา 1 ปี\",\"url\":\"https://www.sanook.com/sport/1321593/\",\"urlToImage\":\"https://s.isanook.com/sp/0/rp/rc/w700h366/yacxacm1w0/aHR0cHM6Ly9zLmlzYW5vb2suY29tL3NwLzAvdWQvMjY0LzEzMjE1OTMveHguanBn.jpg\",\"publishedAt\":\"2021-11-12T05:17:00Z\",\"content\":\"2021 WADA 1 \\r\\nMain Stamd WADA \\r\\n WADA \\r\\n WADA 7 2021 2021 (World Anti-Doping Code 2021) 5 , , , (DIBF) International Gira Sports Federation (IGSF)\\r\\nWADA WADA (CRC) 14 2021 8 WADA \\r\\n 15 2021 WADA 2021… [+435 chars]\"},{\"source\":{\"id\":null,\"name\":\"Khaosod.co.th\"},\"author\":\"1\",\"title\":\"น้ำท่วม : ชายผู้ออกแบบเมืองในจีนให้เป็น “ฟองน้ำยักษ์” รับมือน้ำท่วม - ข่าวสด\",\"description\":\"อวี๋ ข่งเจียน ยังจำเหตุการณ์ตอนที่เขาเกือบจมน้ำที่บ้านเ...\",\"url\":\"https://www.khaosod.co.th/bbc-thai/news_6727927\",\"urlToImage\":\"https://www.khaosod.co.th/wpapp/uploads/2021/11/121298164_tianjinwetland.jpg\",\"publishedAt\":\"2021-11-12T05:03:00Z\",\"content\":null},{\"source\":{\"id\":null,\"name\":\"Siamphone.com\"},\"author\":\"Natthanan Taniksunannitima\",\"title\":\"เผยแฟชั่นเซ็ต ถ่ายทอด Huawei MateBook 14s ตอบโจทย์ทุกไลฟ์สไตล์อย่างลงตัว - Siamphone\",\"description\":\"\",\"url\":\"https://news.siamphone.com/news-48945.html\",\"urlToImage\":\"https://cdn-news.siamphone.com/upload/news/nw48945/000-HUAWEI-MateBook-14s.jpg\",\"publishedAt\":\"2021-11-12T05:02:22Z\",\"content\":\"HuaweiVogue ThailandHuawei MateBook 14s  \\r\\n Vogue Thailand NEW WAY TO WORK Mood &amp; Tone \\r\\nHuawei MateBook 14s 2.5K Huawei FullView Display 11th Gen Intel Core H-Series Spruce Green[1] \\r\\n Vogue Tha… [+258 chars]\"},{\"source\":{\"id\":null,\"name\":\"Ch7.com\"},\"author\":null,\"title\":\"โควิดชลบุรี ติดอีก 249 คน ผุดคลัสเตอร์แคมป์นักกีฬา \\\"บ่อวิน อะคาเดมี\\\" - ช่อง 7\",\"description\":\"#เกาะติดสถานการณ์โควิด วันนี้ (12 พ.ย.64) มีรายงานผู้ติดเชื้อรายใหม่ 249 คน จำนวนผู้ติดเชื้อสะสมเพิ่มเป็น 104,290 คน ขณะนี้มีผู้ป่วบระหว่างการรักษา 2,846 คน และมีผู้เสียชีวิตเพิ่มขึ้น 3 คน จำนวนผู้เสียชีวิตสะสม 740 คน สำหรับผู้ติดเชื้อรายใหม่…\",\"url\":\"https://news.ch7.com/detail/528985\",\"urlToImage\":\"https://cdni-hw.ch7.com/dm/sz-md/i/images/2021/11/12/618debc4377cc0.14529362.jpg\",\"publishedAt\":\"2021-11-12T04:41:09Z\",\"content\":null},{\"source\":{\"id\":null,\"name\":\"Mxphone.com\"},\"author\":null,\"title\":\"หัวเว่ยประกาศวางจำหน่าย HUAWEI nova 9 และ HUAWEI MateBook 14s วันที่ 13 พ.ย.นี้ - mxphone\",\"description\":\"หัวเว่ยประกาศวางจำหน่าย HUAWEI nova 9 และ HUAWEI MateBook 14s แล้ว สามารถจับจองเป็นเจ้าของได้ก่อนใครแล้วในวันที่ 13 พ.ย. เป็นต้นไป\",\"url\":\"https://www.mxphone.com/huawei-nova-9-and-huawei-matebook-14s-are-available-for-sale/\",\"urlToImage\":\"https://www.mxphone.com/wp-content/uploads/2021/11/HUAWEI-nova-9_shelf-break_cover.jpg\",\"publishedAt\":\"2021-11-12T04:39:13Z\",\"content\":\"() HUAWEI nova 9 50MP HUAWEI MateBook 14s 2.5K 13 2564 HUAWEI nova 9 16,990 HUAWEI MateBook 14s 40,990 Early Bird HUAWEI nova 9 HUAWEI MateBook 14s ! HUAWEI FreeBuds Pro 5,499 13 2564 30 2564 HUAWEI … [+1192 chars]\"},{\"source\":{\"id\":null,\"name\":\"Khaosod.co.th\"},\"author\":\"39\",\"title\":\"'หมอยง' ชี้เริ่มต้นฉีด ด้วย mRNA หาวัคซีนกระตุ้นยาก เผยอาจต้องมีเข็ม 4 เข็ม 5 ในปีต่อไป - ข่าวสด\",\"description\":\"'หมอยง' ชี้เริ่มต้นฉีด ด้วย mRNA หาวัคซีนกระตุ้นยาก ย้ำเชื้อตายเป็นวัคซีนปูพื้นที่ดี เผยเข็ม 3 แล้ว อาจยังต้องมีเข็ม 4 เข็ม 5 ในปีต่อๆไป\",\"url\":\"https://www.khaosod.co.th/covid-19/news_6727990\",\"urlToImage\":\"https://www.khaosod.co.th/wpapp/uploads/2021/11/หมอยง-โควิด-01.jpg\",\"publishedAt\":\"2021-11-12T04:38:00Z\",\"content\":\"‘’ mRNA 3 4 5 \\r\\n 12 ..64 .. -19 \\r\\n 1 2 3 \\r\\n prime boost \\r\\n 2 2 3 2 3-4 2 prime 3 \\r\\n 2 3-4 2 3-4 AstraZeneca 4 – 12 8 16 4 ( 5 ) 2 \\r\\n prime 2 \\r\\n 3 2 prime 3 boost 3 2 3 () 2 6 12 covid-19\\r\\n Valneva 3 … [+106 chars]\"},{\"source\":{\"id\":null,\"name\":\"Prachachat.net\"},\"author\":\"https://www.facebook.com/PrachachatOnline/\",\"title\":\"ศบค.ลดพื้นที่สีแดงเข้มเหลือ 6 จังหวัด เลื่อนเปิดสถานบันเทิง 15 ม.ค. 65 - ประชาชาติธุรกิจ\",\"description\":\"ศบค.ชุดใหญ่ ไฟเขียวปรับลดพื้นที่สีแดงเข้มเหลือ 6 จังหวัด ถอด จันทบุรี คงเคอร์ฟิว 23.00 – 03.00 น. ถึงสิ้นเดือน พ.ย. พร้อมเลื่อนเปิดสถานบันเทิง ผับ บาร์จาก\",\"url\":\"https://www.prachachat.net/prachachat-top-story/news-801004\",\"urlToImage\":\"https://www.prachachat.net/wp-content/uploads/2021/11/rung-1.jpg\",\"publishedAt\":\"2021-11-12T04:37:11Z\",\"content\":\". 6 23.00 03.00 . .. 1 .. 15 .. 2565\\r\\n 12 2564 -19 (.) 18/2564 .. . .\\r\\n () 7 6 ()\\r\\n () 39 () 23 \\r\\n () 5 \\r\\n () 4 \\r\\n. 6 7 \\r\\n. 1 2564 15 2565 \\r\\n (.) . / 19 \\r\\n 16 2565 \\r\\n1. 100 %\\r\\n2. /. \\r\\n3.\\r\\n4. /. \\r\\n ()… [+33 chars]\"},{\"source\":{\"id\":null,\"name\":\"YouTube\"},\"author\":null,\"title\":\"แม่หญิงระจันฝึกดาบ เตรียมรับมือข้าศึกบุกค่าย | ตอกย้ำความสนุก อตีตา EP.17 | Ch7HD - Ch7HD\",\"description\":\"แม่หญิงระจันฝึกดาบ เตรียมรับมือข้าศึกบุกค่าย | ตอกย้ำความสนุก อตีตา EP.17 | Ch7HDดูละคร อตีตา ย้อนหลัง ได้ที่ : https://www.bugaboo.tv/lakorn/atitaเติมเต็มคว...\",\"url\":\"https://www.youtube.com/watch?v=nVdNv6wlh7o\",\"urlToImage\":\"https://i.ytimg.com/vi/nVdNv6wlh7o/maxresdefault.jpg\",\"publishedAt\":\"2021-11-12T04:16:13Z\",\"content\":null},{\"source\":{\"id\":null,\"name\":\"Mcot.net\"},\"author\":\"\",\"title\":\"นักบินอวกาศ 4 คนเดินทางถึงสถานีอวกาศนานาชาติแล้ว - Thai News Agency\",\"description\":\"นักบินอวกาศ 4 คนที่ทะยานสู่อวกาศเมื่อวันพุธตามเวลาในสหรัฐด้วยแคปซูลครูว์ดรากอนของสเปซเอ็กซ์ บริษัทเทคโนโลยีอวกาศของอีลอน มัสก์ มหาเศรษฐีชาวอเมริกัน เดินทางถึงสถานีอวกาศนานาชาติแล้ว เพื่อปฏิบัติภารกิจด้านวิทยาศาสตร์เป็นเวลา 6 เดือน\",\"url\":\"https://tna.mcot.net/world-821898\",\"urlToImage\":\"https://tna.mcot.net/wp-content/uploads/2021/11/Untitlแแแแแed-1-copy.jpg\",\"publishedAt\":\"2021-11-12T03:32:00Z\",\"content\":null},{\"source\":{\"id\":null,\"name\":\"YouTube\"},\"author\":null,\"title\":\"ปล้นลอยฟ้า [Official Teaser] Ver.3 - Ch7HD\",\"description\":\"ลุ้น...ระทึก 💥 บู๊...ระห่ำกับปฏิบัติการปล้นเพชรพันล้านที่เดิมพันด้วยชีวิต#ปล้นลอยฟ้า 🪂💎 #SKYRAIDERเริ่ม พฤหัสบดีที่ 25 พฤศจิกายนนี้ 20.30 น.เติมเต็มความสุ...\",\"url\":\"https://www.youtube.com/watch?v=ifiyPLzL7KM\",\"urlToImage\":\"https://i.ytimg.com/vi/ifiyPLzL7KM/maxresdefault.jpg\",\"publishedAt\":\"2021-11-12T03:28:44Z\",\"content\":null},{\"source\":{\"id\":null,\"name\":\"Prachachat.net\"},\"author\":\"https://www.facebook.com/PrachachatOnline/\",\"title\":\"บทวิเคราะห์ราคาทองคำวันนี้ (12 พ.ย.) โดย YLG Bullion - ประชาชาติธุรกิจ\",\"description\":\"บริษัท วายแอลจี บูลเลี่ยน อินเตอร์เนชั่นแนล จำกัด รายงานราคาทองคำประจำวันที่ 12 พฤศจิกายน 2564 สรุป ราคาทองคำวานนี้ปิดปรับตัวเพิ่มขึ้น 12.30\",\"url\":\"https://www.prachachat.net/finance/news-800926\",\"urlToImage\":\"https://www.prachachat.net/wp-content/uploads/2021/05/ทอง-2-1.jpg\",\"publishedAt\":\"2021-11-12T03:24:25Z\",\"content\":\"12 2564\\r\\n12.30 6 (Veterans Day)\\r\\n 5 (The Treasury breakeven inflation curve) 4.80% 3.65% 2 3.16% 5 2.68% 10 \\r\\n () FedWatch Tool CME Group .. 80% 100% .. 2022 1 .. 2022 95 16 95.262 22 .. 2020 SPDR 0.… [+65 chars]\"},{\"source\":{\"id\":null,\"name\":\"Bangkokbiznews.com\"},\"author\":\"bangkokbiznews\",\"title\":\"ราคาทองวันนี้ (12พ.ย.) ร่วงแรง 100 บาท - กรุงเทพธุรกิจ\",\"description\":\"ราคาทองวันศุกร์ (12 พ.ย.) เปิดตลาดร่วง100 บาท ทองรูปพรรณขาย29,350บาท ทองแท่งขาย28,850 บาท ราคาทองคำ Spot เช้านี้เคลื่อนไหวที่บริเวณ 1,859 ดอลลาร์\",\"url\":\"https://www.bangkokbiznews.com/news/971387\",\"urlToImage\":\"https://image.bangkokbiznews.com/uploads/images/md/2021/11/eTAIJVp432vl5E6SRKTN.webp\",\"publishedAt\":\"2021-11-12T03:24:00Z\",\"content\":\"Spot 1,859 15.6 1,863.9 (CPI) 30 \\r\\n 200 17,260\"},{\"source\":{\"id\":null,\"name\":\"Kapook.com\"},\"author\":\"43\",\"title\":\"ประกันโควิด เจอ จ่าย จบ ส่อไปไม่ไหว ทบทวนบอกเลิกกรมธรรม์ ก่อนบริษัทจะล้ม - kapook.com\",\"description\":\"ยอดเคลมสินไหมทะลุ 40,000 ล้าน\",\"url\":\"https://covid-19.kapook.com/view248753.html\",\"urlToImage\":\"https://my.kapook.com/imagescontent/fb_img/500/s_248753_1882.jpg\",\"publishedAt\":\"2021-11-12T03:11:50Z\",\"content\":null},{\"source\":{\"id\":null,\"name\":\"Pptvhd36.com\"},\"author\":\"PPTV Online\",\"title\":\"ระทึก! ไฟไหม้ รพ.มงกุฎวัฒนะ เจ้าหน้าที่ตรวจสอบรังสีรั่วไหล - pptvhd36.com\",\"description\":\"เกิดเหตุไฟไหม้ รพ.มุงกุฎวัฒนะ ห้องเอ็กซ์เรย์วอด เร่งหาสาเหตุ ตรวจสอบรังสีรั่วไหล\",\"url\":\"https://www.pptvhd36.com/news/%E0%B8%AD%E0%B8%B2%E0%B8%8A%E0%B8%8D%E0%B8%B2%E0%B8%81%E0%B8%A3%E0%B8%A3%E0%B8%A1/160373\",\"urlToImage\":\"https://img.pptvhd36.com/thumbor/2021/11/12/news-8b6def44e5.jpg\",\"publishedAt\":\"2021-11-12T02:30:00Z\",\"content\":\"06.42 . 12  2564 199 . 10 1 \\r\\n 2 \\r\\n 20 \\r\\n 2-3 \\r\\nAdd friend @PPTVOnline\"},{\"source\":{\"id\":null,\"name\":\"Sanook.com\"},\"author\":\"Sanook! Regional\",\"title\":\"จับสึกยกวัด! เจ้าอาวาส-พระลูกวัด มั่วสุมเสพยาบ้า ผงะเปิดกุฏิเจอขวดฉี่กองเต็มห้อง - Sanook\",\"description\":\"ชาวบ้านแจ้งจับเจ้าอาวาส-พระลูกวัด มั่วสุมเสพยาบ้า เปิดกุฏิเจอกองขยะ ขวดฉี่เต็มห้อง จับสึกยกวัดไม่เหลือพระสักรูป\",\"url\":\"https://www.sanook.com/news/8472322/\",\"urlToImage\":\"https://s.isanook.com/ns/0/rp/rc/w700h366/yacxacm1w0/aHR0cHM6Ly9zLmlzYW5vb2suY29tL25zLzAvdWQvMTY5NC84NDcyMzIyL200LmpwZw==.jpg\",\"publishedAt\":\"2021-11-12T02:00:32Z\",\"content\":\"- \\r\\n(11 ..64) 18.00 . ... . .. ... . . . 5 . . .  \\r\\n 5 . . . 1 . 10 \\r\\n ()  80 \\r\\n29   21 28 43  \\r\\n . () .\"},{\"source\":{\"id\":null,\"name\":\"Dailynews.co.th\"},\"author\":null,\"title\":\"เครื่องบินรบรัสเซียลาดตระเวนเหนือเบลารุสอีก สถานการณ์ผู้อพยพกับโปแลนด์ยังระอุ - เดลีนีวส์\",\"description\":\"รัสเซียส่งเครื่องบินรบขึ้นลาดตระเวนในเขตน่านฟ้าของเบลารุส ต่อเนื่องเป็นวันที่สอง ท่ามกลางสถานการณ์ตึงเครียดเรื่องผู้อพยพ ระหว่างเบลารุสกับโปแลนด์\",\"url\":\"https://www.dailynews.co.th/news/467805/\",\"urlToImage\":\"https://www.dailynews.co.th/wp-content/uploads/2021/11/b970c78dd4334a4bbc2a2b76c2231024-0-f36a67df73f140f68e8e9dc87530c51f_25247889.jpg\",\"publishedAt\":\"2021-11-12T01:54:00Z\",\"content\":\"Analytical cookies are used to understand how visitors interact with the website. These cookies help provide information on metrics the number of visitors, bounce rate, traffic source, etc.\"},{\"source\":{\"id\":null,\"name\":\"Thairath.co.th\"},\"author\":\"Thairath\",\"title\":\"วิธีตรวจสอบสิทธิ์ รับเงิน \\\"ประกันรายได้ข้าว ปี 64/65\\\" ขั้นตอนไม่ยุ่งยาก - ไทยรัฐ\",\"description\":\"ช่องทางตรวจสอบสิทธิ์รับเงิน \\\"โครงการประกันรายได้ข้าว ปี 2564/65\\\" สำหรับเกษตรกรผู้ปลูกข้าว 5 ชนิด ขั้นตอนไม่ยุ่งยาก หลายคนได้รับเงินแล้ว\",\"url\":\"https://www.thairath.co.th/business/economics/2240474\",\"urlToImage\":\"https://static.thairath.co.th/media/HCtHFA7ele6Q2dUMyUgzot6YPaUgaiUrYGkbeNCqRdkDO0acQNpLn1z9QHSrjETgpZ.jpg\",\"publishedAt\":\"2021-11-12T01:35:00Z\",\"content\":\"(...) ... 2564/65 13,225 -19 5 \\r\\n 9 .. 2564 530,842 11,230.69 \\r\\n 2564/65 ... \\r\\n ... 3 ... A-Mobile 24 LINE Official BAAC Family BAAC Connect\\r\\n1. \\\"\\\" \\\"\\\"\\r\\n2. \\\"\\\"\\r\\n3. \\\"\\\" .\"},{\"source\":{\"id\":null,\"name\":\"Bangkokbiznews.com\"},\"author\":\"bangkokbiznews\",\"title\":\"อัพเดท \\\"น้ำท่วม\\\" กทม. เตือนน้ำทะเลหนุนกระทบ 11 ชุมชน 239 ครัวเรือน - กรุงเทพธุรกิจ\",\"description\":\"อัพเดท \\\"น้ำท่วม\\\" กรุงเทพมหานคร เร่งแก้ปัญหาน้ำทะเลหนุน เตือน 11 ชุมชนนอกคันกั้นน้ำในพื้นที่ 7 เขตรวม 239 ครัวเรือน เฝ้าระวังผลกระทบจากน้ำทะเลหนุน\",\"url\":\"https://www.bangkokbiznews.com/news/971375\",\"urlToImage\":\"https://image.bangkokbiznews.com/uploads/images/md/2021/11/DxgdroTAs4dhA6hmg2iK.webp\",\"publishedAt\":\"2021-11-12T01:11:00Z\",\"content\":\"http://dds.bangkok.go.th/www.prbangkok.com Facebook @BKK_BEST https://www.facebook.com/prbangkok Twitter : @BKK_BEST \\r\\n () +2.30 .. +2.40 .. +2.80 .. Big Bag 200 5,150 9 ( 15 ) 49,640 4,250 () 4\"},{\"source\":{\"id\":null,\"name\":\"Dailynews.co.th\"},\"author\":null,\"title\":\"โควิดติดเชื้อเพิ่ม7305ราย หายป่วย7900ราย เสียชีวิต51 - เดลีนีวส์\",\"description\":\"ยอด 'โควิด-19' วันนี้ พบเสียชีวิตเพิ่มอีก 51 ราย ขณะที่พบผู้ติดเชื้อใหม่เพิ่มอีก 7,305 ราย ผู้ป่วยยืนยันสะสม 1,975,411 ราย\",\"url\":\"https://www.dailynews.co.th/news/467757/\",\"urlToImage\":\"https://www.dailynews.co.th/wp-content/uploads/2021/11/255030149_444927753792221_4768164725903029138_n.jpg\",\"publishedAt\":\"2021-11-12T00:45:00Z\",\"content\":null}]}\n"
     ]
    }
   ],
   "source": [
    "import requests\n",
    "response = requests.get(url)\n",
    "print(response.text)"
   ]
  },
  {
   "cell_type": "markdown",
   "metadata": {},
   "source": [
    "Since the response is in JSON format, we can use the JSON module to help convert it into python dictionary."
   ]
  },
  {
   "cell_type": "code",
   "execution_count": 10,
   "metadata": {},
   "outputs": [
    {
     "name": "stdout",
     "output_type": "stream",
     "text": [
      "{'status': 'ok', 'totalResults': 37, 'articles': [{'source': {'id': None, 'name': 'Khaosod.co.th'}, 'author': '45', 'title': 'ระวังอันตราย! กรมอุตุฯ เตือนฉบับ1 ฝนถล่มหนัก15จว.ใต้ เสี่ยงท่วมฉับพลัน - ข่าวสด', 'description': 'กรมอุตุฯ ประกาศฉบับที่ 1 เตือน 15 จังหวัดภาคใต้ ฝนตกหนักถึงหนักมากหลายพื้นที่ ระวังอันตราย เสี่ยงเกิดน้ำท่วมฉับพลัน-น้ำป่าไหลหลาก', 'url': 'https://www.khaosod.co.th/breaking-news/news_6728173', 'urlToImage': 'https://www.khaosod.co.th/wpapp/uploads/2021/11/12-กรมอุตุฯเตือนภาคใต้1.jpg', 'publishedAt': '2021-11-12T05:33:00Z', 'content': '1 15 -\\r\\n 12 ..2564 “ ( 12-14 2564)” 1 14 .. 64 \\r\\n 2-3 3 1-2 14 ..2564\\r\\n http://www.tmd.go.th 0-2399-4012-13 1182 24 12 .. 17.00 .\\r\\n 1 15'}, {'source': {'id': None, 'name': 'Sanook.com'}, 'author': 'Main Stand', 'title': 'เรียนรู้จากกรณีของไทย : สารกระตุ้นมีอิทธิพลกับวงการกีฬาจนต้องลงโทษแบนเลยหรือ? - Sanook', 'description': 'ถือเป็นข่าวใหญ่ในวงการกีฬาไทยรับไตรมาสสุดท้ายปี 2021 เมื่อ องค์กรต่อต้านสารกระตุ้นโลก หรือ WADA ตัดสินลงโทษประเทศไทยเป็นเวลา 1 ปี', 'url': 'https://www.sanook.com/sport/1321593/', 'urlToImage': 'https://s.isanook.com/sp/0/rp/rc/w700h366/yacxacm1w0/aHR0cHM6Ly9zLmlzYW5vb2suY29tL3NwLzAvdWQvMjY0LzEzMjE1OTMveHguanBn.jpg', 'publishedAt': '2021-11-12T05:17:00Z', 'content': '2021 WADA 1 \\r\\nMain Stamd WADA \\r\\n WADA \\r\\n WADA 7 2021 2021 (World Anti-Doping Code 2021) 5 , , , (DIBF) International Gira Sports Federation (IGSF)\\r\\nWADA WADA (CRC) 14 2021 8 WADA \\r\\n 15 2021 WADA 2021… [+435 chars]'}, {'source': {'id': None, 'name': 'Khaosod.co.th'}, 'author': '1', 'title': 'น้ำท่วม : ชายผู้ออกแบบเมืองในจีนให้เป็น “ฟองน้ำยักษ์” รับมือน้ำท่วม - ข่าวสด', 'description': 'อวี๋ ข่งเจียน ยังจำเหตุการณ์ตอนที่เขาเกือบจมน้ำที่บ้านเ...', 'url': 'https://www.khaosod.co.th/bbc-thai/news_6727927', 'urlToImage': 'https://www.khaosod.co.th/wpapp/uploads/2021/11/121298164_tianjinwetland.jpg', 'publishedAt': '2021-11-12T05:03:00Z', 'content': None}, {'source': {'id': None, 'name': 'Siamphone.com'}, 'author': 'Natthanan Taniksunannitima', 'title': 'เผยแฟชั่นเซ็ต ถ่ายทอด Huawei MateBook 14s ตอบโจทย์ทุกไลฟ์สไตล์อย่างลงตัว - Siamphone', 'description': '', 'url': 'https://news.siamphone.com/news-48945.html', 'urlToImage': 'https://cdn-news.siamphone.com/upload/news/nw48945/000-HUAWEI-MateBook-14s.jpg', 'publishedAt': '2021-11-12T05:02:22Z', 'content': 'HuaweiVogue ThailandHuawei MateBook 14s \\xa0\\r\\n Vogue Thailand NEW WAY TO WORK Mood &amp; Tone \\r\\nHuawei MateBook 14s 2.5K Huawei FullView Display 11th Gen Intel Core H-Series Spruce Green[1] \\r\\n Vogue Tha… [+258 chars]'}, {'source': {'id': None, 'name': 'Ch7.com'}, 'author': None, 'title': 'โควิดชลบุรี ติดอีก 249 คน ผุดคลัสเตอร์แคมป์นักกีฬา \"บ่อวิน อะคาเดมี\" - ช่อง 7', 'description': '#เกาะติดสถานการณ์โควิด วันนี้ (12 พ.ย.64) มีรายงานผู้ติดเชื้อรายใหม่ 249 คน จำนวนผู้ติดเชื้อสะสมเพิ่มเป็น 104,290 คน ขณะนี้มีผู้ป่วบระหว่างการรักษา 2,846 คน และมีผู้เสียชีวิตเพิ่มขึ้น 3 คน จำนวนผู้เสียชีวิตสะสม 740 คน สำหรับผู้ติดเชื้อรายใหม่…', 'url': 'https://news.ch7.com/detail/528985', 'urlToImage': 'https://cdni-hw.ch7.com/dm/sz-md/i/images/2021/11/12/618debc4377cc0.14529362.jpg', 'publishedAt': '2021-11-12T04:41:09Z', 'content': None}, {'source': {'id': None, 'name': 'Mxphone.com'}, 'author': None, 'title': 'หัวเว่ยประกาศวางจำหน่าย HUAWEI nova 9 และ HUAWEI MateBook 14s วันที่ 13 พ.ย.นี้ - mxphone', 'description': 'หัวเว่ยประกาศวางจำหน่าย HUAWEI nova 9 และ HUAWEI MateBook 14s แล้ว สามารถจับจองเป็นเจ้าของได้ก่อนใครแล้วในวันที่\\xa013\\xa0พ.ย.\\xa0เป็นต้นไป', 'url': 'https://www.mxphone.com/huawei-nova-9-and-huawei-matebook-14s-are-available-for-sale/', 'urlToImage': 'https://www.mxphone.com/wp-content/uploads/2021/11/HUAWEI-nova-9_shelf-break_cover.jpg', 'publishedAt': '2021-11-12T04:39:13Z', 'content': '() HUAWEI nova 9 50MP HUAWEI MateBook 14s 2.5K 13 2564 HUAWEI nova 9 16,990 HUAWEI MateBook 14s 40,990 Early Bird HUAWEI nova 9 HUAWEI MateBook 14s ! HUAWEI FreeBuds Pro 5,499 13 2564 30 2564 HUAWEI … [+1192 chars]'}, {'source': {'id': None, 'name': 'Khaosod.co.th'}, 'author': '39', 'title': \"'หมอยง' ชี้เริ่มต้นฉีด ด้วย mRNA หาวัคซีนกระตุ้นยาก เผยอาจต้องมีเข็ม 4 เข็ม 5 ในปีต่อไป - ข่าวสด\", 'description': \"'หมอยง'\\xa0ชี้เริ่มต้นฉีด ด้วย mRNA หาวัคซีนกระตุ้นยาก ย้ำเชื้อตายเป็นวัคซีนปูพื้นที่ดี เผยเข็ม 3 แล้ว อาจยังต้องมีเข็ม 4 เข็ม 5 ในปีต่อๆไป\", 'url': 'https://www.khaosod.co.th/covid-19/news_6727990', 'urlToImage': 'https://www.khaosod.co.th/wpapp/uploads/2021/11/หมอยง-โควิด-01.jpg', 'publishedAt': '2021-11-12T04:38:00Z', 'content': '‘’ mRNA 3 4 5 \\r\\n 12 ..64 .. -19 \\r\\n 1 2 3 \\r\\n prime boost \\r\\n 2 2 3 2 3-4 2 prime 3 \\r\\n 2 3-4 2 3-4 AstraZeneca 4 – 12 8 16 4 ( 5 ) 2 \\r\\n prime 2 \\r\\n 3 2 prime 3 boost 3 2 3 () 2 6 12 covid-19\\r\\n Valneva 3 … [+106 chars]'}, {'source': {'id': None, 'name': 'Prachachat.net'}, 'author': 'https://www.facebook.com/PrachachatOnline/', 'title': 'ศบค.ลดพื้นที่สีแดงเข้มเหลือ 6 จังหวัด เลื่อนเปิดสถานบันเทิง 15 ม.ค. 65 - ประชาชาติธุรกิจ', 'description': 'ศบค.ชุดใหญ่ ไฟเขียวปรับลดพื้นที่สีแดงเข้มเหลือ 6 จังหวัด ถอด จันทบุรี คงเคอร์ฟิว 23.00 – 03.00 น. ถึงสิ้นเดือน พ.ย. พร้อมเลื่อนเปิดสถานบันเทิง ผับ บาร์จาก', 'url': 'https://www.prachachat.net/prachachat-top-story/news-801004', 'urlToImage': 'https://www.prachachat.net/wp-content/uploads/2021/11/rung-1.jpg', 'publishedAt': '2021-11-12T04:37:11Z', 'content': '. 6 23.00 03.00 . .. 1 .. 15 .. 2565\\r\\n 12 2564 -19 (.) 18/2564 .. . .\\r\\n () 7 6 ()\\r\\n () 39 () 23 \\r\\n () 5 \\r\\n () 4 \\r\\n. 6 7 \\r\\n. 1 2564 15 2565 \\r\\n (.) . / 19 \\r\\n 16 2565 \\r\\n1. 100 %\\r\\n2. /. \\r\\n3.\\r\\n4. /. \\r\\n ()… [+33 chars]'}, {'source': {'id': None, 'name': 'YouTube'}, 'author': None, 'title': 'แม่หญิงระจันฝึกดาบ เตรียมรับมือข้าศึกบุกค่าย | ตอกย้ำความสนุก อตีตา EP.17 | Ch7HD - Ch7HD', 'description': 'แม่หญิงระจันฝึกดาบ เตรียมรับมือข้าศึกบุกค่าย | ตอกย้ำความสนุก อตีตา EP.17 | Ch7HDดูละคร อตีตา ย้อนหลัง ได้ที่ : https://www.bugaboo.tv/lakorn/atitaเติมเต็มคว...', 'url': 'https://www.youtube.com/watch?v=nVdNv6wlh7o', 'urlToImage': 'https://i.ytimg.com/vi/nVdNv6wlh7o/maxresdefault.jpg', 'publishedAt': '2021-11-12T04:16:13Z', 'content': None}, {'source': {'id': None, 'name': 'Mcot.net'}, 'author': '', 'title': 'นักบินอวกาศ 4 คนเดินทางถึงสถานีอวกาศนานาชาติแล้ว - Thai News Agency', 'description': 'นักบินอวกาศ 4 คนที่ทะยานสู่อวกาศเมื่อวันพุธตามเวลาในสหรัฐด้วยแคปซูลครูว์ดรากอนของสเปซเอ็กซ์ บริษัทเทคโนโลยีอวกาศของอีลอน มัสก์ มหาเศรษฐีชาวอเมริกัน เดินทางถึงสถานีอวกาศนานาชาติแล้ว เพื่อปฏิบัติภารกิจด้านวิทยาศาสตร์เป็นเวลา 6 เดือน', 'url': 'https://tna.mcot.net/world-821898', 'urlToImage': 'https://tna.mcot.net/wp-content/uploads/2021/11/Untitlแแแแแed-1-copy.jpg', 'publishedAt': '2021-11-12T03:32:00Z', 'content': None}, {'source': {'id': None, 'name': 'YouTube'}, 'author': None, 'title': 'ปล้นลอยฟ้า [Official Teaser] Ver.3 - Ch7HD', 'description': 'ลุ้น...ระทึก 💥 บู๊...ระห่ำกับปฏิบัติการปล้นเพชรพันล้านที่เดิมพันด้วยชีวิต#ปล้นลอยฟ้า 🪂💎 #SKYRAIDERเริ่ม พฤหัสบดีที่ 25 พฤศจิกายนนี้ 20.30 น.เติมเต็มความสุ...', 'url': 'https://www.youtube.com/watch?v=ifiyPLzL7KM', 'urlToImage': 'https://i.ytimg.com/vi/ifiyPLzL7KM/maxresdefault.jpg', 'publishedAt': '2021-11-12T03:28:44Z', 'content': None}, {'source': {'id': None, 'name': 'Prachachat.net'}, 'author': 'https://www.facebook.com/PrachachatOnline/', 'title': 'บทวิเคราะห์ราคาทองคำวันนี้ (12 พ.ย.) โดย YLG Bullion - ประชาชาติธุรกิจ', 'description': 'บริษัท วายแอลจี บูลเลี่ยน อินเตอร์เนชั่นแนล จำกัด รายงานราคาทองคำประจำวันที่ 12 พฤศจิกายน 2564 สรุป ราคาทองคำวานนี้ปิดปรับตัวเพิ่มขึ้น 12.30', 'url': 'https://www.prachachat.net/finance/news-800926', 'urlToImage': 'https://www.prachachat.net/wp-content/uploads/2021/05/ทอง-2-1.jpg', 'publishedAt': '2021-11-12T03:24:25Z', 'content': '12 2564\\r\\n12.30 6 (Veterans Day)\\r\\n 5 (The Treasury breakeven inflation curve) 4.80% 3.65% 2 3.16% 5 2.68% 10 \\r\\n () FedWatch Tool CME Group .. 80% 100% .. 2022 1 .. 2022 95 16 95.262 22 .. 2020 SPDR 0.… [+65 chars]'}, {'source': {'id': None, 'name': 'Bangkokbiznews.com'}, 'author': 'bangkokbiznews', 'title': 'ราคาทองวันนี้ (12พ.ย.) ร่วงแรง 100 บาท - กรุงเทพธุรกิจ', 'description': 'ราคาทองวันศุกร์ (12 พ.ย.) เปิดตลาดร่วง100 บาท ทองรูปพรรณขาย29,350บาท ทองแท่งขาย28,850 บาท ราคาทองคำ Spot เช้านี้เคลื่อนไหวที่บริเวณ 1,859 ดอลลาร์', 'url': 'https://www.bangkokbiznews.com/news/971387', 'urlToImage': 'https://image.bangkokbiznews.com/uploads/images/md/2021/11/eTAIJVp432vl5E6SRKTN.webp', 'publishedAt': '2021-11-12T03:24:00Z', 'content': 'Spot 1,859 15.6 1,863.9 (CPI) 30 \\r\\n 200 17,260'}, {'source': {'id': None, 'name': 'Kapook.com'}, 'author': '43', 'title': 'ประกันโควิด เจอ จ่าย จบ ส่อไปไม่ไหว ทบทวนบอกเลิกกรมธรรม์ ก่อนบริษัทจะล้ม - kapook.com', 'description': 'ยอดเคลมสินไหมทะลุ 40,000 ล้าน', 'url': 'https://covid-19.kapook.com/view248753.html', 'urlToImage': 'https://my.kapook.com/imagescontent/fb_img/500/s_248753_1882.jpg', 'publishedAt': '2021-11-12T03:11:50Z', 'content': None}, {'source': {'id': None, 'name': 'Pptvhd36.com'}, 'author': 'PPTV Online', 'title': 'ระทึก! ไฟไหม้ รพ.มงกุฎวัฒนะ เจ้าหน้าที่ตรวจสอบรังสีรั่วไหล - pptvhd36.com', 'description': 'เกิดเหตุไฟไหม้ รพ.มุงกุฎวัฒนะ ห้องเอ็กซ์เรย์วอด เร่งหาสาเหตุ ตรวจสอบรังสีรั่วไหล', 'url': 'https://www.pptvhd36.com/news/%E0%B8%AD%E0%B8%B2%E0%B8%8A%E0%B8%8D%E0%B8%B2%E0%B8%81%E0%B8%A3%E0%B8%A3%E0%B8%A1/160373', 'urlToImage': 'https://img.pptvhd36.com/thumbor/2021/11/12/news-8b6def44e5.jpg', 'publishedAt': '2021-11-12T02:30:00Z', 'content': '06.42 . 12 \\xa02564 199 . 10 1 \\r\\n 2 \\r\\n\\xa020 \\r\\n 2-3 \\r\\nAdd friend @PPTVOnline'}, {'source': {'id': None, 'name': 'Sanook.com'}, 'author': 'Sanook! Regional', 'title': 'จับสึกยกวัด! เจ้าอาวาส-พระลูกวัด มั่วสุมเสพยาบ้า ผงะเปิดกุฏิเจอขวดฉี่กองเต็มห้อง - Sanook', 'description': 'ชาวบ้านแจ้งจับเจ้าอาวาส-พระลูกวัด มั่วสุมเสพยาบ้า เปิดกุฏิเจอกองขยะ ขวดฉี่เต็มห้อง จับสึกยกวัดไม่เหลือพระสักรูป', 'url': 'https://www.sanook.com/news/8472322/', 'urlToImage': 'https://s.isanook.com/ns/0/rp/rc/w700h366/yacxacm1w0/aHR0cHM6Ly9zLmlzYW5vb2suY29tL25zLzAvdWQvMTY5NC84NDcyMzIyL200LmpwZw==.jpg', 'publishedAt': '2021-11-12T02:00:32Z', 'content': '- \\r\\n(11 ..64) 18.00 . ... . .. ... . . . 5 . . .\\xa0\\xa0\\r\\n 5 . . . 1 . 10 \\r\\n ()\\xa0 80 \\r\\n29 \\xa0 21 28 43 \\xa0\\r\\n . () .'}, {'source': {'id': None, 'name': 'Dailynews.co.th'}, 'author': None, 'title': 'เครื่องบินรบรัสเซียลาดตระเวนเหนือเบลารุสอีก สถานการณ์ผู้อพยพกับโปแลนด์ยังระอุ - เดลีนีวส์', 'description': 'รัสเซียส่งเครื่องบินรบขึ้นลาดตระเวนในเขตน่านฟ้าของเบลารุส ต่อเนื่องเป็นวันที่สอง ท่ามกลางสถานการณ์ตึงเครียดเรื่องผู้อพยพ ระหว่างเบลารุสกับโปแลนด์', 'url': 'https://www.dailynews.co.th/news/467805/', 'urlToImage': 'https://www.dailynews.co.th/wp-content/uploads/2021/11/b970c78dd4334a4bbc2a2b76c2231024-0-f36a67df73f140f68e8e9dc87530c51f_25247889.jpg', 'publishedAt': '2021-11-12T01:54:00Z', 'content': 'Analytical cookies are used to understand how visitors interact with the website. These cookies help provide information on metrics the number of visitors, bounce rate, traffic source, etc.'}, {'source': {'id': None, 'name': 'Thairath.co.th'}, 'author': 'Thairath', 'title': 'วิธีตรวจสอบสิทธิ์ รับเงิน \"ประกันรายได้ข้าว ปี 64/65\" ขั้นตอนไม่ยุ่งยาก - ไทยรัฐ', 'description': 'ช่องทางตรวจสอบสิทธิ์รับเงิน \"โครงการประกันรายได้ข้าว ปี 2564/65\" สำหรับเกษตรกรผู้ปลูกข้าว 5 ชนิด ขั้นตอนไม่ยุ่งยาก หลายคนได้รับเงินแล้ว', 'url': 'https://www.thairath.co.th/business/economics/2240474', 'urlToImage': 'https://static.thairath.co.th/media/HCtHFA7ele6Q2dUMyUgzot6YPaUgaiUrYGkbeNCqRdkDO0acQNpLn1z9QHSrjETgpZ.jpg', 'publishedAt': '2021-11-12T01:35:00Z', 'content': '(...) ... 2564/65 13,225 -19 5 \\r\\n 9 .. 2564 530,842 11,230.69 \\r\\n 2564/65 ... \\r\\n ... 3 ... A-Mobile 24 LINE Official BAAC Family BAAC Connect\\r\\n1. \"\" \"\"\\r\\n2. \"\"\\r\\n3. \"\" .'}, {'source': {'id': None, 'name': 'Bangkokbiznews.com'}, 'author': 'bangkokbiznews', 'title': 'อัพเดท \"น้ำท่วม\" กทม. เตือนน้ำทะเลหนุนกระทบ 11 ชุมชน 239 ครัวเรือน - กรุงเทพธุรกิจ', 'description': 'อัพเดท \"น้ำท่วม\" กรุงเทพมหานคร เร่งแก้ปัญหาน้ำทะเลหนุน เตือน 11 ชุมชนนอกคันกั้นน้ำในพื้นที่ 7 เขตรวม 239 ครัวเรือน เฝ้าระวังผลกระทบจากน้ำทะเลหนุน', 'url': 'https://www.bangkokbiznews.com/news/971375', 'urlToImage': 'https://image.bangkokbiznews.com/uploads/images/md/2021/11/DxgdroTAs4dhA6hmg2iK.webp', 'publishedAt': '2021-11-12T01:11:00Z', 'content': 'http://dds.bangkok.go.th/www.prbangkok.com Facebook @BKK_BEST https://www.facebook.com/prbangkok Twitter : @BKK_BEST \\r\\n () +2.30 .. +2.40 .. +2.80 .. Big Bag 200 5,150 9 ( 15 ) 49,640 4,250 () 4'}, {'source': {'id': None, 'name': 'Dailynews.co.th'}, 'author': None, 'title': 'โควิดติดเชื้อเพิ่ม7305ราย หายป่วย7900ราย เสียชีวิต51 - เดลีนีวส์', 'description': \"ยอด 'โควิด-19' วันนี้ พบเสียชีวิตเพิ่มอีก 51 ราย ขณะที่พบผู้ติดเชื้อใหม่เพิ่มอีก 7,305 ราย ผู้ป่วยยืนยันสะสม 1,975,411 ราย\", 'url': 'https://www.dailynews.co.th/news/467757/', 'urlToImage': 'https://www.dailynews.co.th/wp-content/uploads/2021/11/255030149_444927753792221_4768164725903029138_n.jpg', 'publishedAt': '2021-11-12T00:45:00Z', 'content': None}]}\n"
     ]
    }
   ],
   "source": [
    "import json\n",
    "data = json.loads(response.text)\n",
    "print(data)"
   ]
  },
  {
   "cell_type": "code",
   "execution_count": 6,
   "metadata": {},
   "outputs": [
    {
     "data": {
      "text/plain": [
       "dict"
      ]
     },
     "execution_count": 6,
     "metadata": {},
     "output_type": "execute_result"
    }
   ],
   "source": [
    "type(data)"
   ]
  },
  {
   "cell_type": "markdown",
   "metadata": {},
   "source": [
    "### Exercise 1. Get Thailand's headlines\n",
    "Reconstruct the url to retrieve headlines from Thailand."
   ]
  },
  {
   "cell_type": "code",
   "execution_count": null,
   "metadata": {},
   "outputs": [],
   "source": [
    "# Your implementation here"
   ]
  },
  {
   "cell_type": "markdown",
   "metadata": {},
   "source": [
    "## Authentication\n",
    "Next, let's look at the [authentication section](https://newsapi.org/docs/authentication) of the documentation. Since you have limited number of requests you can make, you have to manage your credential carefully so that other people (hackers!) cannot steal your precious resources.\n",
    "\n",
    "Previously, we simply put the our API key in the URL. This is not ideal because hackers can sniff your traffic (especially when you use free public wi-fi) and steal your API key. We will put our API key in the request header instead (the last method mentioned in the documentation.)"
   ]
  },
  {
   "cell_type": "code",
   "execution_count": 18,
   "metadata": {},
   "outputs": [
    {
     "name": "stdout",
     "output_type": "stream",
     "text": [
      "{\"status\":\"ok\",\"totalResults\":37,\"articles\":[{\"source\":{\"id\":null,\"name\":\"Khaosod.co.th\"},\"author\":\"45\",\"title\":\"ระวังอันตราย! กรมอุตุฯ เตือนฉบับ1 ฝนถล่มหนัก15จว.ใต้ เสี่ยงท่วมฉับพลัน - ข่าวสด\",\"description\":\"กรมอุตุฯ ประกาศฉบับที่ 1 เตือน 15 จังหวัดภาคใต้ ฝนตกหนักถึงหนักมากหลายพื้นที่ ระวังอันตราย เสี่ยงเกิดน้ำท่วมฉับพลัน-น้ำป่าไหลหลาก\",\"url\":\"https://www.khaosod.co.th/breaking-news/news_6728173\",\"urlToImage\":\"https://www.khaosod.co.th/wpapp/uploads/2021/11/12-กรมอุตุฯเตือนภาคใต้1.jpg\",\"publishedAt\":\"2021-11-12T05:33:00Z\",\"content\":\"1 15 -\\r\\n 12 ..2564 “ ( 12-14 2564)” 1 14 .. 64 \\r\\n 2-3 3 1-2 14 ..2564\\r\\n http://www.tmd.go.th 0-2399-4012-13 1182 24 12 .. 17.00 .\\r\\n 1 15\"},{\"source\":{\"id\":null,\"name\":\"Sanook.com\"},\"author\":\"Main Stand\",\"title\":\"เรียนรู้จากกรณีของไทย : สารกระตุ้นมีอิทธิพลกับวงการกีฬาจนต้องลงโทษแบนเลยหรือ? - Sanook\",\"description\":\"ถือเป็นข่าวใหญ่ในวงการกีฬาไทยรับไตรมาสสุดท้ายปี 2021 เมื่อ องค์กรต่อต้านสารกระตุ้นโลก หรือ WADA ตัดสินลงโทษประเทศไทยเป็นเวลา 1 ปี\",\"url\":\"https://www.sanook.com/sport/1321593/\",\"urlToImage\":\"https://s.isanook.com/sp/0/rp/rc/w700h366/yacxacm1w0/aHR0cHM6Ly9zLmlzYW5vb2suY29tL3NwLzAvdWQvMjY0LzEzMjE1OTMveHguanBn.jpg\",\"publishedAt\":\"2021-11-12T05:17:00Z\",\"content\":\"2021 WADA 1 \\r\\nMain Stamd WADA \\r\\n WADA \\r\\n WADA 7 2021 2021 (World Anti-Doping Code 2021) 5 , , , (DIBF) International Gira Sports Federation (IGSF)\\r\\nWADA WADA (CRC) 14 2021 8 WADA \\r\\n 15 2021 WADA 2021… [+435 chars]\"},{\"source\":{\"id\":null,\"name\":\"Khaosod.co.th\"},\"author\":\"1\",\"title\":\"น้ำท่วม : ชายผู้ออกแบบเมืองในจีนให้เป็น “ฟองน้ำยักษ์” รับมือน้ำท่วม - ข่าวสด\",\"description\":\"อวี๋ ข่งเจียน ยังจำเหตุการณ์ตอนที่เขาเกือบจมน้ำที่บ้านเ...\",\"url\":\"https://www.khaosod.co.th/bbc-thai/news_6727927\",\"urlToImage\":\"https://www.khaosod.co.th/wpapp/uploads/2021/11/121298164_tianjinwetland.jpg\",\"publishedAt\":\"2021-11-12T05:03:00Z\",\"content\":null},{\"source\":{\"id\":null,\"name\":\"Siamphone.com\"},\"author\":\"Natthanan Taniksunannitima\",\"title\":\"เผยแฟชั่นเซ็ต ถ่ายทอด Huawei MateBook 14s ตอบโจทย์ทุกไลฟ์สไตล์อย่างลงตัว - Siamphone\",\"description\":\"\",\"url\":\"https://news.siamphone.com/news-48945.html\",\"urlToImage\":\"https://cdn-news.siamphone.com/upload/news/nw48945/000-HUAWEI-MateBook-14s.jpg\",\"publishedAt\":\"2021-11-12T05:02:22Z\",\"content\":\"HuaweiVogue ThailandHuawei MateBook 14s  \\r\\n Vogue Thailand NEW WAY TO WORK Mood &amp; Tone \\r\\nHuawei MateBook 14s 2.5K Huawei FullView Display 11th Gen Intel Core H-Series Spruce Green[1] \\r\\n Vogue Tha… [+258 chars]\"},{\"source\":{\"id\":null,\"name\":\"Ch7.com\"},\"author\":null,\"title\":\"โควิดชลบุรี ติดอีก 249 คน ผุดคลัสเตอร์แคมป์นักกีฬา \\\"บ่อวิน อะคาเดมี\\\" - ช่อง 7\",\"description\":\"#เกาะติดสถานการณ์โควิด วันนี้ (12 พ.ย.64) มีรายงานผู้ติดเชื้อรายใหม่ 249 คน จำนวนผู้ติดเชื้อสะสมเพิ่มเป็น 104,290 คน ขณะนี้มีผู้ป่วบระหว่างการรักษา 2,846 คน และมีผู้เสียชีวิตเพิ่มขึ้น 3 คน จำนวนผู้เสียชีวิตสะสม 740 คน สำหรับผู้ติดเชื้อรายใหม่…\",\"url\":\"https://news.ch7.com/detail/528985\",\"urlToImage\":\"https://cdni-hw.ch7.com/dm/sz-md/i/images/2021/11/12/618debc4377cc0.14529362.jpg\",\"publishedAt\":\"2021-11-12T04:41:09Z\",\"content\":null},{\"source\":{\"id\":null,\"name\":\"Mxphone.com\"},\"author\":null,\"title\":\"หัวเว่ยประกาศวางจำหน่าย HUAWEI nova 9 และ HUAWEI MateBook 14s วันที่ 13 พ.ย.นี้ - mxphone\",\"description\":\"หัวเว่ยประกาศวางจำหน่าย HUAWEI nova 9 และ HUAWEI MateBook 14s แล้ว สามารถจับจองเป็นเจ้าของได้ก่อนใครแล้วในวันที่ 13 พ.ย. เป็นต้นไป\",\"url\":\"https://www.mxphone.com/huawei-nova-9-and-huawei-matebook-14s-are-available-for-sale/\",\"urlToImage\":\"https://www.mxphone.com/wp-content/uploads/2021/11/HUAWEI-nova-9_shelf-break_cover.jpg\",\"publishedAt\":\"2021-11-12T04:39:13Z\",\"content\":\"() HUAWEI nova 9 50MP HUAWEI MateBook 14s 2.5K 13 2564 HUAWEI nova 9 16,990 HUAWEI MateBook 14s 40,990 Early Bird HUAWEI nova 9 HUAWEI MateBook 14s ! HUAWEI FreeBuds Pro 5,499 13 2564 30 2564 HUAWEI … [+1192 chars]\"},{\"source\":{\"id\":null,\"name\":\"Khaosod.co.th\"},\"author\":\"39\",\"title\":\"'หมอยง' ชี้เริ่มต้นฉีด ด้วย mRNA หาวัคซีนกระตุ้นยาก เผยอาจต้องมีเข็ม 4 เข็ม 5 ในปีต่อไป - ข่าวสด\",\"description\":\"'หมอยง' ชี้เริ่มต้นฉีด ด้วย mRNA หาวัคซีนกระตุ้นยาก ย้ำเชื้อตายเป็นวัคซีนปูพื้นที่ดี เผยเข็ม 3 แล้ว อาจยังต้องมีเข็ม 4 เข็ม 5 ในปีต่อๆไป\",\"url\":\"https://www.khaosod.co.th/covid-19/news_6727990\",\"urlToImage\":\"https://www.khaosod.co.th/wpapp/uploads/2021/11/หมอยง-โควิด-01.jpg\",\"publishedAt\":\"2021-11-12T04:38:00Z\",\"content\":\"‘’ mRNA 3 4 5 \\r\\n 12 ..64 .. -19 \\r\\n 1 2 3 \\r\\n prime boost \\r\\n 2 2 3 2 3-4 2 prime 3 \\r\\n 2 3-4 2 3-4 AstraZeneca 4 – 12 8 16 4 ( 5 ) 2 \\r\\n prime 2 \\r\\n 3 2 prime 3 boost 3 2 3 () 2 6 12 covid-19\\r\\n Valneva 3 … [+106 chars]\"},{\"source\":{\"id\":null,\"name\":\"Prachachat.net\"},\"author\":\"https://www.facebook.com/PrachachatOnline/\",\"title\":\"ศบค.ลดพื้นที่สีแดงเข้มเหลือ 6 จังหวัด เลื่อนเปิดสถานบันเทิง 15 ม.ค. 65 - ประชาชาติธุรกิจ\",\"description\":\"ศบค.ชุดใหญ่ ไฟเขียวปรับลดพื้นที่สีแดงเข้มเหลือ 6 จังหวัด ถอด จันทบุรี คงเคอร์ฟิว 23.00 – 03.00 น. ถึงสิ้นเดือน พ.ย. พร้อมเลื่อนเปิดสถานบันเทิง ผับ บาร์จาก\",\"url\":\"https://www.prachachat.net/prachachat-top-story/news-801004\",\"urlToImage\":\"https://www.prachachat.net/wp-content/uploads/2021/11/rung-1.jpg\",\"publishedAt\":\"2021-11-12T04:37:11Z\",\"content\":\". 6 23.00 03.00 . .. 1 .. 15 .. 2565\\r\\n 12 2564 -19 (.) 18/2564 .. . .\\r\\n () 7 6 ()\\r\\n () 39 () 23 \\r\\n () 5 \\r\\n () 4 \\r\\n. 6 7 \\r\\n. 1 2564 15 2565 \\r\\n (.) . / 19 \\r\\n 16 2565 \\r\\n1. 100 %\\r\\n2. /. \\r\\n3.\\r\\n4. /. \\r\\n ()… [+33 chars]\"},{\"source\":{\"id\":null,\"name\":\"YouTube\"},\"author\":null,\"title\":\"แม่หญิงระจันฝึกดาบ เตรียมรับมือข้าศึกบุกค่าย | ตอกย้ำความสนุก อตีตา EP.17 | Ch7HD - Ch7HD\",\"description\":\"แม่หญิงระจันฝึกดาบ เตรียมรับมือข้าศึกบุกค่าย | ตอกย้ำความสนุก อตีตา EP.17 | Ch7HDดูละคร อตีตา ย้อนหลัง ได้ที่ : https://www.bugaboo.tv/lakorn/atitaเติมเต็มคว...\",\"url\":\"https://www.youtube.com/watch?v=nVdNv6wlh7o\",\"urlToImage\":\"https://i.ytimg.com/vi/nVdNv6wlh7o/maxresdefault.jpg\",\"publishedAt\":\"2021-11-12T04:16:13Z\",\"content\":null},{\"source\":{\"id\":null,\"name\":\"Mcot.net\"},\"author\":\"\",\"title\":\"นักบินอวกาศ 4 คนเดินทางถึงสถานีอวกาศนานาชาติแล้ว - Thai News Agency\",\"description\":\"นักบินอวกาศ 4 คนที่ทะยานสู่อวกาศเมื่อวันพุธตามเวลาในสหรัฐด้วยแคปซูลครูว์ดรากอนของสเปซเอ็กซ์ บริษัทเทคโนโลยีอวกาศของอีลอน มัสก์ มหาเศรษฐีชาวอเมริกัน เดินทางถึงสถานีอวกาศนานาชาติแล้ว เพื่อปฏิบัติภารกิจด้านวิทยาศาสตร์เป็นเวลา 6 เดือน\",\"url\":\"https://tna.mcot.net/world-821898\",\"urlToImage\":\"https://tna.mcot.net/wp-content/uploads/2021/11/Untitlแแแแแed-1-copy.jpg\",\"publishedAt\":\"2021-11-12T03:32:00Z\",\"content\":null},{\"source\":{\"id\":null,\"name\":\"YouTube\"},\"author\":null,\"title\":\"ปล้นลอยฟ้า [Official Teaser] Ver.3 - Ch7HD\",\"description\":\"ลุ้น...ระทึก 💥 บู๊...ระห่ำกับปฏิบัติการปล้นเพชรพันล้านที่เดิมพันด้วยชีวิต#ปล้นลอยฟ้า 🪂💎 #SKYRAIDERเริ่ม พฤหัสบดีที่ 25 พฤศจิกายนนี้ 20.30 น.เติมเต็มความสุ...\",\"url\":\"https://www.youtube.com/watch?v=ifiyPLzL7KM\",\"urlToImage\":\"https://i.ytimg.com/vi/ifiyPLzL7KM/maxresdefault.jpg\",\"publishedAt\":\"2021-11-12T03:28:44Z\",\"content\":null},{\"source\":{\"id\":null,\"name\":\"Prachachat.net\"},\"author\":\"https://www.facebook.com/PrachachatOnline/\",\"title\":\"บทวิเคราะห์ราคาทองคำวันนี้ (12 พ.ย.) โดย YLG Bullion - ประชาชาติธุรกิจ\",\"description\":\"บริษัท วายแอลจี บูลเลี่ยน อินเตอร์เนชั่นแนล จำกัด รายงานราคาทองคำประจำวันที่ 12 พฤศจิกายน 2564 สรุป ราคาทองคำวานนี้ปิดปรับตัวเพิ่มขึ้น 12.30\",\"url\":\"https://www.prachachat.net/finance/news-800926\",\"urlToImage\":\"https://www.prachachat.net/wp-content/uploads/2021/05/ทอง-2-1.jpg\",\"publishedAt\":\"2021-11-12T03:24:25Z\",\"content\":\"12 2564\\r\\n12.30 6 (Veterans Day)\\r\\n 5 (The Treasury breakeven inflation curve) 4.80% 3.65% 2 3.16% 5 2.68% 10 \\r\\n () FedWatch Tool CME Group .. 80% 100% .. 2022 1 .. 2022 95 16 95.262 22 .. 2020 SPDR 0.… [+65 chars]\"},{\"source\":{\"id\":null,\"name\":\"Bangkokbiznews.com\"},\"author\":\"bangkokbiznews\",\"title\":\"ราคาทองวันนี้ (12พ.ย.) ร่วงแรง 100 บาท - กรุงเทพธุรกิจ\",\"description\":\"ราคาทองวันศุกร์ (12 พ.ย.) เปิดตลาดร่วง100 บาท ทองรูปพรรณขาย29,350บาท ทองแท่งขาย28,850 บาท ราคาทองคำ Spot เช้านี้เคลื่อนไหวที่บริเวณ 1,859 ดอลลาร์\",\"url\":\"https://www.bangkokbiznews.com/news/971387\",\"urlToImage\":\"https://image.bangkokbiznews.com/uploads/images/md/2021/11/eTAIJVp432vl5E6SRKTN.webp\",\"publishedAt\":\"2021-11-12T03:24:00Z\",\"content\":\"Spot 1,859 15.6 1,863.9 (CPI) 30 \\r\\n 200 17,260\"},{\"source\":{\"id\":null,\"name\":\"Kapook.com\"},\"author\":\"43\",\"title\":\"ประกันโควิด เจอ จ่าย จบ ส่อไปไม่ไหว ทบทวนบอกเลิกกรมธรรม์ ก่อนบริษัทจะล้ม - kapook.com\",\"description\":\"ยอดเคลมสินไหมทะลุ 40,000 ล้าน\",\"url\":\"https://covid-19.kapook.com/view248753.html\",\"urlToImage\":\"https://my.kapook.com/imagescontent/fb_img/500/s_248753_1882.jpg\",\"publishedAt\":\"2021-11-12T03:11:50Z\",\"content\":null},{\"source\":{\"id\":null,\"name\":\"Pptvhd36.com\"},\"author\":\"PPTV Online\",\"title\":\"ระทึก! ไฟไหม้ รพ.มงกุฎวัฒนะ เจ้าหน้าที่ตรวจสอบรังสีรั่วไหล - pptvhd36.com\",\"description\":\"เกิดเหตุไฟไหม้ รพ.มุงกุฎวัฒนะ ห้องเอ็กซ์เรย์วอด เร่งหาสาเหตุ ตรวจสอบรังสีรั่วไหล\",\"url\":\"https://www.pptvhd36.com/news/%E0%B8%AD%E0%B8%B2%E0%B8%8A%E0%B8%8D%E0%B8%B2%E0%B8%81%E0%B8%A3%E0%B8%A3%E0%B8%A1/160373\",\"urlToImage\":\"https://img.pptvhd36.com/thumbor/2021/11/12/news-8b6def44e5.jpg\",\"publishedAt\":\"2021-11-12T02:30:00Z\",\"content\":\"06.42 . 12  2564 199 . 10 1 \\r\\n 2 \\r\\n 20 \\r\\n 2-3 \\r\\nAdd friend @PPTVOnline\"},{\"source\":{\"id\":null,\"name\":\"Sanook.com\"},\"author\":\"Sanook! Regional\",\"title\":\"จับสึกยกวัด! เจ้าอาวาส-พระลูกวัด มั่วสุมเสพยาบ้า ผงะเปิดกุฏิเจอขวดฉี่กองเต็มห้อง - Sanook\",\"description\":\"ชาวบ้านแจ้งจับเจ้าอาวาส-พระลูกวัด มั่วสุมเสพยาบ้า เปิดกุฏิเจอกองขยะ ขวดฉี่เต็มห้อง จับสึกยกวัดไม่เหลือพระสักรูป\",\"url\":\"https://www.sanook.com/news/8472322/\",\"urlToImage\":\"https://s.isanook.com/ns/0/rp/rc/w700h366/yacxacm1w0/aHR0cHM6Ly9zLmlzYW5vb2suY29tL25zLzAvdWQvMTY5NC84NDcyMzIyL200LmpwZw==.jpg\",\"publishedAt\":\"2021-11-12T02:00:32Z\",\"content\":\"- \\r\\n(11 ..64) 18.00 . ... . .. ... . . . 5 . . .  \\r\\n 5 . . . 1 . 10 \\r\\n ()  80 \\r\\n29   21 28 43  \\r\\n . () .\"},{\"source\":{\"id\":null,\"name\":\"Dailynews.co.th\"},\"author\":null,\"title\":\"เครื่องบินรบรัสเซียลาดตระเวนเหนือเบลารุสอีก สถานการณ์ผู้อพยพกับโปแลนด์ยังระอุ - เดลีนีวส์\",\"description\":\"รัสเซียส่งเครื่องบินรบขึ้นลาดตระเวนในเขตน่านฟ้าของเบลารุส ต่อเนื่องเป็นวันที่สอง ท่ามกลางสถานการณ์ตึงเครียดเรื่องผู้อพยพ ระหว่างเบลารุสกับโปแลนด์\",\"url\":\"https://www.dailynews.co.th/news/467805/\",\"urlToImage\":\"https://www.dailynews.co.th/wp-content/uploads/2021/11/b970c78dd4334a4bbc2a2b76c2231024-0-f36a67df73f140f68e8e9dc87530c51f_25247889.jpg\",\"publishedAt\":\"2021-11-12T01:54:00Z\",\"content\":\"Analytical cookies are used to understand how visitors interact with the website. These cookies help provide information on metrics the number of visitors, bounce rate, traffic source, etc.\"},{\"source\":{\"id\":null,\"name\":\"Thairath.co.th\"},\"author\":\"Thairath\",\"title\":\"วิธีตรวจสอบสิทธิ์ รับเงิน \\\"ประกันรายได้ข้าว ปี 64/65\\\" ขั้นตอนไม่ยุ่งยาก - ไทยรัฐ\",\"description\":\"ช่องทางตรวจสอบสิทธิ์รับเงิน \\\"โครงการประกันรายได้ข้าว ปี 2564/65\\\" สำหรับเกษตรกรผู้ปลูกข้าว 5 ชนิด ขั้นตอนไม่ยุ่งยาก หลายคนได้รับเงินแล้ว\",\"url\":\"https://www.thairath.co.th/business/economics/2240474\",\"urlToImage\":\"https://static.thairath.co.th/media/HCtHFA7ele6Q2dUMyUgzot6YPaUgaiUrYGkbeNCqRdkDO0acQNpLn1z9QHSrjETgpZ.jpg\",\"publishedAt\":\"2021-11-12T01:35:00Z\",\"content\":\"(...) ... 2564/65 13,225 -19 5 \\r\\n 9 .. 2564 530,842 11,230.69 \\r\\n 2564/65 ... \\r\\n ... 3 ... A-Mobile 24 LINE Official BAAC Family BAAC Connect\\r\\n1. \\\"\\\" \\\"\\\"\\r\\n2. \\\"\\\"\\r\\n3. \\\"\\\" .\"},{\"source\":{\"id\":null,\"name\":\"Bangkokbiznews.com\"},\"author\":\"bangkokbiznews\",\"title\":\"อัพเดท \\\"น้ำท่วม\\\" กทม. เตือนน้ำทะเลหนุนกระทบ 11 ชุมชน 239 ครัวเรือน - กรุงเทพธุรกิจ\",\"description\":\"อัพเดท \\\"น้ำท่วม\\\" กรุงเทพมหานคร เร่งแก้ปัญหาน้ำทะเลหนุน เตือน 11 ชุมชนนอกคันกั้นน้ำในพื้นที่ 7 เขตรวม 239 ครัวเรือน เฝ้าระวังผลกระทบจากน้ำทะเลหนุน\",\"url\":\"https://www.bangkokbiznews.com/news/971375\",\"urlToImage\":\"https://image.bangkokbiznews.com/uploads/images/md/2021/11/DxgdroTAs4dhA6hmg2iK.webp\",\"publishedAt\":\"2021-11-12T01:11:00Z\",\"content\":\"http://dds.bangkok.go.th/www.prbangkok.com Facebook @BKK_BEST https://www.facebook.com/prbangkok Twitter : @BKK_BEST \\r\\n () +2.30 .. +2.40 .. +2.80 .. Big Bag 200 5,150 9 ( 15 ) 49,640 4,250 () 4\"},{\"source\":{\"id\":null,\"name\":\"Dailynews.co.th\"},\"author\":null,\"title\":\"โควิดติดเชื้อเพิ่ม7305ราย หายป่วย7900ราย เสียชีวิต51 - เดลีนีวส์\",\"description\":\"ยอด 'โควิด-19' วันนี้ พบเสียชีวิตเพิ่มอีก 51 ราย ขณะที่พบผู้ติดเชื้อใหม่เพิ่มอีก 7,305 ราย ผู้ป่วยยืนยันสะสม 1,975,411 ราย\",\"url\":\"https://www.dailynews.co.th/news/467757/\",\"urlToImage\":\"https://www.dailynews.co.th/wp-content/uploads/2021/11/255030149_444927753792221_4768164725903029138_n.jpg\",\"publishedAt\":\"2021-11-12T00:45:00Z\",\"content\":null}]}\n"
     ]
    }
   ],
   "source": [
    "# note that we no longer put the API key in the URL\n",
    "url = f\"https://newsapi.org/v2/top-headlines?country=us\"\n",
    "\n",
    "# construct header as a dictionary\n",
    "# use the key as specified in the documentation (case-sensitive)\n",
    "header = {\n",
    "    'Authorization': api_key\n",
    "}\n",
    "\n",
    "# adjust the function call\n",
    "# pass our dictionary as a parameter to the function\n",
    "response = requests.get(url, headers=header)\n",
    "\n",
    "print(response.text)"
   ]
  },
  {
   "cell_type": "code",
   "execution_count": null,
   "metadata": {},
   "outputs": [],
   "source": [
    "# Convert the response into JSON\n",
    "# Your implementation here"
   ]
  },
  {
   "cell_type": "markdown",
   "metadata": {},
   "source": [
    "## Endpoints\n",
    "Let's explore what else the News API offer at the [Endpoints](https://newsapi.org/docs/endpoints) section."
   ]
  },
  {
   "cell_type": "markdown",
   "metadata": {},
   "source": [
    "## Exercises"
   ]
  },
  {
   "cell_type": "markdown",
   "metadata": {},
   "source": [
    "### Exercises 2 - News Sources\n",
    "List all the news sources available in Thailand"
   ]
  },
  {
   "cell_type": "code",
   "execution_count": 19,
   "metadata": {},
   "outputs": [],
   "source": [
    "# Your implementation here\n",
    "url = f\"https://newsapi.org/v2/top-headlines/sources?country=th\"\n",
    "header = {\n",
    "    'Authorization': api_key\n",
    "}\n",
    "response = requests.get(url, headers=header)\n",
    "\n",
    "data = json.loads(response.text)"
   ]
  },
  {
   "cell_type": "code",
   "execution_count": 20,
   "metadata": {},
   "outputs": [
    {
     "name": "stdout",
     "output_type": "stream",
     "text": [
      "{'status': 'ok', 'sources': []}\n"
     ]
    }
   ],
   "source": [
    "print(data)"
   ]
  },
  {
   "cell_type": "markdown",
   "metadata": {},
   "source": [
    "### Exercises 3 - News Search\n",
    "Find all the news from Thailand that's about \"เปิดประเทศ\""
   ]
  },
  {
   "cell_type": "code",
   "execution_count": 29,
   "metadata": {},
   "outputs": [],
   "source": [
    "# Your implementation here\n",
    "url = f\"https://newsapi.org/v2/everything?q=ศาลรัฐธรรมนูญ\"\n",
    "header = {\n",
    "    'Authorization': api_key\n",
    "}\n",
    "response = requests.get(url, headers=header)\n",
    "\n",
    "data = json.loads(response.text)"
   ]
  },
  {
   "cell_type": "code",
   "execution_count": 30,
   "metadata": {},
   "outputs": [
    {
     "name": "stdout",
     "output_type": "stream",
     "text": [
      "{'status': 'ok', 'totalResults': 5, 'articles': [{'source': {'id': None, 'name': 'Thairath.co.th'}, 'author': 'Thairath', 'title': 'รุ้ง-23 องค์กรนักศึกษา โต้ ศาลรัฐธรรมนูญ กระบวนการไต่สวน เตือนระวังพายุใหญ่', 'description': '23 องค์กร นศ. ฮือค้านคำวินิจฉัยศาลรัฐธรรมนูญ ย้ำกระบวนการไต่สวนไม่เป็นธรรม ปราศจากเจตนาล้มล้างการปกครองฯ หมดสิ้นศรัทธาอำนาจตุลาการ-นิติศาสตร์ไทย เตือนระวังกระแสลมจะทวีจนกลายเป็นพายุ', 'url': 'https://www.thairath.co.th/news/politic/2240357', 'urlToImage': 'https://static.thairath.co.th/media/dFQROr7oWzulq5Fa3yvjTA3Mn3HlqRjkw9EqpFbHiPCyNvQEFh6knNTsikwIaDI0Utd.jpg', 'publishedAt': '2021-11-11T22:25:00Z', 'content': '. “” \\xa0 23 \\r\\n 12.30 . 11 .. .. “” 23 “ ” 23 10 5 \\r\\n 1. 3 \\xa0 2. The king can do no wrong \\r\\n3. “” 2492 ..2490 2475 4. 5. \\r\\n“ ” \\r\\n Death Grips Guillotine (It goes Yah) 3.47 “Kangaroo Court” \\r\\n “” “” \\xa0. . … [+303 chars]'}, {'source': {'id': None, 'name': 'Thairath.co.th'}, 'author': 'Thairath', 'title': 'ศาลรธน. ประกาศยกระดับเข้มพื้นที่ รับอ่านคำวินิจฉัยม็อบ 3 นิ้ว พรุ่งนี้', 'description': 'ศาลรัฐธรรมนูญ แจงเข้มสำนักงาน และศูนย์ราชการเฉลิมพระเกียรติ 80 พรรษา เป็นพื้นที่รักษาความสงบเรียบร้อยวันพรุ่งนี้ ปมเตรียมอ่านคำวินิจฉัย คดีม็อบ 3 นิ้ว เรียกร้องให้ปฏิรูปสถาบัน 10 ข้อ', 'url': 'https://www.thairath.co.th/news/politic/2238489', 'urlToImage': 'https://static.thairath.co.th/media/HCtHFA7ele6Q2dUMyUm4w4GEY5RoVnaQ4rE2z9iZBf19WTajHMNyYN9zA8XmD7dcob.jpg', 'publishedAt': '2021-11-09T06:58:00Z', 'content': '9 .. 2564 () 49 ( 19/2563) 49 10 2564 \\r\\n1. \\r\\n2. 10 2564 00.01 23.59 \\r\\n 80 5 2550 38 .. 2561 4 5 8 (8) .. 2562 16 .. 2562\\r\\n 9 2564\\r\\n 49 , , .. , , .. , .. , .. 8 10 2563 10 49 .'}, {'source': {'id': None, 'name': 'Thairath.co.th'}, 'author': 'Thairath', 'title': '“ไพบูลย์” รอด ศาลรัฐธรรมนูญวินิจฉัยไม่ต้องพ้น ส.ส. ปมเลิกพรรคย้ายซบ พปชร.', 'description': 'ศาลรัฐธรรมนูญ อ่านคำวินิจฉัย มีมติเสียงข้างมาก “ไพบูลย์ นิติตะวัน” ไม่ต้องพ้นจากสมาชิกภาพ ส.ส. ปมเลิกพรรคประชาชนปฏิรูป แล้วไปเข้าร่วมกับพรรคพลังประชารัฐ ทั้งที่ไม่มีชื่อเป็นปาร์ตี้ลิสต์', 'url': 'https://www.thairath.co.th/news/politic/2223715', 'urlToImage': 'https://static.thairath.co.th/media/HCtHFA7ele6Q2dUMyUoDzvtXRomoOqmd3D8sdT3vNRryPZg4AWML9UrCXqOBNS6A1u.jpg', 'publishedAt': '2021-10-20T08:41:00Z', 'content': '(..) 60 82 () ..2560 91 (7) .. (.) 101 (10) 90 91 (5) 22 .. 2564 ..2561 58 20 .. 2564\\r\\n 15.20 . ( 20 ) 82 101 (10) 90 91 (5) \\r\\n“ 101 (10) 90 91 (5)”\\r\\n .\\r\\n()'}, {'source': {'id': None, 'name': 'Blognone.com'}, 'author': 'sunnywalker', 'title': 'เว็บไซต์ศาล รธน. ถูกแฮ็ก เปลี่ยนชื่อไซต์เป็น Kangaroo Court หน้าเว็บเป็นเพลง Guillotine', 'description': 'ตอนนี้ เว็บไซต์ศาลรัฐธรรมนูญ www.constitutionalcourt.or.th ถูกแฮ็ก และเปลี่ยนหน้สเว็บไซต์เป็นเพลง Death Grips - Guillotine (It goes Yah และยังเปลี่ยนชื่อไซต์เป็น Kangaroo Court ซึ่งมีความหมายว่าศาลเตี้ยด้วย\\r\\n\\nเมื่อวานนนี้ ศาลรัฐธรรมนูญวินิจฉัยชี้ การชุมนุมของ…', 'url': 'https://www.blognone.com/node/125791', 'urlToImage': 'https://www.blognone.com/sites/default/files/externals/859e67f3e634df4f25f067f19db63593.png', 'publishedAt': '2021-11-11T05:42:10Z', 'content': 'Creative Commons Attribution 3.0©2004-2019\\r\\nBlognone.com is owned and operated by Blognone Co., Ltd. (LinkedIn Profile)\\r\\nBlognone is a subsidiary company of wongnai.com'}, {'source': {'id': None, 'name': 'Thairath.co.th'}, 'author': 'Thairath', 'title': '22 ธ.ค. ศาลรัฐธรรมนูญอ่านคำวินิจฉัยสมาชิกภาพ ส.ส. “สิระ” ปมคดีฉ้อโกง', 'description': 'ศาลรัฐธรรมนูญ นัดอ่านคำวินิจฉัยสมาชิกภาพ ส.ส. “สิระ” 22 ธ.ค.นี้ ปมเคยต้องคำพิพากษาอันถึงที่สุดคดีฉ้อโกง ทำให้มีลักษณะต้องห้ามลงสมัคร ส.ส.', 'url': 'https://www.thairath.co.th/news/politic/2239545', 'urlToImage': 'https://static.thairath.co.th/media/HCtHFA7ele6Q2dUMyUm4njYYiXWeMTuLmOAuITAheFR5iV9ACKKcLU2eWGVScYIWl2.jpg', 'publishedAt': '2021-11-10T12:28:00Z', 'content': '10 .. 2564 82 (..) 101 (6) 98 (10) ( 1/2564)\\r\\n () () 812/2538 2218/2538 98 (10) .. 101 (6)\\r\\n 82 .. \\r\\n .. 2561 58 22 2564 15.00 . 3 .'}]}\n"
     ]
    }
   ],
   "source": [
    "print(data)"
   ]
  },
  {
   "cell_type": "markdown",
   "metadata": {},
   "source": [
    "### Exercises 4 - News Sentiment\n",
    "Based on exercises 3, group the news by each news source. Does each news source present different sentiment about \"เปิดประเทศ\"?"
   ]
  },
  {
   "cell_type": "code",
   "execution_count": 31,
   "metadata": {},
   "outputs": [],
   "source": [
    "# Your implementation here\n",
    "newsBySource = {}\n",
    "for news in data['articles']:\n",
    "    sourceName = news['source']['name']\n",
    "    if sourceName not in newsBySource:\n",
    "        newsBySource[sourceName] = []\n",
    "    newsBySource[sourceName].append({\n",
    "        'title': news['title'],\n",
    "        'description': news['description']\n",
    "    })"
   ]
  },
  {
   "cell_type": "code",
   "execution_count": 32,
   "metadata": {},
   "outputs": [
    {
     "name": "stdout",
     "output_type": "stream",
     "text": [
      "{'Thairath.co.th': [{'title': 'รุ้ง-23 องค์กรนักศึกษา โต้ ศาลรัฐธรรมนูญ กระบวนการไต่สวน เตือนระวังพายุใหญ่', 'description': '23 องค์กร นศ. ฮือค้านคำวินิจฉัยศาลรัฐธรรมนูญ ย้ำกระบวนการไต่สวนไม่เป็นธรรม ปราศจากเจตนาล้มล้างการปกครองฯ หมดสิ้นศรัทธาอำนาจตุลาการ-นิติศาสตร์ไทย เตือนระวังกระแสลมจะทวีจนกลายเป็นพายุ'}, {'title': 'ศาลรธน. ประกาศยกระดับเข้มพื้นที่ รับอ่านคำวินิจฉัยม็อบ 3 นิ้ว พรุ่งนี้', 'description': 'ศาลรัฐธรรมนูญ แจงเข้มสำนักงาน และศูนย์ราชการเฉลิมพระเกียรติ 80 พรรษา เป็นพื้นที่รักษาความสงบเรียบร้อยวันพรุ่งนี้ ปมเตรียมอ่านคำวินิจฉัย คดีม็อบ 3 นิ้ว เรียกร้องให้ปฏิรูปสถาบัน 10 ข้อ'}, {'title': '“ไพบูลย์” รอด ศาลรัฐธรรมนูญวินิจฉัยไม่ต้องพ้น ส.ส. ปมเลิกพรรคย้ายซบ พปชร.', 'description': 'ศาลรัฐธรรมนูญ อ่านคำวินิจฉัย มีมติเสียงข้างมาก “ไพบูลย์ นิติตะวัน” ไม่ต้องพ้นจากสมาชิกภาพ ส.ส. ปมเลิกพรรคประชาชนปฏิรูป แล้วไปเข้าร่วมกับพรรคพลังประชารัฐ ทั้งที่ไม่มีชื่อเป็นปาร์ตี้ลิสต์'}, {'title': '22 ธ.ค. ศาลรัฐธรรมนูญอ่านคำวินิจฉัยสมาชิกภาพ ส.ส. “สิระ” ปมคดีฉ้อโกง', 'description': 'ศาลรัฐธรรมนูญ นัดอ่านคำวินิจฉัยสมาชิกภาพ ส.ส. “สิระ” 22 ธ.ค.นี้ ปมเคยต้องคำพิพากษาอันถึงที่สุดคดีฉ้อโกง ทำให้มีลักษณะต้องห้ามลงสมัคร ส.ส.'}], 'Blognone.com': [{'title': 'เว็บไซต์ศาล รธน. ถูกแฮ็ก เปลี่ยนชื่อไซต์เป็น Kangaroo Court หน้าเว็บเป็นเพลง Guillotine', 'description': 'ตอนนี้ เว็บไซต์ศาลรัฐธรรมนูญ www.constitutionalcourt.or.th ถูกแฮ็ก และเปลี่ยนหน้สเว็บไซต์เป็นเพลง Death Grips - Guillotine (It goes Yah และยังเปลี่ยนชื่อไซต์เป็น Kangaroo Court ซึ่งมีความหมายว่าศาลเตี้ยด้วย\\r\\n\\nเมื่อวานนนี้ ศาลรัฐธรรมนูญวินิจฉัยชี้ การชุมนุมของ…'}]}\n"
     ]
    }
   ],
   "source": [
    "print(newsBySource)"
   ]
  },
  {
   "cell_type": "code",
   "execution_count": 33,
   "metadata": {},
   "outputs": [
    {
     "name": "stdout",
     "output_type": "stream",
     "text": [
      "Thairath.co.th\n",
      "23 องค์กร นศ. ฮือค้านคำวินิจฉัยศาลรัฐธรรมนูญ ย้ำกระบวนการไต่สวนไม่เป็นธรรม ปราศจากเจตนาล้มล้างการปกครองฯ หมดสิ้นศรัทธาอำนาจตุลาการ-นิติศาสตร์ไทย เตือนระวังกระแสลมจะทวีจนกลายเป็นพายุ\n",
      "ศาลรัฐธรรมนูญ แจงเข้มสำนักงาน และศูนย์ราชการเฉลิมพระเกียรติ 80 พรรษา เป็นพื้นที่รักษาความสงบเรียบร้อยวันพรุ่งนี้ ปมเตรียมอ่านคำวินิจฉัย คดีม็อบ 3 นิ้ว เรียกร้องให้ปฏิรูปสถาบัน 10 ข้อ\n",
      "ศาลรัฐธรรมนูญ อ่านคำวินิจฉัย มีมติเสียงข้างมาก “ไพบูลย์ นิติตะวัน” ไม่ต้องพ้นจากสมาชิกภาพ ส.ส. ปมเลิกพรรคประชาชนปฏิรูป แล้วไปเข้าร่วมกับพรรคพลังประชารัฐ ทั้งที่ไม่มีชื่อเป็นปาร์ตี้ลิสต์\n",
      "ศาลรัฐธรรมนูญ นัดอ่านคำวินิจฉัยสมาชิกภาพ ส.ส. “สิระ” 22 ธ.ค.นี้ ปมเคยต้องคำพิพากษาอันถึงที่สุดคดีฉ้อโกง ทำให้มีลักษณะต้องห้ามลงสมัคร ส.ส.\n",
      "\n",
      "Blognone.com\n",
      "ตอนนี้ เว็บไซต์ศาลรัฐธรรมนูญ www.constitutionalcourt.or.th ถูกแฮ็ก และเปลี่ยนหน้สเว็บไซต์เป็นเพลง Death Grips - Guillotine (It goes Yah และยังเปลี่ยนชื่อไซต์เป็น Kangaroo Court ซึ่งมีความหมายว่าศาลเตี้ยด้วย\n",
      "\n",
      "เมื่อวานนนี้ ศาลรัฐธรรมนูญวินิจฉัยชี้ การชุมนุมของ…\n",
      "\n"
     ]
    }
   ],
   "source": [
    "for source, articles in newsBySource.items():\n",
    "    print(source)\n",
    "    for article in articles:\n",
    "        print(article['description'])\n",
    "    print()"
   ]
  },
  {
   "cell_type": "code",
   "execution_count": null,
   "metadata": {},
   "outputs": [],
   "source": []
  }
 ],
 "metadata": {
  "interpreter": {
   "hash": "c61d2943375a15becc20f3ce5447ca9799ce906ccda59cb89f8beddab1c1dd0e"
  },
  "kernelspec": {
   "display_name": "Python 3 (ipykernel)",
   "language": "python",
   "name": "python3"
  },
  "language_info": {
   "codemirror_mode": {
    "name": "ipython",
    "version": 3
   },
   "file_extension": ".py",
   "mimetype": "text/x-python",
   "name": "python",
   "nbconvert_exporter": "python",
   "pygments_lexer": "ipython3",
   "version": "3.8.12"
  }
 },
 "nbformat": 4,
 "nbformat_minor": 4
}
