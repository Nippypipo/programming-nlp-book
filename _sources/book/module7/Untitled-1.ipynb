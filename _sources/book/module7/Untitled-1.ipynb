{
 "cells": [
  {
   "cell_type": "code",
   "execution_count": 1,
   "metadata": {},
   "outputs": [],
   "source": [
    "from gensim.models import KeyedVectors"
   ]
  },
  {
   "cell_type": "code",
   "execution_count": 2,
   "metadata": {},
   "outputs": [],
   "source": [
    "path = '/Users/te/My Drive/workshops/AIS Data Science 2022/DL and NLP Course Material/3 Word embedding/TNC_embeddings-200.bin'"
   ]
  },
  {
   "cell_type": "code",
   "execution_count": 3,
   "metadata": {},
   "outputs": [],
   "source": [
    "tnc_embeddings =  KeyedVectors.load_word2vec_format(path, binary=True, unicode_errors='ignore')"
   ]
  },
  {
   "cell_type": "code",
   "execution_count": 4,
   "metadata": {},
   "outputs": [
    {
     "name": "stderr",
     "output_type": "stream",
     "text": [
      "/Users/te/anaconda3/lib/python3.11/site-packages/gensim/models/keyedvectors.py:849: RuntimeWarning: invalid value encountered in divide\n",
      "  dists = dot(self.vectors[clip_start:clip_end], mean) / self.norms[clip_start:clip_end]\n"
     ]
    },
    {
     "data": {
      "text/plain": [
       "[('ตระหนัก', 0.6162227988243103),\n",
       " ('หมาย', 0.5812626481056213),\n",
       " ('พิเคราะห์', 0.5239153504371643),\n",
       " ('กล่าวขวัญ', 0.5108522176742554),\n",
       " ('บ่งบอก', 0.5074505805969238),\n",
       " ('แก่กรรม', 0.4906115233898163),\n",
       " ('พิจารณา', 0.4869660437107086),\n",
       " ('ครอบคลุม', 0.48312264680862427),\n",
       " ('เพียงนี้', 0.4765177369117737),\n",
       " ('ระลึก', 0.4564956724643707)]"
      ]
     },
     "execution_count": 4,
     "metadata": {},
     "output_type": "execute_result"
    }
   ],
   "source": [
    "tnc_embeddings.most_similar('คำนึง', topn=10)"
   ]
  },
  {
   "cell_type": "code",
   "execution_count": 5,
   "metadata": {},
   "outputs": [
    {
     "data": {
      "text/plain": [
       "[('พิเคราะห์', 0.5624943375587463),\n",
       " ('วิเคราะห์', 0.5607314705848694),\n",
       " ('พิจาณา', 0.5489415526390076),\n",
       " ('วินิจฉัย', 0.5258139371871948),\n",
       " ('ดำเนินการ', 0.5139265656471252),\n",
       " ('ITC', 0.5127865076065063),\n",
       " ('ประเมิน', 0.5113678574562073),\n",
       " ('เสนอ', 0.5028934478759766),\n",
       " ('ตีความ', 0.5021229982376099),\n",
       " ('กำหนด', 0.5002379417419434)]"
      ]
     },
     "execution_count": 5,
     "metadata": {},
     "output_type": "execute_result"
    }
   ],
   "source": [
    "tnc_embeddings.most_similar('พิจารณา', topn=10)"
   ]
  },
  {
   "cell_type": "code",
   "execution_count": 6,
   "metadata": {},
   "outputs": [
    {
     "data": {
      "text/plain": [
       "[('หมาย', 0.6005042791366577),\n",
       " ('บ่ง', 0.5936071872711182),\n",
       " ('แสดง', 0.5531653761863708),\n",
       " ('บ่งชัด', 0.5140919089317322),\n",
       " ('สะท้อน', 0.5108014941215515),\n",
       " ('คำนึง', 0.5074505805969238),\n",
       " ('ระลึก', 0.47053706645965576),\n",
       " ('บ่งชี้', 0.46681541204452515),\n",
       " ('ตระหนัก', 0.4643227756023407),\n",
       " ('กล่าวขวัญ', 0.425353080034256)]"
      ]
     },
     "execution_count": 6,
     "metadata": {},
     "output_type": "execute_result"
    }
   ],
   "source": [
    "tnc_embeddings.most_similar('บ่งบอก', topn=10)"
   ]
  },
  {
   "cell_type": "code",
   "execution_count": 15,
   "metadata": {},
   "outputs": [
    {
     "data": {
      "text/plain": [
       "[('เพ้อ', 0.5420231223106384),\n",
       " ('พูด', 0.5370310544967651),\n",
       " ('คิด', 0.5254775285720825),\n",
       " ('บางอ้อ', 0.5175539255142212),\n",
       " ('หลุดปาก', 0.5057739019393921),\n",
       " ('รู้สึก', 0.49102720618247986),\n",
       " ('บอก', 0.4882128834724426),\n",
       " ('ทำไม', 0.4876376688480377),\n",
       " ('รำพึง', 0.47684916853904724),\n",
       " ('เอ่ย', 0.4697892367839813)]"
      ]
     },
     "execution_count": 15,
     "metadata": {},
     "output_type": "execute_result"
    }
   ],
   "source": [
    "tnc_embeddings.most_similar('นึก', topn=10)"
   ]
  },
  {
   "cell_type": "code",
   "execution_count": 17,
   "metadata": {},
   "outputs": [
    {
     "data": {
      "text/plain": [
       "[('บรรยาย', 0.6401349902153015),\n",
       " ('นิยาม', 0.595074474811554),\n",
       " ('ทำนาย', 0.5825995802879333),\n",
       " ('บอกเล่า', 0.5786294341087341),\n",
       " ('วิเคราะห์', 0.5469810366630554),\n",
       " ('ตีความ', 0.5442456007003784),\n",
       " ('เฉลย', 0.524876058101654),\n",
       " ('ชี้แนะ', 0.5192605257034302),\n",
       " ('เข้าใจ', 0.5187632441520691),\n",
       " ('พูด', 0.5179716944694519)]"
      ]
     },
     "execution_count": 17,
     "metadata": {},
     "output_type": "execute_result"
    }
   ],
   "source": [
    "tnc_embeddings.most_similar('อธิบาย', topn=10)"
   ]
  },
  {
   "cell_type": "code",
   "execution_count": null,
   "metadata": {},
   "outputs": [],
   "source": []
  }
 ],
 "metadata": {
  "kernelspec": {
   "display_name": "base",
   "language": "python",
   "name": "python3"
  },
  "language_info": {
   "codemirror_mode": {
    "name": "ipython",
    "version": 3
   },
   "file_extension": ".py",
   "mimetype": "text/x-python",
   "name": "python",
   "nbconvert_exporter": "python",
   "pygments_lexer": "ipython3",
   "version": "3.11.4"
  }
 },
 "nbformat": 4,
 "nbformat_minor": 2
}
