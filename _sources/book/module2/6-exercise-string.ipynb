{
 "cells": [
  {
   "cell_type": "markdown",
   "metadata": {},
   "source": [
    "# โจทย์: สตริง"
   ]
  },
  {
   "cell_type": "markdown",
   "metadata": {
    "id": "PZyorXmLaWLN",
    "tags": []
   },
   "source": [
    "## ข้อ 1. Reverse String\n",
    "เขียนฟังก์ชันชื่อ `reverse_string` ซึ่งรับ parameter 1 ตัวเป็น string (สมมุติว่าชื่อ `original_string`) แล้ว return ค่าเป็น string ซึ่งมีค่าเป็น string ย้อนกลับของ `original_string`\n",
    "\n",
    "**ตัวอย่าง**\n",
    "\n",
    "`reverse_string` รับ parameter เป็น _'Hello'_ จะต้อง return string ที่มีค่าเป็น _'olleH'_"
   ]
  },
  {
   "cell_type": "code",
   "execution_count": null,
   "metadata": {
    "id": "O4Qgn38naWLO"
   },
   "outputs": [],
   "source": [
    "### เขียนโค้ดในช่องนี้\n"
   ]
  },
  {
   "cell_type": "code",
   "execution_count": null,
   "metadata": {
    "id": "dhv6JlHoaWLR"
   },
   "outputs": [],
   "source": [
    "if reverse_string('Hello') == 'olleH':\n",
    "    print('ถูกต้อง')\n",
    "else:\n",
    "    print('ไม่ถูกต้อง')\n",
    "    \n",
    "if reverse_string('Welcome to the new World!') == '!dlroW wen eht ot emocleW':\n",
    "    print('ถูกต้อง')\n",
    "else:\n",
    "    print('ไม่ถูกต้อง')"
   ]
  },
  {
   "cell_type": "markdown",
   "metadata": {
    "id": "ffL_WDWiaWLU"
   },
   "source": [
    "## ข้อ 2. Palindrome\n",
    "เขียนฟังก์ชันชื่อ `is_palindrome` ซึ่งรับ parameter 1 ตัวเป็น string แล้วเช็คว่า string นั้นเป็น palindrome หรือไม่ โดยถือว่าตัวอักษรตัวเล็กและตัวใหญ่เป็นคนละเดียวกัน\n",
    "\n",
    "ถ้าใช่ ให้ return `True` แต่ถ้าไม่ใช่ ให้ return `False`\n",
    "\n",
    "string จะเป็น palindrome ก็ต่อเมื่ออ่าน string จากหน้าไปหลัง เหมือนกับการอ่านจากหลังไปหน้า\n",
    "\n",
    "**ตัวอย่าง**\n",
    "\n",
    "_'TENET'_ , _'civic'_  เป็น palindrome\n",
    "\n",
    "_'Hello'_ , _'AloHa'_ , _'Tenet'_ , _'ciVIC'_ ไม่เป็น palindrome"
   ]
  },
  {
   "cell_type": "code",
   "execution_count": null,
   "metadata": {
    "id": "pE_OkG4caWLU"
   },
   "outputs": [],
   "source": [
    "### เขียนโค้ดในช่องนี้"
   ]
  },
  {
   "cell_type": "code",
   "execution_count": null,
   "metadata": {
    "id": "F_mqFOG1aWLY"
   },
   "outputs": [],
   "source": [
    "if is_palindrome('TENET'):\n",
    "    print('ถูกต้อง')\n",
    "else:\n",
    "    print('ไม่ถูกต้อง')\n",
    "    \n",
    "if not is_palindrome('AloHa'):\n",
    "    print('ถูกต้อง')\n",
    "else:\n",
    "    print('ไม่ถูกต้อง')"
   ]
  },
  {
   "cell_type": "markdown",
   "metadata": {
    "id": "jbOnuvAAaWLa"
   },
   "source": [
    "## ข้อ 3. Pig Latin\n",
    "\n",
    "ภาษา Pig Latin เป็นภาษาที่ใกล้เคียงภาษาอังกฤษมาก โดยการแปลงคำภาษาอังกฤษเป็นภาษา Pig Latin สามารถทำได้โดยนำตัวอักษรตัวแรกของคำไปไว้ด้านหลัง แล้วเติมตัว `a` ไว้ด้านท้ายสุด เช่น คำว่า `hello` แปลงเป็นภาษา Pig Latin ได้ว่า `elloha` หรือ คำว่า `sleep` แปลงเป็นภาษา Pig Latin ได้ว่า `leepsa`\n",
    "\n",
    "เขียนฟังก์ชัน `eng_to_pig_latin` ซึ่งรับคำศัพท์ภาษาอังกฤษ 1 คำเป็น parameter แล้ว return คำภาษา Pig Latin ของคำๆ นั้น พร้อมทั้งเขียนเงื่อนไขในการตรวจสอบว่าฟังก์ชันทำงานถูกต้องตามตัวอย่างหรือไม่"
   ]
  },
  {
   "cell_type": "code",
   "execution_count": null,
   "metadata": {
    "id": "OnSznbrizHo6"
   },
   "outputs": [],
   "source": [
    "#ฟังก์ชัน"
   ]
  },
  {
   "cell_type": "code",
   "execution_count": null,
   "metadata": {
    "id": "ZSshFIUjzKZl"
   },
   "outputs": [],
   "source": [
    "#ตรวจสอบว่าฟังก์ชันทำงาน"
   ]
  },
  {
   "cell_type": "markdown",
   "metadata": {
    "id": "qJ1iuWzraWLf"
   },
   "source": [
    "## ข้อ 4. Flip Language\n",
    "\n",
    "คุณกับเพื่อนได้คิดค้นโค้ดลับของคำศัพท์ภาษาอังกฤษ โดยการแปลงคำศัพท์ภาษาอังกฤษดังนี้\n",
    "\n",
    "1. ถ้าคำศัพท์มีความยาวเป็นเลขคู่ ให้นำครึ่งหลังของคำมาไว้ข้างหน้า แล้วนำครึ่งหน้าของคำไปไว้ข้างหลัง\n",
    "1. ถ้าคำศัพท์มีความยาวเป็ยเลขคี่ ให้ตัดตัวอักษรตัวแรกออก แล้วนำคำที่เหลือสลับเหมือนคำศัพท์ที่มีความยาวเป็นเลขคู่ แล้วนำตัวอักษรตัวแรกที่ตัดออกไว้ด้านหน้าคำตามเดิม\n",
    "\n",
    "เขียนฟังก์ชัน `encrypt` ซึ่งรับคำศัพท์ภาษาอังกฤษ 1 คำเป็น parameter แล้ว return โค้ดลับของคำๆ นั้น พร้อมทั้งเขียนเงื่อนไขในการตรวจสอบว่าฟังก์ชันทำงานถูกต้องตามตัวอย่างหรือไม่\n",
    "\n",
    "**ตัวอย่าง**\n",
    "\n",
    "_'bear'_ แปลงเป็น _'arbe'_ <br>\n",
    "_'hello'_ แปลงเป็น _'hloel'_ <br>\n",
    "_'language'_ แปลงเป็น _'uagelang'_ <br>\n",
    "_'natural'_ แปลงเป็น _'nralatu'_ <br>"
   ]
  },
  {
   "cell_type": "code",
   "execution_count": null,
   "metadata": {
    "id": "8xNhOXv-aWLf"
   },
   "outputs": [],
   "source": [
    "### เขียนฟังก์ชันในช่องนี้"
   ]
  },
  {
   "cell_type": "code",
   "execution_count": null,
   "metadata": {
    "id": "7_1HiM0DaWLi"
   },
   "outputs": [],
   "source": [
    "### เขียนตรวจสอบในช่องนี้"
   ]
  },
  {
   "cell_type": "markdown",
   "metadata": {
    "id": "FO3Uk2mcaWLk"
   },
   "source": [
    "## ข้อ 5. ไม่ 1 ไม่ 5\n",
    "\n",
    "จงหาผลรวมของจำนวนเต็มที่น้อยกว่า 100 และไม่มีเลข 1 กับ 5\n",
    "\n",
    "$2 + 3 + 4 + 6 + 7 + 8 + 9 + 20 + 22 + 23 + 24 + 26 \\cdots + 99$\n",
    "\n",
    "คำตอบคือ 3432\n",
    "\n",
    "**Hint:** เปลี่ยนเป็น str แล้วใช้ in "
   ]
  },
  {
   "cell_type": "code",
   "execution_count": null,
   "metadata": {
    "id": "fmtt1EwnaWLl"
   },
   "outputs": [],
   "source": [
    "def sum_except15():\n",
    "    ### เขียนโค้ดตรงนี้"
   ]
  },
  {
   "cell_type": "markdown",
   "metadata": {
    "id": "EchA6wQyaWLn"
   },
   "source": [
    "## ข้อ 6. ไปรษณีย์\n",
    "\n",
    "ตอนนี้มี text data ที่มีชื่อเขตกับรหัสไปรษณีย์ ซึ่งเป็นหน้าตาแบบนี้\n",
    "\n",
    "~~~python\n",
    "data = 'Wattana 10110 Yannawa 10120 Lak Si 10210 Sai Mai 10220 Bang Na 10260 Dusit 10300'\n",
    "~~~\n",
    "\n",
    "แต่ข้อมูลดูยาก จงสร้างฟังก์ชั่น `postal_table()` ซึ่งแยกชื่อเขตกับรหัสไปรษณีย์ด้วย tab (`\\t`)\n",
    "\n",
    "~~~\n",
    "Wattana 10110\n",
    "Yannawa 10120\n",
    "Lak Si  10210\n",
    "Sai Mai 10220\n",
    "Bang Na 10260\n",
    "Dusit   10300\n",
    "~~~"
   ]
  },
  {
   "cell_type": "code",
   "execution_count": null,
   "metadata": {
    "id": "4a-tCYjoaWLn"
   },
   "outputs": [],
   "source": [
    "def postal_table(raw_text):\n",
    "    \"\"\"\n",
    "    1. add each character to new_string, if not space\n",
    "    2. replace space before postal code with tab \\t\n",
    "    3. replace space after postal code with newline \\n\n",
    "    \"\"\"\n"
   ]
  },
  {
   "cell_type": "markdown",
   "metadata": {
    "id": "XYblJd88aWLp"
   },
   "source": [
    "## ข้อ 7. Am I a float?\n",
    "\n",
    "เรียกใช้ฟังก์ชัน `input` เพื่อรับค่าทางหน้าจอจากผู้ใช้ 1 ค่า แล้วแสดงผลทางหน้าจอว่าค่าที่ผู้ใช้ใส่มาเป็น `float` หรือไม่\n",
    "\n",
    "**Hint:** `float` จะมีจุดทศนิยม 1 จุด และทีเหลือเป็นตัวเลข แต่ว่าอาจจะเป็นค่าลบได้\n",
    "\n",
    "**ตัวอย่าง**\n",
    "\n",
    "|**input**|**output**|\n",
    "|:-:|:-:|\n",
    "|3.1415|Yes|\n",
    "|12|No|\n",
    "|-35.439145|Yes|\n",
    "|43BDgk|No|"
   ]
  },
  {
   "cell_type": "code",
   "execution_count": null,
   "metadata": {
    "id": "Y2fStqxjaWLp"
   },
   "outputs": [],
   "source": [
    "### เขียนโค้ดในช่องนี้"
   ]
  },
  {
   "cell_type": "markdown",
   "metadata": {
    "id": "MFUBqINyaWLr"
   },
   "source": [
    "## ข้อ 8. str to int\n",
    "\n",
    "เรียกใช้ฟังก์ชัน `input` เพื่อรับค่าทางหน้าจอจากผู้ใช้ 2 ค่า แล้วแสดงผลทางหน้าจอดังนี้\n",
    "1. ถ้าเป็นตัวเลขทั้งคู่ (`float` หรือ `int`) ให้แสดงผลบวกของสองค่านี้\n",
    "1. ถ้าตัวแรกเป็นจำนวนเต็มตั้งแต่ 1 ขึ้นไป (`int` >= 1) แล้วอีกตัวหนึ่งไม่ใช่ตัวเลข (ไม่ใช่ทั้ง `float` และ `int`) ให้แสดงค่าที่ 2 เป็นจำนวนบรรทัดตามจำนวนแรก\n",
    "1. นอกจากนี้ ให้แสดงว่า `Sorry, I don't understand.`\n",
    "\n",
    "**ตัวอย่าง**\n",
    "\n",
    "|**input**|**output**|\n",
    "|:-:|:-:|\n",
    "|3<br> 5|8|\n",
    "|6<br> 1.11|7.11|\n",
    "|2<br> Hello Thailand!|Hello Thailand!<br> Hello Thailand!|\n",
    "|-1<br> Go|Sorry, I don't understand.|"
   ]
  },
  {
   "cell_type": "code",
   "execution_count": null,
   "metadata": {
    "id": "q4uEn4kRaWLs"
   },
   "outputs": [],
   "source": [
    "### เขียนโค้ดในช่องนี้"
   ]
  },
  {
   "cell_type": "markdown",
   "metadata": {
    "id": "6dgXq2uaaWLu"
   },
   "source": [
    "# โจทย์: สตริง (ยาก)\n",
    "\n",
    "โจทย์ optional สำหรับคนที่ชอบความท้าทาย"
   ]
  },
  {
   "cell_type": "markdown",
   "metadata": {
    "id": "9PmIkO15aWLu"
   },
   "source": [
    "## Extra 1 : Morphophonological Rules\n",
    "\n",
    "ภาษาโซโนมิมี morphophonological rules ที่เปลี่ยน singular เป็น plural  หลายกฎ\n",
    "\n",
    "มีข้อมูลดังนี้\n",
    "\n",
    "|singular|plural|\n",
    "|:-:|:-:|\n",
    "|kari|karina|\n",
    "|pranu|pranuna|\n",
    "|tane|tanena|\n",
    "|gunro|gunrona|\n",
    "|spa|spana|\n",
    "|tam|tamu|\n",
    "|zarin|zarina|\n",
    "|esif|esivu|\n",
    "|arev|arevu|\n",
    "|res|reza|\n",
    "|foz|foza|\n",
    "|mirib|miribu|\n",
    "|snep|snebu|\n",
    "|bad|bada|\n",
    "|orit|orida|\n",
    "|akug|akuga|\n",
    "|nank|nanga|\n",
    "\n",
    "จงเจาะจงกฎและเขียนโปรแกรมที่ singular เป็น plural\n",
    "\n",
    "\n",
    "~~~python\n",
    "plural('kap')\n",
    ">>>'kabu'\n",
    "\n",
    "plural('udon')\n",
    ">>>('udona')\n",
    "\n",
    "plural('oishi')\n",
    ">>>('oishina')\n",
    "~~~"
   ]
  },
  {
   "cell_type": "code",
   "execution_count": null,
   "metadata": {
    "id": "3kt-fFjKaWLu"
   },
   "outputs": [],
   "source": [
    "### Extra 1\n",
    "def plural(word):"
   ]
  },
  {
   "cell_type": "markdown",
   "metadata": {
    "id": "VVOkpIF8aWLw"
   },
   "source": [
    "## Extra 2 : password generator\n",
    "\n",
    "ใน module `string` มีชุดตัวอักษรดังนี้ (ไม่ใช่ฟังก์ชั่น จึงไม่ต้องใส่วงเล็บ)\n",
    "\n",
    "~~~python\n",
    "import string\n",
    "\n",
    "string.ascii_letters\n",
    ">>>'abcdefghijklmnopqrstuvwxyzABCDEFGHIJKLMNOPQRSTUVWXYZ'\n",
    "\n",
    "string.digits\n",
    ">>>'0123456789'\n",
    "~~~\n",
    "\n",
    "จงสร้างฟังก์ชั่นที่สุ่มเลือก $n$ ตัวจากชุดข้างบนนี้ให้เป็นรหัส\n",
    "\n",
    "รหัสต้องมีทั้งตัวใหญ่ ตัวเล็ก และตัวเลข\n",
    "\n",
    "`random.choice('***')` จะสุ่มเลือกตัวหนึ่งจาก str\n",
    "\n",
    "~~~python\n",
    "generate_password(8)\n",
    ">>>hdN41d07\n",
    "~~~"
   ]
  },
  {
   "cell_type": "code",
   "execution_count": null,
   "metadata": {
    "id": "34HMS83IaWLx"
   },
   "outputs": [],
   "source": [
    "### Extra 2\n",
    "import string, random\n",
    "def generate_password(n):"
   ]
  },
  {
   "cell_type": "code",
   "execution_count": null,
   "metadata": {
    "id": "YFlwu5aYaWLz"
   },
   "outputs": [],
   "source": [
    "generate_password(10)"
   ]
  },
  {
   "cell_type": "markdown",
   "metadata": {
    "id": "NE03Y0uiaWL0"
   },
   "source": [
    "## Extra 3 : Caesar's cipher\n",
    "\n",
    "Caesar's cipher สามารถใช้ ord / chr ได้ด้วย \n",
    "\n",
    "แต่ต้องระวังว่าตัวอักษรจะ circulate เช่น กรณี shift = 1\n",
    "\n",
    "|||||||||||\n",
    "|---|:-:|:-:|:-:|:-:|:-:|:-:|:-:|:-:|:-:|\n",
    "|original|a|b|c|d|...|w|x|y|z|\n",
    "|code point|97|98|99|100|...|119|120|121|122|\n",
    "|encrypted|b|c|d|e|...|x|y|z|a|\n",
    "|code point|98|99|100|101|...|120|121|122|97|\n",
    "\n",
    "\n",
    "function ต้องมี argument 2 ตัว ได้แก่ character (ตังเล็กอย่างเดียว ไม่ต้องคิดตัวใหญ่) กับ shift\n",
    "\n",
    "~~~python\n",
    "encrypt('abz', 3)\n",
    ">>>'dec'\n",
    "\n",
    "encrypt('abz', -3)\n",
    ">>>'xyw'\n",
    "~~~\n",
    "\n",
    "Hint: ระวังกรณีมากกว่า 122 หรือน้อยกว่า 97\n",
    "\n",
    "ลบ 97 ไว้แล้วใช้ mod 26 จะง่ายกว่า\n",
    "\n",
    "|||||||||||\n",
    "|---|:-:|:-:|:-:|:-:|:-:|:-:|:-:|:-:|:-:|\n",
    "|original|a|b|c|d|...|w|x|y|z|\n",
    "|code point|97|98|99|100|...|119|120|121|122|\n",
    "|code point - 97|0|1|2|3|...|22|23|24|25|"
   ]
  },
  {
   "cell_type": "code",
   "execution_count": null,
   "metadata": {
    "id": "--DrU3yWaWL1"
   },
   "outputs": [],
   "source": [
    "def encrypt(text, shift):"
   ]
  },
  {
   "cell_type": "code",
   "execution_count": null,
   "metadata": {
    "id": "G5cDTAe9aWL3"
   },
   "outputs": [],
   "source": [
    "encrypt('abz', 3)"
   ]
  },
  {
   "cell_type": "code",
   "execution_count": null,
   "metadata": {
    "id": "zPlxRTebaWL5"
   },
   "outputs": [],
   "source": [
    "encrypt('abz', -3)"
   ]
  }
 ],
 "metadata": {
  "colab": {
   "collapsed_sections": [],
   "name": "PC4 Strings.ipynb",
   "provenance": []
  },
  "kernelspec": {
   "display_name": "Python 3 (ipykernel)",
   "language": "python",
   "name": "python3"
  },
  "language_info": {
   "codemirror_mode": {
    "name": "ipython",
    "version": 3
   },
   "file_extension": ".py",
   "mimetype": "text/x-python",
   "name": "python",
   "nbconvert_exporter": "python",
   "pygments_lexer": "ipython3",
   "version": "3.8.12"
  }
 },
 "nbformat": 4,
 "nbformat_minor": 4
}
