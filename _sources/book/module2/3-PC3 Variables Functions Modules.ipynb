{
 "cells": [
  {
   "cell_type": "markdown",
   "metadata": {
    "id": "Vco7akx29Qsr"
   },
   "source": [
    "# โจทย์: ตัวแปร และฟังก์ชัน"
   ]
  },
  {
   "cell_type": "markdown",
   "metadata": {
    "id": "KScCFRwfp1SY"
   },
   "source": [
    "## ข้อ 1\n",
    "ใช้ฟังก์ชัน `input()` ซึ่งเป็นฟังก์ชัน built-in ของ python ([ศึกษาวิธีการใช้ฟังก์ชันนี้](https://www.w3schools.com/python/ref_func_input.asp)) รับค่าตัวเลข 2 ค่า แล้วแสดงผลบวกของ 2 ค่านี้\n",
    "\n",
    "*Hint:* Return value ของ `input()` เป็น string ดังนั้นต้องทำการแปลงเป็นตัวเลขก่อน\n",
    "\n",
    "**ชวนคิด:** ถ้าไม่แปลง string เป็นตัวเลข แล้วเอา string มาบวกกัน ผลลัพธ์ที่ได้ออกมาคืออะไร"
   ]
  },
  {
   "cell_type": "code",
   "execution_count": null,
   "metadata": {
    "id": "f_XYZapeqsx2"
   },
   "outputs": [],
   "source": [
    "### Your implementation here"
   ]
  },
  {
   "cell_type": "markdown",
   "metadata": {
    "id": "ZhMKOEd2q04I"
   },
   "source": [
    "## ข้อ 2\n",
    "ปรับปรุงโปรแกรมจากข้อ 1 โดยปรับกระบวนการเป็นดังนี้\n",
    "1. ใช้ฟังก์ชัน `input()` รับค่าตัวเลขตัวที่ 1\n",
    "1. ใช้ฟังก์ชัน `input()` รับ operator (เลือกว่าจะทำแบบง่ายหรือแบบยาก)\n",
    "  * ง่าย: รองรับ operator + - * หรือ / เท่านั้น\n",
    "  * ยาก: รองรับ + - * / // และ %\n",
    "1. ใช้ฟังก์ชัน `input()` รับค่าตัวเลขตัวที่ 2\n",
    "1. แสดงผลลัพธ์จากการทำ operator ระหว่างตัวเลขตัวที่ 1 และ 2\n",
    "\n",
    "*ตัวอย่าง:* \n",
    "\n",
    "*ผู้ใช้กรอกค่า*\n",
    "\n",
    "**7 \\<enter> <br> - \\<enter> <br> 4 \\<enter>**\n",
    "\n",
    "*แสดงผลลัพธ์*\n",
    "\n",
    "**3**"
   ]
  },
  {
   "cell_type": "code",
   "execution_count": null,
   "metadata": {
    "id": "3HPz2PVLsnxf"
   },
   "outputs": [],
   "source": [
    "### Your implementation here\n"
   ]
  },
  {
   "cell_type": "code",
   "execution_count": 3,
   "metadata": {
    "colab": {
     "base_uri": "https://localhost:8080/"
    },
    "executionInfo": {
     "elapsed": 378,
     "status": "ok",
     "timestamp": 1630050235082,
     "user": {
      "displayName": "CR 26 เกษราภรณ์ ฤาชัย",
      "photoUrl": "",
      "userId": "16139989335520688579"
     },
     "user_tz": -420
    },
    "id": "CdPxhBPziliS",
    "outputId": "f6d6d27c-6542-41d5-f27e-8a910cadb67e"
   },
   "outputs": [
    {
     "data": {
      "text/plain": [
       "-1"
      ]
     },
     "execution_count": 3,
     "metadata": {},
     "output_type": "execute_result"
    }
   ],
   "source": []
  },
  {
   "cell_type": "markdown",
   "metadata": {
    "id": "F5l0V0gDAPjq"
   },
   "source": [
    "## ข้อ 3\n",
    "จงหาปริมาตรของกล่องที่มีความกว้าง 3 ซม. ยาว 7 ซม. และ สูง 9 ซม. โดยสร้าง function ใหม่ที่มี argument สามตัว (คำตอบคือ 189)\n",
    "\n",
    "จากนั้นคำนวณปริมาตรของกล่องที่มีความกว้าง 5.5 ซม. ยาว 6 ซม. และ สูง 8 ซม. โดยเปลี่ยนค่า argument (คำตอบคือ 264.0)\n",
    "\n",
    "จากนั้นคำนวณผลรวมของปริมาตรของทั้งสองกล่อง\n",
    "\n"
   ]
  },
  {
   "cell_type": "code",
   "execution_count": null,
   "metadata": {
    "id": "ahkjaaPlUrDm"
   },
   "outputs": [],
   "source": [
    "def cuboid(width, length, height):\n",
    "    ### Your implementation here\n",
    "    return 0"
   ]
  },
  {
   "cell_type": "code",
   "execution_count": null,
   "metadata": {
    "id": "NFfioLBpH9X2"
   },
   "outputs": [],
   "source": [
    "if cuboid(3,7,9) == 189:\n",
    "    print ('ถูกต้อง')\n",
    "else:\n",
    "    print ('ยังไม่ถูก')"
   ]
  },
  {
   "cell_type": "code",
   "execution_count": null,
   "metadata": {
    "id": "pYhjPymNpnAN"
   },
   "outputs": [],
   "source": [
    "if cuboid(5.5, 6, 8) == 264:\n",
    "    print ('ถูกต้อง')\n",
    "else:\n",
    "    print ('ยังไม่ถูก')"
   ]
  },
  {
   "cell_type": "code",
   "execution_count": null,
   "metadata": {
    "id": "spFu4ku47tqa"
   },
   "outputs": [],
   "source": [
    "cuboid(5.5, 6, 8)"
   ]
  },
  {
   "cell_type": "markdown",
   "metadata": {
    "id": "fRyDh4QxCA-s"
   },
   "source": [
    "## ข้อ 4\n",
    "เขียนฟังก์ชันในการแปลงวัน ชั่วโมง นาที เป็นวินาที \n",
    "\n",
    "เช่น 2 วัน 5 ชั่วโมง 10 นาที เท่ากับ 191,400 วินาที\n",
    "\n",
    "3 วัน 5 นาที เท่ากับ 259,500 วินาที\n",
    "\n",
    "ให้ตั้งชื่อ function และ argument เอง และเขียน if-statement ในการตรวจสอบคำตอบ"
   ]
  },
  {
   "cell_type": "code",
   "execution_count": null,
   "metadata": {
    "id": "MQFagv8RKbEf"
   },
   "outputs": [],
   "source": [
    "### Your implementation here\n",
    "### ประกาศ function"
   ]
  },
  {
   "cell_type": "code",
   "execution_count": null,
   "metadata": {
    "id": "KxCzhUsbpnAT"
   },
   "outputs": [],
   "source": [
    "### Your implementation here\n",
    "### เรียกใช้ function และตรวจสอบคำตอบ"
   ]
  },
  {
   "cell_type": "markdown",
   "metadata": {
    "id": "neYhU2hNX3Ew"
   },
   "source": [
    "## ข้อ 5\n",
    "จงเขียนฟังก์ชันหาผลรวมตั้งแต่ 1 ถึง n \n",
    "เช่น \n",
    "\n",
    "`cumulative_sum(3)` = 1 + 2 + 3  = 6\n",
    "\n",
    "`cumulative_sum(5)` = 1 + 2 + 3 + 4 + 5 = 15\n",
    "\n"
   ]
  },
  {
   "cell_type": "code",
   "execution_count": null,
   "metadata": {
    "id": "MtfPQgXzOtMw"
   },
   "outputs": [],
   "source": [
    "def cumulative_sum(n):\n",
    "    return 0\n"
   ]
  },
  {
   "cell_type": "code",
   "execution_count": null,
   "metadata": {
    "id": "og0C3EJKO0k8"
   },
   "outputs": [],
   "source": [
    "if cumulative_sum(3) == 6:\n",
    "    print ('Correct!')\n",
    "else:\n",
    "    print ('Incorrect!')\n",
    "    \n",
    "if cumulative_sum(5) == 15:\n",
    "    print ('Correct!')\n",
    "else:\n",
    "    print ('Incorrect!')"
   ]
  },
  {
   "cell_type": "markdown",
   "metadata": {
    "id": "57VwC31x02YU"
   },
   "source": [
    "## ข้อ 6\n",
    "จงสร้าง function ที่คำนวณ factorial $n!$\n",
    "\n",
    "$n! = 1 \\times 2 \\times \\cdots  \\times n$\n",
    "\n",
    "`fact(5)` = 1 x 2 x 3 x 4 x 5 = 120"
   ]
  },
  {
   "cell_type": "code",
   "execution_count": null,
   "metadata": {
    "id": "Gs0KNtj31Y2G"
   },
   "outputs": [],
   "source": [
    "def fact(n):\n",
    "    ### Your implementation here\n",
    "    return 0"
   ]
  },
  {
   "cell_type": "markdown",
   "metadata": {
    "id": "L5NP3VHQtVJN"
   },
   "source": [
    "## ข้อ 7\n",
    "\n",
    "จงสร้าง function ที่รับ integer แล้วคืนจำนวนว่าหาร 2 ได้กี่ครั้งค่าถึงจะกลายเป็น 1\n",
    "~~~python\n",
    "divide_two(16)\n",
    ">>>4\n",
    "divide_two(4)\n",
    ">>>2\n",
    "~~~"
   ]
  },
  {
   "cell_type": "code",
   "execution_count": null,
   "metadata": {
    "id": "h6JX1KhutokO"
   },
   "outputs": [],
   "source": [
    "def divide_two(n):\n",
    "  ### Your implementation here\n",
    "  return 0"
   ]
  },
  {
   "cell_type": "code",
   "execution_count": null,
   "metadata": {
    "id": "ujAH29IJzi8R"
   },
   "outputs": [],
   "source": [
    "divide_two(4)"
   ]
  },
  {
   "cell_type": "code",
   "execution_count": null,
   "metadata": {
    "id": "curuM2qwzlt_"
   },
   "outputs": [],
   "source": [
    "divide_two(16)"
   ]
  },
  {
   "cell_type": "markdown",
   "metadata": {
    "id": "dZ9CGHxEvAR7"
   },
   "source": [
    "### ข้อ 7.1\n",
    "เราสามารถใช้ฟังก์ชัน `log` ทางคณิตศาสตร์ในการช่วยคำนวณข้อ 7. ได้ โดยที่เมื่อ\n",
    "\n",
    "$n=2^x$ แล้วจะได้ $\\frac{\\log n}{\\log 2} = x$\n",
    "\n",
    "ในข้อนี้ ให้ลองใช้ฟังก์ชัน `log` (อยู่ใน module `math`) ในการทำโจทย์จากข้อ 7."
   ]
  },
  {
   "cell_type": "code",
   "execution_count": null,
   "metadata": {
    "id": "mMzAvc2XkcAp"
   },
   "outputs": [],
   "source": [
    "import math"
   ]
  },
  {
   "cell_type": "code",
   "execution_count": null,
   "metadata": {
    "id": "bgiN4C2fpnAl",
    "outputId": "c7f2686a-c35f-4af9-efdd-77a10d7b5de7"
   },
   "outputs": [
    {
     "data": {
      "text/plain": [
       "5.0"
      ]
     },
     "execution_count": 3,
     "metadata": {
      "tags": []
     },
     "output_type": "execute_result"
    }
   ],
   "source": [
    "math.log(32,2)"
   ]
  },
  {
   "cell_type": "code",
   "execution_count": null,
   "metadata": {
    "id": "OhUfrtsHpnAn"
   },
   "outputs": [],
   "source": [
    "### Your implementation here"
   ]
  },
  {
   "cell_type": "markdown",
   "metadata": {
    "id": "Kal39rXjzreJ"
   },
   "source": [
    "## ข้อ 8"
   ]
  },
  {
   "cell_type": "markdown",
   "metadata": {
    "id": "wtbAMNlm0pYL"
   },
   "source": [
    "สร้างฟังก์ชันชื่อ `random_generator` ซึ่งรับค่า parameter 2 ตัว `j` และ `k` (`j` < `k` เสมอ) โดยฟังก์ชัน return ตัวเลขสุ่มตั้งแต่ `j` - `k`\n",
    "\n",
    "เช่น ถ้า `j`=2 และ `k`=10 ฟังก์ชัน `random_generator` จะพิมพ์ตัวเลขที่สุ่มจากตัวเลขตั้งแต่ 2-10\n",
    "\n",
    "*python มี module ชื่อ [`random`](https://docs.python.org/3/library/random.html) ที่ใช้ในการสุ่มตัวเลข*"
   ]
  },
  {
   "cell_type": "code",
   "execution_count": null,
   "metadata": {
    "id": "vVMvmKrZ1gUh"
   },
   "outputs": [],
   "source": [
    "### Your implementation here"
   ]
  },
  {
   "cell_type": "markdown",
   "metadata": {
    "id": "fIE4rurA1opp"
   },
   "source": [
    "## ข้อ 8.1\n",
    "รับตัวเลข 1 ตัว โดยใช้ฟังก์ชัน `input()` (สมมุติว่าผู้ใช้ใส่ตัวเลขเสมอ, สมมุติว่าตัวเลขที่รับเข้ามาคือ `x`)\n",
    "\n",
    "\n",
    "* ถ้า `x` ติดลบ หรือเป็น 0 ให้แสดงผลว่า `Invalid number`\n",
    "* ถ้า `x` น้อยกว่า 10 ให้แสดงผลว่า `Too few!`\n",
    "* นอกเหนือไปจากนั้น ให้พิมพ์ตัวเลขที่สุ่มตั้งแต่ ครั้งที่พิมพ์-สองเท่าของ `x` จำนวน 5 ตัว (เช่น ถ้า `x` = 15, ตัวที่ 1 พิมพ์เลขสุ่มจาก 1-30, ตัวที่ 2 สุ่มจาก 2-30, ตัวที่ 3 สุ่มจาก 3-30, ...)\n",
    "\n",
    "**ควรเรียกใช้ฟังก์ชันที่สร้างในข้อ 8**"
   ]
  },
  {
   "cell_type": "code",
   "execution_count": null,
   "metadata": {
    "id": "oqckqV8lzhzG"
   },
   "outputs": [],
   "source": [
    "### Your implementation here"
   ]
  }
 ],
 "metadata": {
  "colab": {
   "collapsed_sections": [],
   "name": "PC3 Variables Functions Modules.ipynb",
   "provenance": []
  },
  "kernelspec": {
   "display_name": "Python 3 (ipykernel)",
   "language": "python",
   "name": "python3"
  },
  "language_info": {
   "codemirror_mode": {
    "name": "ipython",
    "version": 3
   },
   "file_extension": ".py",
   "mimetype": "text/x-python",
   "name": "python",
   "nbconvert_exporter": "python",
   "pygments_lexer": "ipython3",
   "version": "3.8.12"
  }
 },
 "nbformat": 4,
 "nbformat_minor": 4
}
