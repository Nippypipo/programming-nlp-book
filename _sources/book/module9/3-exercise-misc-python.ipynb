{
 "cells": [
  {
   "cell_type": "markdown",
   "metadata": {
    "colab_type": "text",
    "id": "x6i8AiFVK97z"
   },
   "source": [
    "# โจทย์\n",
    "## Problem 1: List comprehension 1\n",
    "Given a list of English words, **use `for` or `while` loop** to create a list of word lengths of each word in the list."
   ]
  },
  {
   "cell_type": "code",
   "execution_count": null,
   "metadata": {
    "colab": {},
    "colab_type": "code",
    "id": "hLbv4ILOK-My"
   },
   "outputs": [],
   "source": [
    "tokens = ['Fruit', 'flies', 'like', 'bananas', '.']\n",
    "\n",
    "# For loop\n",
    "\n"
   ]
  },
  {
   "cell_type": "markdown",
   "metadata": {
    "colab_type": "text",
    "id": "hNM5WQJt0NYR"
   },
   "source": [
    "Now, accomplish the same task using python's list comprehension. \n",
    "\n",
    "Given a list of English words, **use list comprehension** to create a list of word lengths of each word in the list."
   ]
  },
  {
   "cell_type": "code",
   "execution_count": null,
   "metadata": {
    "colab": {},
    "colab_type": "code",
    "id": "cGI5xMYx0XVl"
   },
   "outputs": [],
   "source": [
    "tokens = ['Fruit', 'flies', 'like', 'bananas', '.']\n",
    "\n",
    "### Your implementation here\n",
    "# Use list comprehension\n",
    "token_length_list = "
   ]
  },
  {
   "cell_type": "markdown",
   "metadata": {
    "colab_type": "text",
    "id": "rBUHw5K-KSl6"
   },
   "source": [
    "## Problem 2: List comprehension 2\n",
    "Given a list of English words, **use list comprehension** to create a list of words that are all capitalized. You must also exclude words that are shorter than two characters."
   ]
  },
  {
   "cell_type": "code",
   "execution_count": null,
   "metadata": {
    "colab": {},
    "colab_type": "code",
    "id": "anfXw7S3KTCR"
   },
   "outputs": [],
   "source": [
    "tokens = ['Fruit', 'flies', 'do', 'like', 'bananas', '.']\n",
    "new_token_list = "
   ]
  },
  {
   "cell_type": "markdown",
   "metadata": {
    "colab_type": "text",
    "id": "ccHIoiG1LPuG"
   },
   "source": [
    "## Problem 3: List comprehension 3\n",
    "Given a list of words, create a list of words that ONLY have Thai characters. "
   ]
  },
  {
   "cell_type": "code",
   "execution_count": null,
   "metadata": {
    "colab": {},
    "colab_type": "code",
    "id": "Knvj9iZKLP-1"
   },
   "outputs": [],
   "source": [
    "import re\n",
    "tokens = ['คน', 'ดาวน์โหลด', 'app', 'กัน', 'มา']\n",
    "thai_tokens = "
   ]
  },
  {
   "cell_type": "markdown",
   "metadata": {
    "colab_type": "text",
    "id": "re6bHHcMMoAg"
   },
   "source": [
    "## Problem 4: Dictionary Comprehension\n",
    "Given a list words, create a dictionary whose keys are a word and values are the length of the word. \n",
    "\n"
   ]
  },
  {
   "cell_type": "code",
   "execution_count": null,
   "metadata": {
    "colab": {},
    "colab_type": "code",
    "id": "r36dSI7cMnso"
   },
   "outputs": [],
   "source": [
    "tokens = ['Fruit', 'flies', 'like', 'bananas', '.']\n",
    "token_to_length = "
   ]
  },
  {
   "cell_type": "markdown",
   "metadata": {
    "colab_type": "text",
    "id": "yHCWVFhSNDCs"
   },
   "source": [
    "## Problem 5: Dictionary Comprehension\n",
    "Given two lists of words that are translations of each other, create a dictionary whose key is an English and whose value is the French translation of that word. And keep only English words that are longer than 3 characters."
   ]
  },
  {
   "cell_type": "code",
   "execution_count": null,
   "metadata": {
    "colab": {},
    "colab_type": "code",
    "id": "yB3m4nKTNDOH"
   },
   "outputs": [],
   "source": [
    "english_words = ['chair', 'pen', 'eraser', 'computer']\n",
    "french_words = ['chaise', 'stylo', 'gomme', 'ordinateur']\n",
    "en_to_fr_dict = "
   ]
  },
  {
   "cell_type": "markdown",
   "metadata": {
    "colab_type": "text",
    "id": "Aj94wgAgNhiP"
   },
   "source": [
    "## Problem 6: Lambda for custom sort\n",
    "Given a list of x,y coordinate tuples, sort the list by y values.\n"
   ]
  },
  {
   "cell_type": "code",
   "execution_count": null,
   "metadata": {
    "colab": {},
    "colab_type": "code",
    "id": "SIHnehdUNhy1"
   },
   "outputs": [],
   "source": [
    "coordinates = [ (10, 100), (100, 2), (10, 700), (1,1)]\n",
    "y_sorted_coordinates = "
   ]
  },
  {
   "cell_type": "markdown",
   "metadata": {
    "colab_type": "text",
    "id": "pO-Fs0eAOEPj"
   },
   "source": [
    "## Problem 7: Lambda for custom sort\n",
    "Given a list of sentences (a list of strings), sort the list by the length of the sentence."
   ]
  },
  {
   "cell_type": "code",
   "execution_count": null,
   "metadata": {
    "colab": {},
    "colab_type": "code",
    "id": "LD85CyGjOEa6"
   },
   "outputs": [],
   "source": [
    "sentences = ['I love you forever', 'I love you more', 'I love you forever more']\n",
    "sentence_length_sorted = "
   ]
  },
  {
   "cell_type": "markdown",
   "metadata": {
    "colab_type": "text",
    "id": "gh_tsfAf57ru"
   },
   "source": [
    "## Problem 8: Merging Lists\n",
    "\n",
    "Given two lists, create a third list by picking an odd-index element from the first list and even index elements from the second."
   ]
  },
  {
   "cell_type": "code",
   "execution_count": null,
   "metadata": {
    "colab": {},
    "colab_type": "code",
    "id": "ziR6rxJw5_gl"
   },
   "outputs": [],
   "source": [
    "list_1 = ['I', 'love', 'you', 'but', 'you', 'don\\'t', 'know', 'me']\n",
    "list_2 = ['You', 'hate', 'cockroaches', 'and', 'I', 'can', 'feel', 'it']\n",
    "merged_list = "
   ]
  },
  {
   "cell_type": "markdown",
   "metadata": {
    "colab_type": "text",
    "id": "QlhZutp46tl3"
   },
   "source": [
    "## Problem 9. Pair Tuples\n",
    "Given two lists of equal size, create a **list** and a **set** such that both contain the elements from both lists in the pair.\n",
    "\n",
    "*Reminder: You can create a tuple in python using bracket ( ) symbols.*"
   ]
  },
  {
   "cell_type": "markdown",
   "metadata": {
    "colab_type": "text",
    "id": "qWTU7NXv69er"
   },
   "source": [
    "**Expected Output**\n",
    "\n",
    "\n",
    "```\n",
    "Result list\n",
    "[(2, 4), (3, 9), (4, 16), (5, 25), (6, 36), (7, 49), (8, 64)]\n",
    "\n",
    "Result set\n",
    "{(6, 36), (8, 64), (4, 16), (5, 25), (3, 9), (7, 49), (2, 4)}\n",
    "```\n",
    "\n"
   ]
  },
  {
   "cell_type": "code",
   "execution_count": null,
   "metadata": {
    "colab": {},
    "colab_type": "code",
    "id": "im57rzsJ63Pn"
   },
   "outputs": [],
   "source": [
    "list_1 = [2, 3, 4, 5, 6, 7, 8]\n",
    "list_2 = [4, 9, 16, 25, 36, 49, 64]\n",
    "\n",
    "result_list = \n",
    "result_set = "
   ]
  },
  {
   "cell_type": "markdown",
   "metadata": {
    "colab_type": "text",
    "id": "HTVwbaKh7TJi"
   },
   "source": [
    "## Problem 10. List Sums\n",
    "Given a list of lists, find the sum of each member list.\n",
    "\n",
    "**Expected Output**\n",
    "```\n",
    "[6, 15, 33, 24]\n",
    "```"
   ]
  },
  {
   "cell_type": "code",
   "execution_count": null,
   "metadata": {
    "colab": {},
    "colab_type": "code",
    "id": "Ywv1m-wh7SwK"
   },
   "outputs": [],
   "source": [
    "big_list = [[1,2,3], [4,5,6], [10,11,12], [7,8,9]]\n",
    "sum_of_list =\n",
    "\n",
    "\n",
    "print(sum_of_list)"
   ]
  },
  {
   "cell_type": "markdown",
   "metadata": {
    "colab_type": "text",
    "id": "0XgHXq771iHB"
   },
   "source": [
    "## (optional) Problem 11. Comprehension in Comprehension\n",
    "\n",
    "Given a **list of lists of tuples**, make the **list of lists** that extracts only the first element of each tuple\n",
    "\n",
    "~~~python\n",
    "keyword_topic = [\n",
    "    [('like', 0.01015),('country', 0.00965),('Glide', 0.00653),('Typing', 0.00653),('Google', 0.00653)],\n",
    "    [('Thanathorn', 0.01018),('leader', 0.00736),('opposition', 0.00707),('party', 0.00633),('democracy', 0.00606)],\n",
    "    [('King', 0.01006),('royal', 0.00991),('embassy', 0.00934),('palace', 0.00824),('Vajiralongkorn', 0.00824)],\n",
    "    [('anti', 0.01359),('Chinese', 0.01321),('Kong', 0.01319),('Hong', 0.01318),('activists', 0.01282)]]\n",
    "~~~\n",
    "\n",
    "**Expected Output**\n",
    "\n",
    "~~~python\n",
    "[['like', 'country', 'Glide', 'Typing', 'Google'],\n",
    " ['Thanathorn', 'leader', 'opposition', 'party', 'democracy'],\n",
    " ['King', 'royal', 'embassy', 'palace', 'Vajiralongkorn'],\n",
    " ['anti', 'Chinese', 'Kong', 'Hong', 'activists']]\n",
    "~~~"
   ]
  },
  {
   "cell_type": "code",
   "execution_count": null,
   "metadata": {
    "colab": {},
    "colab_type": "code",
    "id": "AhSyjK1z3z5u"
   },
   "outputs": [],
   "source": [
    "keyword_topic = [\n",
    "    [('like', 0.01015),('country', 0.00965),('Glide', 0.00653),('Typing', 0.00653),('Google', 0.00653)],\n",
    "    [('Thanathorn', 0.01018),('leader', 0.00736),('opposition', 0.00707),('party', 0.00633),('democracy', 0.00606)],\n",
    "    [('King', 0.01006),('royal', 0.00991),('embassy', 0.00934),('palace', 0.00824),('Vajiralongkorn', 0.00824)],\n",
    "    [('anti', 0.01359),('Chinese', 0.01321),('Kong', 0.01319),('Hong', 0.01318),('activists', 0.01282)]]"
   ]
  },
  {
   "cell_type": "code",
   "execution_count": null,
   "metadata": {
    "colab": {},
    "colab_type": "code",
    "id": "9vz0cCwb35L_"
   },
   "outputs": [],
   "source": [
    "only_keyword = "
   ]
  },
  {
   "cell_type": "code",
   "execution_count": null,
   "metadata": {
    "colab": {},
    "colab_type": "code",
    "id": "wQLpAhGBATcg"
   },
   "outputs": [],
   "source": [
    "got_characters = ['Eddard \"Ned\" Stark', 'Robert Baratheon', 'Jaime Lannister', 'Catelyn Stark', 'Cersei Lannister', 'Daenerys Targaryen', 'Jorah Mormont', 'Viserys Targaryen', 'Jon Snow', 'Sansa Stark', 'Arya Stark', 'Robb Stark', 'Theon Greyjoy', 'Bran Stark', 'Joffrey Baratheon', 'Sandor \"The Hound\" Clegane', 'Tyrion Lannister', 'Khal Drogo', 'Petyr \"Littlefinger\" Baelish', 'Davos Seaworth', 'Samwell Tarly', 'Stannis Baratheon', 'Melisandre', 'Jeor Mormont', 'Bronn', 'Varys', 'Shae', 'Margaery Tyrell', 'Tywin Lannister', 'Talisa Maegyr', 'Ygritte', 'Gendry', 'Tormund Giantsbane', 'Brienne of Tarth', 'Ramsay Bolton', 'Gilly', 'Daario Naharis', 'Missandei', 'Ellaria Sand', 'Tommen Baratheon', 'Jaqen H\\'ghar', 'Roose Bolton', 'The High Sparrow', 'Grey Worm', 'Grand Maester Pycelle', 'Meryn Trant', 'Hodor', 'Grenn', 'Osha', 'Rickon Stark', 'Ros', 'Gregor Clegane', 'Janos Slynt', 'Lancel Lannister', 'Myrcella Baratheon', 'Rodrik Cassel', 'Maester Luwin', 'Irri', 'Doreah', 'Renly Baratheon', 'Yoren', 'Kevan Lannister', 'Rakharo', 'Ilyn Payne', 'Barristan Selmy', 'Rast', 'Maester Aemon', 'Pypar', 'Alliser Thorne', 'Othell Yarwyck', 'Robin Arryn', 'Benjen Stark', 'Lysa Arryn', 'Septa Mordane', 'Qotho', 'Jory Cassel', 'Marillion', 'Greatjon Umber', 'Mirri Maz Duur', 'Syrio Forel', 'Loras Tyrell', 'Hot Pie', 'Biter', 'Rorge', 'Lommy Greenhands', 'Rickard Karstark', 'Beric Dondarrion', 'Podrick Payne', 'Eddison Tollett', 'Yara Greyjoy', 'Craster', 'Dontos Hollard', 'Kovarro', 'Dagmer', 'Xaro Xhoan Daxos', 'Pyat Pree', 'Amory Lorch', 'Black Lorren', 'Qhorin Halfhand', 'Spice King', 'Silk King', 'Alton Lannister', 'Selyse Florent', 'Little Sam', 'Qyburn', 'Olenna Tyrell', 'Shireen Baratheon', 'Meera Reed', 'Jojen Reed', 'Locke', 'Mance Rayder', 'Edmure Tully', 'Thoros of Myr', 'Brynden Tully', 'Orell', 'Anguy', 'Kraznys mo Nakloz', 'High Septon', 'Myranda', 'Olyvar', 'Lothar Frey', 'Black Walder Rivers', 'Olly', 'Mace Tyrell', 'Oberyn Martell', 'Styr', 'Thenn warg', 'Walda Bolton', 'Hizdahr zo Loraq', 'Yohn Royce', 'Three-Eyed Raven', 'Leaf', 'Night King', 'The Waif', 'Bowen Marsh', 'Septa Unella', 'Tyene Sand', 'Nymeria Sand', 'Obara Sand', 'Areo Hotah', 'Doran Martell', 'Trystane Martell', 'Wun Weg Wun Dar Wun', 'Maester Wolkan', 'Qhono', 'Lyanna Mormont', 'Harald Karstark', 'Izembaro', 'Khal Moro', 'Lady Crane', 'Bobono', 'Clarenzo', 'Euron Greyjoy', 'Robett Glover', 'Randyll Tarly', 'Dickon Tarly', 'Archmaester Ebrose', 'Harrag', 'Alys Karstark',]"
   ]
  },
  {
   "cell_type": "code",
   "execution_count": null,
   "metadata": {
    "colab": {},
    "colab_type": "code",
    "id": "x1maFmYdBcr0"
   },
   "outputs": [],
   "source": [
    "print(len(got_characters))"
   ]
  },
  {
   "cell_type": "markdown",
   "metadata": {
    "colab_type": "text",
    "id": "ubalye3aBkO3"
   },
   "source": [
    "We want to group the characters by their last names. IE, we want to **create a dictionary where the *keys* are the last names and the *values* are character names with that last names.**\n",
    "\n",
    "We will simplify the last name recognition by assuming that the last word in each character's name is their last name. Note that this is not 100% correct: \"Grand Maester Pycelle\" and \"Grey Worm\"'s family names are not \"Pycelle\" and \"Worm\", but we digress.\n",
    "\n",
    "You may notice that some character names are mononymous. IE, they go by single names, and thus, do not have last names. \"Hodor\" and \"Melisandre\" are notable examples. We will group these characters under the key `None` (`None` keyword in python)."
   ]
  },
  {
   "cell_type": "code",
   "execution_count": null,
   "metadata": {
    "colab": {},
    "colab_type": "code",
    "id": "7aM7odJl_mYN"
   },
   "outputs": [],
   "source": [
    "### for check your answer\n",
    "answer = {'Stark': ['Eddard \"Ned\" Stark', 'Catelyn Stark', 'Sansa Stark', 'Arya Stark', 'Robb Stark', 'Bran Stark', 'Rickon Stark', 'Benjen Stark'], 'Baratheon': ['Robert Baratheon', 'Joffrey Baratheon', 'Stannis Baratheon', 'Tommen Baratheon', 'Myrcella Baratheon', 'Renly Baratheon', 'Shireen Baratheon'], 'Lannister': ['Jaime Lannister', 'Cersei Lannister', 'Tyrion Lannister', 'Tywin Lannister', 'Lancel Lannister', 'Kevan Lannister', 'Alton Lannister'], 'Targaryen': ['Daenerys Targaryen', 'Viserys Targaryen'], 'Mormont': ['Jorah Mormont', 'Jeor Mormont', 'Lyanna Mormont'], 'Snow': ['Jon Snow'], 'Greyjoy': ['Theon Greyjoy', 'Yara Greyjoy', 'Euron Greyjoy'], 'Clegane': ['Sandor \"The Hound\" Clegane', 'Gregor Clegane'], 'Drogo': ['Khal Drogo'], 'Baelish': ['Petyr \"Littlefinger\" Baelish'], 'Seaworth': ['Davos Seaworth'], 'Tarly': ['Samwell Tarly', 'Randyll Tarly', 'Dickon Tarly'], None: ['Melisandre', 'Bronn', 'Varys', 'Shae', 'Ygritte', 'Gendry', 'Gilly', 'Missandei', 'Hodor', 'Grenn', 'Osha', 'Ros', 'Irri', 'Doreah', 'Yoren', 'Rakharo', 'Rast', 'Pypar', 'Qotho', 'Marillion', 'Biter', 'Rorge', 'Craster', 'Kovarro', 'Dagmer', 'Qyburn', 'Locke', 'Orell', 'Anguy', 'Myranda', 'Olyvar', 'Olly', 'Styr', 'Leaf', 'Qhono', 'Izembaro', 'Bobono', 'Clarenzo', 'Harrag'], 'Tyrell': ['Margaery Tyrell', 'Loras Tyrell', 'Olenna Tyrell', 'Mace Tyrell'], 'Maegyr': ['Talisa Maegyr'], 'Giantsbane': ['Tormund Giantsbane'], 'Tarth': ['Brienne of Tarth'], 'Bolton': ['Ramsay Bolton', 'Roose Bolton', 'Walda Bolton'], 'Naharis': ['Daario Naharis'], 'Sand': ['Ellaria Sand', 'Tyene Sand', 'Nymeria Sand', 'Obara Sand'], \"H'ghar\": [\"Jaqen H'ghar\"], 'Sparrow': ['The High Sparrow'], 'Worm': ['Grey Worm'], 'Pycelle': ['Grand Maester Pycelle'], 'Trant': ['Meryn Trant'], 'Slynt': ['Janos Slynt'], 'Cassel': ['Rodrik Cassel', 'Jory Cassel'], 'Luwin': ['Maester Luwin'], 'Payne': ['Ilyn Payne', 'Podrick Payne'], 'Selmy': ['Barristan Selmy'], 'Aemon': ['Maester Aemon'], 'Thorne': ['Alliser Thorne'], 'Yarwyck': ['Othell Yarwyck'], 'Arryn': ['Robin Arryn', 'Lysa Arryn'], 'Mordane': ['Septa Mordane'], 'Umber': ['Greatjon Umber'], 'Duur': ['Mirri Maz Duur'], 'Forel': ['Syrio Forel'], 'Pie': ['Hot Pie'], 'Greenhands': ['Lommy Greenhands'], 'Karstark': ['Rickard Karstark', 'Harald Karstark', 'Alys Karstark'], 'Dondarrion': ['Beric Dondarrion'], 'Tollett': ['Eddison Tollett'], 'Hollard': ['Dontos Hollard'], 'Daxos': ['Xaro Xhoan Daxos'], 'Pree': ['Pyat Pree'], 'Lorch': ['Amory Lorch'], 'Lorren': ['Black Lorren'], 'Halfhand': ['Qhorin Halfhand'], 'King': ['Spice King', 'Silk King', 'Night King'], 'Florent': ['Selyse Florent'], 'Sam': ['Little Sam'], 'Reed': ['Meera Reed', 'Jojen Reed'], 'Rayder': ['Mance Rayder'], 'Tully': ['Edmure Tully', 'Brynden Tully'], 'Myr': ['Thoros of Myr'], 'Nakloz': ['Kraznys mo Nakloz'], 'Septon': ['High Septon'], 'Frey': ['Lothar Frey'], 'Rivers': ['Black Walder Rivers'], 'Martell': ['Oberyn Martell', 'Doran Martell', 'Trystane Martell'], 'warg': ['Thenn warg'], 'Loraq': ['Hizdahr zo Loraq'], 'Royce': ['Yohn Royce'], 'Raven': ['Three-Eyed Raven'], 'Waif': ['The Waif'], 'Marsh': ['Bowen Marsh'], 'Unella': ['Septa Unella'], 'Hotah': ['Areo Hotah'], 'Wun': ['Wun Weg Wun Dar Wun'], 'Wolkan': ['Maester Wolkan'], 'Moro': ['Khal Moro'], 'Crane': ['Lady Crane'], 'Glover': ['Robett Glover'], 'Ebrose': ['Archmaester Ebrose']}"
   ]
  },
  {
   "cell_type": "code",
   "execution_count": null,
   "metadata": {
    "colab": {},
    "colab_type": "code",
    "id": "rJngsSrrDlJN"
   },
   "outputs": [],
   "source": [
    "### Your implementation here\n",
    "family_dict = "
   ]
  }
 ],
 "metadata": {
  "colab": {
   "collapsed_sections": [
    "uWpuNZmvD79f"
   ],
   "name": "week15 python tricks.ipynb",
   "provenance": []
  },
  "kernelspec": {
   "display_name": "Python 3 (ipykernel)",
   "language": "python",
   "name": "python3"
  },
  "language_info": {
   "codemirror_mode": {
    "name": "ipython",
    "version": 3
   },
   "file_extension": ".py",
   "mimetype": "text/x-python",
   "name": "python",
   "nbconvert_exporter": "python",
   "pygments_lexer": "ipython3",
   "version": "3.8.12"
  },
  "vscode": {
   "interpreter": {
    "hash": "34368ba4908ea1be08ba769dfb7764ab7f8ead2384ebb5604cb86637573696f7"
   }
  }
 },
 "nbformat": 4,
 "nbformat_minor": 4
}
