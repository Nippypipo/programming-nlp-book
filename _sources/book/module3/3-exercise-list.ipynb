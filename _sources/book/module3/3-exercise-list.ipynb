{
 "cells": [
  {
   "cell_type": "markdown",
   "metadata": {
    "id": "6L6KUtgV3VT2"
   },
   "source": [
    "# โจทย์: ลิสต์"
   ]
  },
  {
   "cell_type": "markdown",
   "metadata": {},
   "source": [
    "## ข้อ 1. ลอตเตอรี่\n",
    "เขียนฟังก์ชันเพื่อตรวจสอบว่าสลากกินแบ่ง (lottery) ที่มีอยู่ (อาจมีมากกว่า 1 ใบ) ถูกรางวัลทั้งหมดเท่าไร\n",
    "โดยที่ฟังก์ชันจะรับข้อมูล 3 อย่าง ได้แก่\n",
    "1. เลขสลากที่มีทั้งหมด (เป็นลิสต์ของสตริง) สลากแต่ละใบมีเลข 6 หลัก\n",
    "2. เลขรางวัลที่ 1 ที่ออก (เป็นสตริง) สลากจะถูกรางวัลที่ 1 เมื่อตัวเลขสลากตรงกับเลขรางวัลที่ 1 ที่ออก รางวัลละ 6,000,000 บาท\n",
    "3. เลขรางวัลเลขท้าย 2 ตัวที่ออก(เป็นสตริง) \n",
    "\tสลากจะถูกรางวัลเลขท้าย 2 ตัว เมื่อเลข 2 ตัวท้ายของสลาก ตรงกับเลขรางวัลเลขท้าย 2 ตัวที่ออก รางวัลละ 5,000 บาท\n",
    "\n",
    "สลาก 1 เลข สามารถถูกทั้งรางวัลที่ 1 และรางวัลเลขท้าย 2 ตัวได้\n",
    "เช่น ถ้าเลขรางวัลที่ 1 คือ 613728 และเลขท้าย 2 ตัวที่ออกคือ 28 สลากเลข 613728 จะได้รับรางวัล \n",
    "\t6,000,000 + 5,000 = 6,005,000 บาท\n",
    "\n",
    "ให้ฟังก์ชัน return ค่าเป็น list โดยที่ค่าแรกใน list เป็นจำนวนเงินที่ได้รับรางวัลทั้งหมด (เป็น int)\n",
    "\tและค่าต่อๆ ไปใน list เป็นเลขสลากที่ถูกรางวัล (เป็น string, อาจมีมากกว่า 1 เลขสลากได้ หรือไม่มีสลากที่ถูกรางวัลเลยก็ได้)\n",
    "\n",
    "คำใบ้: \n",
    "- ไม่มีความจำเป็นที่จะต้องแปลงเลขสลาก เลขรางวัลที่ 1 เลขรางวัลเลขท้าย 2 ตัว จากสตริงเป็นเลข\n",
    "- ค่อยๆ แก้ทีละส่วนตามหลักการย่อยโจทย์ โจทย์ย่อย ๆ มีดังนี้\n",
    "\t2.1) คำนวณรางวัลที่ได้\n",
    "\t2.2) หาวิธีเก็บเลขสลากที่ถูกรางวัล\n",
    "\t2.3) สร้างลิสต์สุดท้ายตามโจทย์กำหนด\n",
    "- อย่าลืมว่าสลากใบเดียวสามารถถูกได้สองรางวัล"
   ]
  },
  {
   "cell_type": "code",
   "execution_count": 1,
   "metadata": {},
   "outputs": [],
   "source": [
    "def lottery_check(lottery_numbers, first, end2):\n",
    "    \"\"\"\n",
    "\n",
    "\tตัวอย่าง\n",
    "    >>> lottery_check(['613728'], '613728', '28')\n",
    "    [6005000, '613728']\n",
    "\n",
    "    >>> lottery_check(['382982', '428121'], '613728', '28')\n",
    "    [0]\n",
    "\n",
    "    >>> lottery_check(['382982', '417328', '012828'], '613728', '28')\n",
    "    [10000, '417328', '012828']\n",
    "\n",
    "    \"\"\"\n",
    "    return 0"
   ]
  },
  {
   "cell_type": "markdown",
   "metadata": {},
   "source": [
    "## ข้อ 2. ลิสต์อาหาร\n",
    "เพื่อนของคุณซึ่งเป็นผู้ชนะจากรายการ Master Top Iron Supercook Thailand ได้รับมอบหมายให้ไปทำอาหารให้เด็กนักเรียนโรงเรียน Sarasas Cadbury International แต่กลับโชคไม่ดีที่ว่าเด็กนักเรียนโรงเรียนนี้เป็นเด็กที่เลือกกินมาก เด็กแต่ละคนจะมี ลิสต์ของอาหารที่ตัวเองไม่กิน เพราะฉะนั้นเพื่อนของคุณจะต้องตรวจสอบวัตถุดิบของทุกจาน เพื่อเลือกสิ่งที่เด็กแต่ละคนไม่กินออก\n",
    "\n",
    "จงเขียนฟังก์ชัน `select_ingredients` ซึ่งรับ input ดังนี้\n",
    "1. ลิสต์ของวัตถุดิบของอาหารที่เพื่อนของคุณจะทำ\n",
    "2. ลิสต์ของวัตถุดิบที่เด็กไม่กิน \n",
    "ฟังก์ชันนี้จะต้อง return ลิสต์ของวัตถุดิบที่เพื่อนของคุณสามารถใช้ได้\n",
    "\n",
    "ตัวอย่าง\n",
    "```\n",
    ">>> ingredients = ['คะน้า', 'กระเทียม', 'น้ำมันหอย', 'หมูกรอบ', 'น้ำปลา', 'พริกไทย', 'ปลาเค็ม']\n",
    ">>> prohibited = ['น้ำปลา', 'กระเทียม', 'ปลาเค็ม', 'มะนาว']\n",
    ">>> select_ingredients(ingredients, prohibited)\n",
    "['คะน้า', 'น้ำมันหอย', 'หมูกรอบ', 'พริกไทย'] \n",
    "```\n",
    "\n"
   ]
  },
  {
   "cell_type": "code",
   "execution_count": null,
   "metadata": {},
   "outputs": [],
   "source": [
    "def select_ingredients(list1, list2):\n",
    "\treturn []"
   ]
  },
  {
   "cell_type": "markdown",
   "metadata": {},
   "source": [
    "## ข้อ 3. a/an\n",
    "เราเรียนกันมาแล้วว่า a ใช้นำหน้าคำที่ขึ้นต้นด้วยเสียงพยัญชนะ และ an ใช้นำหน้าคำที่ขึ้นต้นด้วยเสียงสระ \n",
    "\n",
    "จงเขียนฟังก์ชันที่รับสตริงเป็น input และ return สตริงที่มีแก้การใช้ a/an โดยให้ assume ว่า\n",
    "- สตริงที่ได้มายังไม่ถูกตัดเป็นคำ และแต่ละคำถูกแบ่งได้ด้วย space\n",
    "- สตริงที่ได้มาไม่มีเครื่องหมายวรรคตอน (punctuation) หรือตัวเลขใดๆ \n",
    "- ถ้าคำนำหน้าด้วยพยัญชนะให้ใช้ a ถ้าคำนำหน้าด้วย aeiou ให้ใช้ an\n",
    "- ให้แก้ a-->an หรือ an-->a อย่างเดียว โดยไม่ต้องหาที่เติม a/an/the/ เข้าไปในจุดใดเลย"
   ]
  },
  {
   "cell_type": "code",
   "execution_count": null,
   "metadata": {},
   "outputs": [],
   "source": [
    "def correct_indefinite_article(sentence):\n",
    "\t\"\"\"\n",
    "\tตัวอย่าง\n",
    "\t>>> correct_article('A elephant steps on an piece of wood in a forest')\n",
    "\t'An elephant steps on a piece of wood in a forest\n",
    "\t\"\"\"\n",
    "\treturn ''"
   ]
  },
  {
   "cell_type": "markdown",
   "metadata": {
    "id": "JSuZnn9V3VT_"
   },
   "source": [
    "## ข้อ 4. ทำความสะอาดข้อมูล\n",
    "เขียนฟังก์ชันที่รับสตริงประโยคภาษาอังกฤษ และ return ลิสต์ของคำในประโยคนั้น โดยไม่มีเครื่องหมายวรรคตอน (`.,!?:`)\n",
    "\n",
    "คำใบ้\n",
    "1) ควรเอาเครื่องหมายวรรคตอนออกจากสตริงก่อน\n",
    "2) ใช้ method `.split()`"
   ]
  },
  {
   "cell_type": "code",
   "execution_count": null,
   "metadata": {
    "id": "5jYxwsYn3VUA"
   },
   "outputs": [],
   "source": [
    "# Your code here\n",
    "def str_to_list(text):\n",
    "\treturn []"
   ]
  },
  {
   "cell_type": "code",
   "execution_count": null,
   "metadata": {
    "id": "804d9Mdb3VUC"
   },
   "outputs": [],
   "source": [
    "# ตรวจสอบว่าทำงานถูกหรือเปล่า\n",
    "text = \"I will not give up on this. If I feel tired, I will take a rest.\"\n",
    "expectedList = ['I','will','not','give','up','on','this','If','I','feel','tired','I','will','take','a','rest']\n",
    "result = str_to_list(text)\n",
    "\n",
    "if result == expectedList:\n",
    "    print('Correct!')\n",
    "else:\n",
    "    print('Incorrect')"
   ]
  },
  {
   "cell_type": "markdown",
   "metadata": {
    "id": "GWmsiqWFmXrY"
   },
   "source": [
    "## ข้อ 5. ความยาวเฉลี่ยของคำ\n",
    "เขียนฟังก์ชันหาความยาวเฉลี่ยของคำที่อยู่ในข้อความ โดยให้ใช้ฟังก์ชันจากข้อที่แล้วมาใช้ในการช่วยในการหาลิสต์ของคำทั้งหมดที่ไม่มีเครื่องหมายวรรคตอนอยู่เลย\n",
    "\n",
    "คำใบ้: ใช้คำสั่ง `sum()` ในการหาผลรวมของตัวเลขที่อยู่ในลิสต์ทั้งหมด"
   ]
  },
  {
   "cell_type": "code",
   "execution_count": null,
   "metadata": {
    "id": "kHhbw7tRmXra"
   },
   "outputs": [],
   "source": [
    "def compute_mean_number_of_words(text):\n",
    "    return 0"
   ]
  },
  {
   "cell_type": "code",
   "execution_count": null,
   "metadata": {
    "id": "MlYGBXFvmXrb"
   },
   "outputs": [],
   "source": [
    "s = 'Black Pink in your area!'\n",
    "if compute_mean_number_of_words(s) == ((5+4+2+4+4) /5):\n",
    "    print('Correct!')\n",
    "else:\n",
    "    print('Inorrect')\n"
   ]
  },
  {
   "cell_type": "markdown",
   "metadata": {
    "id": "oNFK24XW3VT7"
   },
   "source": [
    "## ข้อ 6. ลิสต์ที่ไม่มีตัวซ้ำ\n",
    "\n",
    "เขียนฟังก์ชันชื่อ `remove_repetitions` ซึ่งรับลิสต์เป็น input (ในลิสต์จะเป็นข้อมูลประเภทใดก็ได้) และ *return ลิสต์ใหม่* ซึ่งมีข้อมูลจากลิสต์เดิม แต่มีข้อมูลที่ไม่ซ้ำกันเลย ตัวอย่างเช่น\n",
    "\n",
    "*Input*: `[1, 2, 2, 3, 4, 5, 5, 5]`\n",
    "\n",
    "*Output*: `[1, 2, 3, 4, 5]`\n",
    "\n",
    "**ข้อสำคัญ:** ลิสต์เดิมที่ส่งไปที่ฟังก์ชัน `remove_repetitions` จะต้องไม่เปลี่ยนแปลง"
   ]
  },
  {
   "cell_type": "code",
   "execution_count": null,
   "metadata": {
    "id": "gg2V5vgj3VT8"
   },
   "outputs": [],
   "source": [
    "# Your code here\n",
    "def remove_repetitions(li):\n",
    "\treturn []"
   ]
  },
  {
   "cell_type": "code",
   "execution_count": null,
   "metadata": {
    "id": "rErybrp43VT-"
   },
   "outputs": [],
   "source": [
    "# ตรวจสอบว่าทำงานถูกหรือเปล่า\n",
    "original_list = [1, 2, 2, 3, 4, 5, 5, 5]\n",
    "original_list_copy = original_list.copy()\n",
    "expected_list = [1, 2, 3, 4, 5]\n",
    "\n",
    "result = remove_repetitions(original_list)\n",
    "\n",
    "if result == expected_list and original_list == original_list_copy:\n",
    "    print('Correct!')\n",
    "else:\n",
    "    print('Incorrect')"
   ]
  },
  {
   "cell_type": "markdown",
   "metadata": {
    "id": "_CjTm-9P3VUG"
   },
   "source": [
    "## ข้อ 7. เปลี่ยนตัว\n",
    "สมมติว่าเรามีลิสต์ของแขกที่จะมาร่วมงานวันเกิด แต่ว่าแขกมักจะมีการเปลี่ยนตัวกระทันหันเนื่องจากอาจจะติดธุระมาไม่ได้ จงเขียนฟังก์ชันที่รับ 3 พารามิเตอร์\n",
    "1. ลิสต์ของสตริงที่ชื่อแขกทั้งหมดอยู่\n",
    "2. ชื่อแขกที่มาไม่ได้แล้ว\n",
    "3. ชื่อแขกที่จะมาแทน\n",
    "ฟังก์ชันจะแก้ลิสต์ของแขกแต่ว่าจะไม่ return อะไรเลย \n",
    "\n",
    "ตัวอย่าง\n",
    "```\n",
    ">>> name_list = [\"Tony\", \"Elan\", \"Bee\", \"Bonus\", \"Jane\"]\n",
    ">>> sub_name(\"Bee\", \"Thomas\", name_list)\n",
    ">>> print(name_list)\n",
    "[\"Tony\", \"Elan\", \"Thomas\", \"Bonus\", \"Jane\"]\n",
    "```"
   ]
  },
  {
   "cell_type": "code",
   "execution_count": null,
   "metadata": {
    "id": "LYMD7sNQ3VUG"
   },
   "outputs": [],
   "source": [
    "def sub_name(old_guest, new_guest, guest_list):\n",
    "\tpass"
   ]
  },
  {
   "cell_type": "markdown",
   "metadata": {
    "id": "LLZJUZjR3VUI"
   },
   "source": [
    "## ข้อ 8. คำนวณสถิติ\n",
    "เขียนฟังก์ชันที่รับลิสต์ของตัวเลขเข้ามาเป็น input และคำนวณหาค่าต่ำสุด สูงสุด เรนจ์ (สูงสุด - ต่ำสุด) ค่ามัธยฐาน และค่าเฉลี่ย โดย `print` ออกมาและไม่ return ค่าใด ๆ และเพ่ือทำให้โจทย์นี้ง่ายลง เราสามารถ assume ได้ว่าจำนวนสมาชิกของลิสต์เป็นเลขคี่ \n",
    "```\n",
    ">>> score_nlps = [6, 5, 10, 8, 7, 11, 5.5, 4, 8, 9, 11]\n",
    ">>> stats_summary(score_nlps)\n",
    "Min = 4\n",
    "Max = 11\n",
    "Range = 7\n",
    "Median = \n",
    "Mean = 7.68\n",
    "```\n",
    "**คำใบ้:** ควรใช้คำสั่ง `sorted(x)` ในการหามัธยฐาน"
   ]
  },
  {
   "cell_type": "code",
   "execution_count": null,
   "metadata": {
    "id": "5eRHsEie3VUI"
   },
   "outputs": [],
   "source": [
    "def stats_summary(number_list):\n",
    "\tprint ('')"
   ]
  }
 ],
 "metadata": {
  "colab": {
   "collapsed_sections": [],
   "name": "PC5 Lists.ipynb",
   "provenance": []
  },
  "kernelspec": {
   "display_name": "Python 3.8.12",
   "language": "python",
   "name": "python3"
  },
  "language_info": {
   "codemirror_mode": {
    "name": "ipython",
    "version": 3
   },
   "file_extension": ".py",
   "mimetype": "text/x-python",
   "name": "python",
   "nbconvert_exporter": "python",
   "pygments_lexer": "ipython3",
   "version": "3.8.12"
  },
  "vscode": {
   "interpreter": {
    "hash": "34368ba4908ea1be08ba769dfb7764ab7f8ead2384ebb5604cb86637573696f7"
   }
  }
 },
 "nbformat": 4,
 "nbformat_minor": 4
}
