{
 "cells": [
  {
   "cell_type": "markdown",
   "metadata": {
    "id": "6L6KUtgV3VT2"
   },
   "source": [
    "# โจทย์: ลิสต์"
   ]
  },
  {
   "cell_type": "markdown",
   "metadata": {
    "id": "JSuZnn9V3VT_"
   },
   "source": [
    "## 1. Sentence to list\n",
    "เขียนฟังก์ชันชื่อ `str_to_list` ซึ่งรับ parameter เป็น string (ประโยคภาษาอังกฤษ) และ return list ซึ่งเป็นคำในประโยคนั้น โดยไม่มี punctuation ต่างๆ (full stop, comma, question mark, exclamation mark)\n",
    "\n",
    "**Hint:** \n",
    "\n",
    "1) remove punctuation ออกจาก input ให้เรียบร้อยก่อน\n",
    "\n",
    "2) ใช้ built-in function ของ string ชื่อ `split`"
   ]
  },
  {
   "cell_type": "code",
   "execution_count": null,
   "metadata": {
    "id": "5jYxwsYn3VUA"
   },
   "outputs": [],
   "source": [
    "# Your code here\n"
   ]
  },
  {
   "cell_type": "code",
   "execution_count": null,
   "metadata": {
    "id": "804d9Mdb3VUC"
   },
   "outputs": [],
   "source": [
    "# ตรวจสอบว่าทำงานถูกหรือเปล่า\n",
    "text = \"I will not give up on this. If I feel tired, I will take a rest.\"\n",
    "expectedList = ['I','will','not','give','up','on','this','If','I','feel','tired','I','will','take','a','rest']\n",
    "result = str_to_list(text)\n",
    "\n",
    "if result == expectedList:\n",
    "    print('Correct!')\n",
    "else:\n",
    "    print('Incorrect')"
   ]
  },
  {
   "cell_type": "markdown",
   "metadata": {
    "id": "GWmsiqWFmXrY"
   },
   "source": [
    "## 2. Count mean number of words in the string\n",
    "เขียนฟังก์ชันหาความยาวเฉลี่ยของคำที่อยู่ในข้อความ \n",
    "\n",
    "ให้เรา assume ได้เลยว่าคำถูกแบ่งชัดเจนด้วย `' '` \n",
    "\n",
    "Hint: ให้แบ่ง string เป็น list of strings ก่อน จากนั้นค่อยหาค่าเฉลี่ยโดยการเขียน for loop "
   ]
  },
  {
   "cell_type": "code",
   "execution_count": null,
   "metadata": {
    "id": "kHhbw7tRmXra"
   },
   "outputs": [],
   "source": [
    "def compute_mean_number_of_words(text):\n",
    "    return 0"
   ]
  },
  {
   "cell_type": "code",
   "execution_count": null,
   "metadata": {
    "id": "MlYGBXFvmXrb"
   },
   "outputs": [],
   "source": [
    "s = 'Black Pink in your area'\n",
    "if compute_mean_number_of_words(s) == ((5+4+2+4+4) /5):\n",
    "    print('Correct!')\n",
    "else:\n",
    "    print('Inorrect')\n"
   ]
  },
  {
   "cell_type": "markdown",
   "metadata": {
    "id": "oNFK24XW3VT7"
   },
   "source": [
    "## 3. The list which has no repetitions\n",
    "\n",
    "เขียนฟังก์ชันชื่อ `remove_repetitions` ซึ่งรับ parameter เป็น list (ใน list จะเป็นข้อมูลประเภทใดก็ได้) และ *return list ใหม่* ซึ่งมีข้อมูลจาก list เดิม และมีข้อมูลไม่ซ้ำกันเลย ตัวอย่างเช่น\n",
    "\n",
    "*Input*: `[1, 2, 2, 3, 4, 5, 5, 5]` <br/>\n",
    "*Output*: `[1, 2, 3, 4, 5]`\n",
    "\n",
    "**ข้อสำคัญ:** List เดิมที่ส่งไปที่ฟังก์ชัน `remove_repetitions` จะต้องไม่เปลี่ยนแปลง"
   ]
  },
  {
   "cell_type": "code",
   "execution_count": null,
   "metadata": {
    "id": "gg2V5vgj3VT8"
   },
   "outputs": [],
   "source": [
    "# Your code here\n"
   ]
  },
  {
   "cell_type": "code",
   "execution_count": null,
   "metadata": {
    "id": "rErybrp43VT-"
   },
   "outputs": [],
   "source": [
    "# ตรวจสอบว่าทำงานถูกหรือเปล่า\n",
    "originalList = [1, 2, 2, 3, 4, 5, 5, 5]\n",
    "originalList_copy = originalList.copy()\n",
    "expectedList = [1, 2, 3, 4, 5]\n",
    "\n",
    "result = remove_repetitions(originalList)\n",
    "\n",
    "if result == expectedList and originalList == originalList_copy:\n",
    "    print('Correct!')\n",
    "else:\n",
    "    print('Incorrect')"
   ]
  },
  {
   "cell_type": "markdown",
   "metadata": {
    "id": "Crxpe8VB3VUE"
   },
   "source": [
    "## 4. Guest list  \n",
    "\n",
    "Write a function that prompt the user to input a name into a guest list and return the guest list when there are X people.\n",
    "\n",
    "```\n",
    "guest_list(2)\n",
    ">>Name: Manee\n",
    ">>Name: Malee\n",
    ">>['Manee', 'Malee']\n",
    "```"
   ]
  },
  {
   "cell_type": "code",
   "execution_count": null,
   "metadata": {
    "id": "9RsnRzM83VUE"
   },
   "outputs": [],
   "source": [
    "# Your code here\n"
   ]
  },
  {
   "cell_type": "markdown",
   "metadata": {
    "id": "_CjTm-9P3VUG"
   },
   "source": [
    "## 5. Guest substitution\n",
    "Suppose you have a name list of your friends who are coming to your birthday party, but one of your friend cannot make it. Write a function called `sub_name` that substitutes the name of a person with another person **inplace**.\n",
    "\n",
    "**Note:** The function `sub_name` should **not** return anything.\n",
    "\n",
    "\n",
    "```\n",
    "name_list = [\"Tony\",\"Elan\",\"Bee\", \"Bonus\",\"Jane\"]\n",
    "sub_name(\"Bee\",\"Thomas\", name_list)\n",
    "print(name_list)\n",
    ">>[\"Tony\",\"Elan\",\"Thomas\", \"Bonus\",\"Jane\"]\n",
    "```"
   ]
  },
  {
   "cell_type": "code",
   "execution_count": null,
   "metadata": {
    "id": "LYMD7sNQ3VUG"
   },
   "outputs": [],
   "source": [
    "# Your code here\n"
   ]
  },
  {
   "cell_type": "markdown",
   "metadata": {
    "id": "LLZJUZjR3VUI"
   },
   "source": [
    "## 6. Basic Statistics\n",
    "Write a function that gives a statistic summary of an input data. The function must be able to calculate and return the following values:\n",
    "\n",
    "*   min\n",
    "*   max\n",
    "*   range = max - min\n",
    "---\n",
    "\n",
    "\n",
    "\n",
    "After composing all the above methods, the new function stats_summary(list) should yield the following result.\n",
    "\n",
    "**Note that an input list is an unsorted list.**\n",
    "\n",
    "\n",
    "```\n",
    "score_nlps = [6, 5, 10, 8, 7, 11, 5.5, 4, 8, 9]\n",
    "stats_summary(score_nlps)\n",
    ">> Min = 4\n",
    "   Max =11\n",
    "   Range = 7\n",
    "```\n",
    "**Hint:** you should use `sorted(x)` "
   ]
  },
  {
   "cell_type": "code",
   "execution_count": null,
   "metadata": {
    "id": "5eRHsEie3VUI"
   },
   "outputs": [],
   "source": [
    "# Your code here\n"
   ]
  }
 ],
 "metadata": {
  "colab": {
   "collapsed_sections": [],
   "name": "PC5 Lists.ipynb",
   "provenance": []
  },
  "kernelspec": {
   "display_name": "Python 3 (ipykernel)",
   "language": "python",
   "name": "python3"
  },
  "language_info": {
   "codemirror_mode": {
    "name": "ipython",
    "version": 3
   },
   "file_extension": ".py",
   "mimetype": "text/x-python",
   "name": "python",
   "nbconvert_exporter": "python",
   "pygments_lexer": "ipython3",
   "version": "3.8.12"
  }
 },
 "nbformat": 4,
 "nbformat_minor": 4
}
